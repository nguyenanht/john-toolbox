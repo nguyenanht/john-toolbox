{
 "cells": [
  {
   "cell_type": "code",
   "execution_count": null,
   "id": "80db5430",
   "metadata": {},
   "outputs": [],
   "source": [
    "from john_toolbox.training.wrapper import OwnModel, CustomModel\n",
    "%load_ext autoreload\n",
    "%autoreload 2"
   ]
  },
  {
   "cell_type": "code",
   "execution_count": null,
   "id": "fd9af978",
   "metadata": {},
   "outputs": [],
   "source": [
    "own_model = OwnModel()"
   ]
  },
  {
   "cell_type": "code",
   "execution_count": null,
   "id": "1948179b",
   "metadata": {},
   "outputs": [],
   "source": [
    "custom_model = CustomModel(model=own_model, predict_proba_method=own_model.predict_proba)"
   ]
  },
  {
   "cell_type": "code",
   "execution_count": null,
   "id": "c32143ad",
   "metadata": {},
   "outputs": [],
   "source": [
    "custom_model.fit()"
   ]
  },
  {
   "cell_type": "code",
   "execution_count": null,
   "id": "9c562925",
   "metadata": {},
   "outputs": [],
   "source": [
    "custom_model.predict_proba()"
   ]
  },
  {
   "cell_type": "code",
   "execution_count": null,
   "id": "8bf87fdf",
   "metadata": {},
   "outputs": [],
   "source": []
  }
 ],
 "metadata": {
  "kernelspec": {
   "display_name": "Python 3 (ipykernel)",
   "language": "python",
   "name": "python3"
  },
  "language_info": {
   "codemirror_mode": {
    "name": "ipython",
    "version": 3
   },
   "file_extension": ".py",
   "mimetype": "text/x-python",
   "name": "python",
   "nbconvert_exporter": "python",
   "pygments_lexer": "ipython3",
   "version": "3.8.15"
  },
  "toc": {
   "base_numbering": 1,
   "nav_menu": {},
   "number_sections": true,
   "sideBar": true,
   "skip_h1_title": false,
   "title_cell": "Table of Contents",
   "title_sidebar": "Contents",
   "toc_cell": false,
   "toc_position": {},
   "toc_section_display": true,
   "toc_window_display": false
  }
 },
 "nbformat": 4,
 "nbformat_minor": 5
}
