{
 "cells": [
  {
   "cell_type": "markdown",
   "id": "under-narrow",
   "metadata": {},
   "source": [
    "# PandasPipeline & PandasTransformer"
   ]
  },
  {
   "cell_type": "markdown",
   "id": "floating-jurisdiction",
   "metadata": {},
   "source": [
    "<div class=\"alert alert-info\">\n",
    "    \n",
    "**This notebook will explain you how to use our pipeline and transformer wrapper.**\n",
    "\n",
    "    \n",
    "\n",
    "Pipeline from [sklearn](https://scikit-learn.org/stable/modules/generated/sklearn.pipeline.Pipeline.html) is an amazing way to refactor and have production ready preprocessing code.\n",
    "   \n",
    "But when you provide a pandas Dataframe to a Pipeline, it returns a numpy array.\n",
    "The PandasPipeline is a wrapper of the standard [scikit-learn Pipeline](https://scikit-learn.org/stable/modules/generated/sklearn.pipeline.Pipeline.html) and let you get a pandas DataFrame as result.\n",
    "With that, you can have more control on preprocessing steps. For example you have a step that created a new column, you can add a step that preprocess this newly created column.\n",
    "    \n",
    "</div>"
   ]
  },
  {
   "cell_type": "markdown",
   "id": "accurate-weapon",
   "metadata": {
    "toc": true
   },
   "source": [
    "<h1>Table of Contents<span class=\"tocSkip\"></span></h1>\n",
    "<div class=\"toc\"><ul class=\"toc-item\"><li><span><a href=\"#Load-data\" data-toc-modified-id=\"Load-data-1\"><span class=\"toc-item-num\">1&nbsp;&nbsp;</span>Load data</a></span></li><li><span><a href=\"#How-to-use-PandasPipeline\" data-toc-modified-id=\"How-to-use-PandasPipeline-2\"><span class=\"toc-item-num\">2&nbsp;&nbsp;</span>How to use PandasPipeline</a></span><ul class=\"toc-item\"><li><span><a href=\"#SelectColumnsTransformer\" data-toc-modified-id=\"SelectColumnsTransformer-2.1\"><span class=\"toc-item-num\">2.1&nbsp;&nbsp;</span>SelectColumnsTransformer</a></span></li><li><span><a href=\"#DropColumnsTransformer\" data-toc-modified-id=\"DropColumnsTransformer-2.2\"><span class=\"toc-item-num\">2.2&nbsp;&nbsp;</span>DropColumnsTransformer</a></span></li><li><span><a href=\"#EncoderTransformer\" data-toc-modified-id=\"EncoderTransformer-2.3\"><span class=\"toc-item-num\">2.3&nbsp;&nbsp;</span>EncoderTransformer</a></span></li><li><span><a href=\"#FunctionTransformer\" data-toc-modified-id=\"FunctionTransformer-2.4\"><span class=\"toc-item-num\">2.4&nbsp;&nbsp;</span>FunctionTransformer</a></span><ul class=\"toc-item\"><li><span><a href=\"#apply_by_multiprocessing-mode\" data-toc-modified-id=\"apply_by_multiprocessing-mode-2.4.1\"><span class=\"toc-item-num\">2.4.1&nbsp;&nbsp;</span>apply_by_multiprocessing mode</a></span></li><li><span><a href=\"#apply\" data-toc-modified-id=\"apply-2.4.2\"><span class=\"toc-item-num\">2.4.2&nbsp;&nbsp;</span>apply</a></span></li><li><span><a href=\"#vectorized-mode\" data-toc-modified-id=\"vectorized-mode-2.4.3\"><span class=\"toc-item-num\">2.4.3&nbsp;&nbsp;</span>vectorized mode</a></span></li></ul></li></ul></li></ul></div>"
   ]
  },
  {
   "cell_type": "markdown",
   "id": "proof-fisher",
   "metadata": {},
   "source": [
    "---"
   ]
  },
  {
   "cell_type": "code",
   "execution_count": null,
   "id": "incorporated-pipeline",
   "metadata": {},
   "outputs": [],
   "source": [
    "%load_ext autoreload\n",
    "%autoreload 2"
   ]
  },
  {
   "cell_type": "code",
   "execution_count": null,
   "id": "judicial-explosion",
   "metadata": {},
   "outputs": [],
   "source": [
    "import pandas as pd\n",
    "import sys\n",
    "import pandas as pd\n",
    "from sklearn.pipeline import Pipeline\n",
    "\n",
    "sys.path.append(\"..\")"
   ]
  },
  {
   "cell_type": "code",
   "execution_count": null,
   "id": "korean-folks",
   "metadata": {},
   "outputs": [],
   "source": [
    "from john_toolbox.preprocessing.pandas_transformers import (\n",
    "    SelectColumnsTransformer,\n",
    "    DebugTransformer,\n",
    "    DropColumnsTransformer,\n",
    "    EncoderTransformer,\n",
    "    FunctionTransformer\n",
    ")\n",
    "\n",
    "from john_toolbox.preprocessing.pandas_pipeline import (\n",
    "    PandasPipeline\n",
    ")"
   ]
  },
  {
   "cell_type": "markdown",
   "id": "aging-anthropology",
   "metadata": {},
   "source": [
    "<div class=\"alert alert-danger\">\n",
    "    \n",
    "Please change to logging.DEBUG if you want to track log.\n",
    "\n",
    "</div>"
   ]
  },
  {
   "cell_type": "code",
   "execution_count": null,
   "id": "raising-measure",
   "metadata": {},
   "outputs": [],
   "source": [
    "from john_toolbox.utils.logger_config import loggers\n",
    "import logging\n",
    "\n",
    "for logger in loggers:\n",
    "    loggers[logger].setLevel(logging.INFO)  # set to logging.DEBUG for debugging\n"
   ]
  },
  {
   "cell_type": "markdown",
   "id": "classified-wedding",
   "metadata": {},
   "source": [
    "## Load data"
   ]
  },
  {
   "cell_type": "markdown",
   "id": "foster-contamination",
   "metadata": {},
   "source": [
    "---"
   ]
  },
  {
   "cell_type": "code",
   "execution_count": null,
   "id": "thorough-ballet",
   "metadata": {},
   "outputs": [],
   "source": [
    "df = pd.read_csv(\"../tests/multi_class_dataset.csv\")"
   ]
  },
  {
   "cell_type": "code",
   "execution_count": null,
   "id": "narrow-bottle",
   "metadata": {},
   "outputs": [],
   "source": [
    "df.shape"
   ]
  },
  {
   "cell_type": "code",
   "execution_count": null,
   "id": "raised-heating",
   "metadata": {},
   "outputs": [],
   "source": [
    "df.head()"
   ]
  },
  {
   "cell_type": "markdown",
   "id": "accessible-general",
   "metadata": {},
   "source": [
    "## How to use PandasPipeline"
   ]
  },
  {
   "cell_type": "markdown",
   "id": "persistent-porter",
   "metadata": {},
   "source": [
    "<div class=\"alert alert-info\">\n",
    "    \n",
    "**You need to define steps with pandas transformers.**\n",
    "<br>\n",
    "    \n",
    "\n",
    "The package implements the following Pandas Transformers :\n",
    "* **SelectColumnsTransformer** : used to filter columns\n",
    "* **DropColumnsTransformer** : used to drop one or multiples columns\n",
    "* **EncoderTransformer** : used as a wrapper for encoder transformer from sklearn like LabelEncoder\n",
    "* **FunctionTransformer** : used to pass function to apply transform in column\n",
    "\n",
    "</div>"
   ]
  },
  {
   "cell_type": "markdown",
   "id": "entitled-chambers",
   "metadata": {},
   "source": [
    "---"
   ]
  },
  {
   "cell_type": "markdown",
   "id": "designing-portsmouth",
   "metadata": {},
   "source": [
    "### SelectColumnsTransformer"
   ]
  },
  {
   "cell_type": "code",
   "execution_count": null,
   "id": "delayed-standard",
   "metadata": {},
   "outputs": [],
   "source": [
    "steps = [\n",
    "    (\n",
    "        \"select_column\", SelectColumnsTransformer(\n",
    "            columns=[\"formation\", \"contenu\"])\n",
    "    ),\n",
    "]"
   ]
  },
  {
   "cell_type": "code",
   "execution_count": null,
   "id": "varying-kernel",
   "metadata": {},
   "outputs": [],
   "source": [
    "pipeline = PandasPipeline(\n",
    "    steps=steps,\n",
    "    target_name=\"formation\",\n",
    "    verbose=True\n",
    ")"
   ]
  },
  {
   "cell_type": "code",
   "execution_count": null,
   "id": "signal-optimization",
   "metadata": {},
   "outputs": [],
   "source": [
    "tmp_df = pipeline.fit_transform(df)"
   ]
  },
  {
   "cell_type": "code",
   "execution_count": null,
   "id": "defensive-burlington",
   "metadata": {},
   "outputs": [],
   "source": [
    "tmp_df.head()"
   ]
  },
  {
   "cell_type": "markdown",
   "id": "closing-bachelor",
   "metadata": {},
   "source": [
    "### DropColumnsTransformer"
   ]
  },
  {
   "cell_type": "code",
   "execution_count": null,
   "id": "aware-platform",
   "metadata": {},
   "outputs": [],
   "source": [
    "steps = [\n",
    "    (\n",
    "        \"drop_column\", DropColumnsTransformer(\n",
    "            columns_to_drop=[\"nature\", \"solution\"])\n",
    "    ),\n",
    "]"
   ]
  },
  {
   "cell_type": "code",
   "execution_count": null,
   "id": "unlimited-scenario",
   "metadata": {},
   "outputs": [],
   "source": [
    "pipeline = PandasPipeline(\n",
    "    steps=steps,\n",
    "    target_name=\"formation\",\n",
    "    verbose=True\n",
    ")"
   ]
  },
  {
   "cell_type": "code",
   "execution_count": null,
   "id": "critical-liechtenstein",
   "metadata": {},
   "outputs": [],
   "source": [
    "tmp_df = pipeline.fit_transform(df)"
   ]
  },
  {
   "cell_type": "code",
   "execution_count": null,
   "id": "sorted-cedar",
   "metadata": {},
   "outputs": [],
   "source": [
    "tmp_df.head()"
   ]
  },
  {
   "cell_type": "markdown",
   "id": "civilian-assembly",
   "metadata": {},
   "source": [
    "### EncoderTransformer"
   ]
  },
  {
   "cell_type": "code",
   "execution_count": null,
   "id": "rubber-update",
   "metadata": {},
   "outputs": [],
   "source": [
    "from sklearn.preprocessing import OneHotEncoder"
   ]
  },
  {
   "cell_type": "code",
   "execution_count": null,
   "id": "interesting-heater",
   "metadata": {},
   "outputs": [],
   "source": [
    "steps = [\n",
    "    (\n",
    "        'ohe', EncoderTransformer(\n",
    "            encoder=OneHotEncoder,\n",
    "            column=\"formation\",\n",
    "            new_cols_prefix=\"ohe\",\n",
    "            is_drop_input_col=False,\n",
    "        )\n",
    "    )\n",
    "]"
   ]
  },
  {
   "cell_type": "code",
   "execution_count": null,
   "id": "appropriate-technique",
   "metadata": {},
   "outputs": [],
   "source": [
    "pipeline = PandasPipeline(\n",
    "    steps=steps,\n",
    "    target_name=\"formation\",\n",
    "    verbose=True\n",
    ")"
   ]
  },
  {
   "cell_type": "code",
   "execution_count": null,
   "id": "bigger-agenda",
   "metadata": {
    "scrolled": false
   },
   "outputs": [],
   "source": [
    "tmp_df = pipeline.fit_transform(df)"
   ]
  },
  {
   "cell_type": "code",
   "execution_count": null,
   "id": "rental-gregory",
   "metadata": {},
   "outputs": [],
   "source": [
    "tmp_df.head()"
   ]
  },
  {
   "cell_type": "markdown",
   "id": "opponent-modem",
   "metadata": {},
   "source": [
    "### FunctionTransformer "
   ]
  },
  {
   "cell_type": "markdown",
   "id": "younger-brooks",
   "metadata": {},
   "source": [
    "The class FunctionTransformer handles function preprocessing.\n",
    "It contains 3 modes:\n",
    "- apply_by_multiprocessing : apply a function with all cpu core\n",
    "- apply : simple apply function on one column\n",
    "- vectorized : vectorized operation with pandas\n",
    "    "
   ]
  },
  {
   "cell_type": "markdown",
   "id": "imperial-shuttle",
   "metadata": {},
   "source": [
    "#### apply_by_multiprocessing mode"
   ]
  },
  {
   "cell_type": "code",
   "execution_count": null,
   "id": "miniature-arrest",
   "metadata": {},
   "outputs": [],
   "source": [
    "def add_prefix(x, prefix):\n",
    "    return x + prefix\n",
    "\n",
    "steps = [\n",
    "    (\n",
    "        \"lambda_func_by_multiprocessing\",\n",
    "        FunctionTransformer(\n",
    "            column=\"formation\",\n",
    "            mode=\"apply_by_multiprocessing\",\n",
    "            func=add_prefix,\n",
    "             dict_args={\n",
    "                 \"prefix\": \"_prefix\"\n",
    "             },\n",
    "        ),\n",
    "    ),\n",
    "]\n",
    "\n",
    "pipeline = PandasPipeline(\n",
    "    steps=steps,\n",
    "    target_name=\"formation\",\n",
    "    verbose=True\n",
    ")"
   ]
  },
  {
   "cell_type": "code",
   "execution_count": null,
   "id": "utility-logic",
   "metadata": {
    "scrolled": true
   },
   "outputs": [],
   "source": [
    "tmp_df = pipeline.fit_transform(df)"
   ]
  },
  {
   "cell_type": "markdown",
   "id": "forbidden-healthcare",
   "metadata": {},
   "source": [
    "#### apply"
   ]
  },
  {
   "cell_type": "code",
   "execution_count": null,
   "id": "mineral-senegal",
   "metadata": {},
   "outputs": [],
   "source": [
    "def add_prefix(x, prefix):\n",
    "    return x + prefix\n",
    "\n",
    "\n",
    "steps = [\n",
    "    (\n",
    "        \"lambda_func\",\n",
    "        FunctionTransformer(\n",
    "            column=\"formation\",\n",
    "            mode=\"apply\",\n",
    "            func=add_prefix,\n",
    "             dict_args={\n",
    "                 \"prefix\": \"_prefix\"\n",
    "             },\n",
    "        ),\n",
    "    ),\n",
    "]\n",
    "\n",
    "pipeline = PandasPipeline(\n",
    "    steps=steps,\n",
    "    target_name=\"formation\",\n",
    "    verbose=True\n",
    ")"
   ]
  },
  {
   "cell_type": "code",
   "execution_count": null,
   "id": "iraqi-citation",
   "metadata": {},
   "outputs": [],
   "source": [
    "tmp_df = pipeline.fit_transform(df)"
   ]
  },
  {
   "cell_type": "markdown",
   "id": "happy-forward",
   "metadata": {},
   "source": [
    "#### vectorized mode"
   ]
  },
  {
   "cell_type": "code",
   "execution_count": null,
   "id": "toxic-brief",
   "metadata": {},
   "outputs": [],
   "source": [
    "def add_prefix(df, prefix):\n",
    "    return df[\"formation\"] + prefix\n",
    "\n",
    "\n",
    "steps = [\n",
    "    (\n",
    "        \"vectorized_func\",\n",
    "        FunctionTransformer(\n",
    "            column=None,\n",
    "            mode=\"vectorized\",\n",
    "            func=add_prefix,\n",
    "             dict_args={\n",
    "                 \"prefix\": \"_prefix\"\n",
    "             },\n",
    "        ),\n",
    "    ),\n",
    "]\n",
    "\n",
    "\n",
    "pipeline = PandasPipeline(\n",
    "    steps=steps,\n",
    "    target_name=\"formation\",\n",
    "    verbose=True\n",
    ")"
   ]
  },
  {
   "cell_type": "code",
   "execution_count": null,
   "id": "korean-facing",
   "metadata": {},
   "outputs": [],
   "source": [
    "tmp_df = pipeline.fit_transform(df)"
   ]
  }
 ],
 "metadata": {
  "kernelspec": {
   "display_name": "Python 3",
   "language": "python",
   "name": "python3"
  },
  "language_info": {
   "codemirror_mode": {
    "name": "ipython",
    "version": 3
   },
   "file_extension": ".py",
   "mimetype": "text/x-python",
   "name": "python",
   "nbconvert_exporter": "python",
   "pygments_lexer": "ipython3",
   "version": "3.7.9"
  },
  "toc": {
   "base_numbering": 1,
   "nav_menu": {},
   "number_sections": true,
   "sideBar": true,
   "skip_h1_title": true,
   "title_cell": "Table of Contents",
   "title_sidebar": "Contents",
   "toc_cell": true,
   "toc_position": {},
   "toc_section_display": true,
   "toc_window_display": true
  }
 },
 "nbformat": 4,
 "nbformat_minor": 5
}
