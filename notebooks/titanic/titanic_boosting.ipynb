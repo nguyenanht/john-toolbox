{
 "cells": [
  {
   "cell_type": "markdown",
   "id": "941dfb59",
   "metadata": {},
   "source": [
    "<div class=\"alert alert-info\">It is a end to end tutorial to see how you can preprocess the data and use data science plot to evaluate the model\n",
    "    </div>"
   ]
  },
  {
   "cell_type": "code",
   "execution_count": 1,
   "id": "0489b951",
   "metadata": {},
   "outputs": [],
   "source": [
    "import pandas as pd\n",
    "import numpy as np\n",
    "from xgboost import XGBClassifier\n",
    "\n",
    "%load_ext autoreload\n",
    "%autoreload 2"
   ]
  },
  {
   "cell_type": "markdown",
   "id": "ca626f76-579c-42c2-b8c1-25a619f30d59",
   "metadata": {},
   "source": [
    "# Load data"
   ]
  },
  {
   "cell_type": "code",
   "execution_count": 2,
   "id": "f7218f90",
   "metadata": {},
   "outputs": [],
   "source": [
    "train = pd.read_csv(\"../../data/titanic/train.csv\")\n",
    "test = pd.read_csv(\"../../data/titanic/test.csv\")"
   ]
  },
  {
   "cell_type": "code",
   "execution_count": 3,
   "id": "2a7183f1",
   "metadata": {},
   "outputs": [
    {
     "data": {
      "text/html": [
       "<div>\n",
       "<style scoped>\n",
       "    .dataframe tbody tr th:only-of-type {\n",
       "        vertical-align: middle;\n",
       "    }\n",
       "\n",
       "    .dataframe tbody tr th {\n",
       "        vertical-align: top;\n",
       "    }\n",
       "\n",
       "    .dataframe thead th {\n",
       "        text-align: right;\n",
       "    }\n",
       "</style>\n",
       "<table border=\"1\" class=\"dataframe\">\n",
       "  <thead>\n",
       "    <tr style=\"text-align: right;\">\n",
       "      <th></th>\n",
       "      <th>PassengerId</th>\n",
       "      <th>Survived</th>\n",
       "      <th>Pclass</th>\n",
       "      <th>Name</th>\n",
       "      <th>Sex</th>\n",
       "      <th>Age</th>\n",
       "      <th>SibSp</th>\n",
       "      <th>Parch</th>\n",
       "      <th>Ticket</th>\n",
       "      <th>Fare</th>\n",
       "      <th>Cabin</th>\n",
       "      <th>Embarked</th>\n",
       "    </tr>\n",
       "  </thead>\n",
       "  <tbody>\n",
       "    <tr>\n",
       "      <th>0</th>\n",
       "      <td>1</td>\n",
       "      <td>0</td>\n",
       "      <td>3</td>\n",
       "      <td>Braund, Mr. Owen Harris</td>\n",
       "      <td>male</td>\n",
       "      <td>22.0</td>\n",
       "      <td>1</td>\n",
       "      <td>0</td>\n",
       "      <td>A/5 21171</td>\n",
       "      <td>7.2500</td>\n",
       "      <td>NaN</td>\n",
       "      <td>S</td>\n",
       "    </tr>\n",
       "    <tr>\n",
       "      <th>1</th>\n",
       "      <td>2</td>\n",
       "      <td>1</td>\n",
       "      <td>1</td>\n",
       "      <td>Cumings, Mrs. John Bradley (Florence Briggs Th...</td>\n",
       "      <td>female</td>\n",
       "      <td>38.0</td>\n",
       "      <td>1</td>\n",
       "      <td>0</td>\n",
       "      <td>PC 17599</td>\n",
       "      <td>71.2833</td>\n",
       "      <td>C85</td>\n",
       "      <td>C</td>\n",
       "    </tr>\n",
       "    <tr>\n",
       "      <th>2</th>\n",
       "      <td>3</td>\n",
       "      <td>1</td>\n",
       "      <td>3</td>\n",
       "      <td>Heikkinen, Miss. Laina</td>\n",
       "      <td>female</td>\n",
       "      <td>26.0</td>\n",
       "      <td>0</td>\n",
       "      <td>0</td>\n",
       "      <td>STON/O2. 3101282</td>\n",
       "      <td>7.9250</td>\n",
       "      <td>NaN</td>\n",
       "      <td>S</td>\n",
       "    </tr>\n",
       "    <tr>\n",
       "      <th>3</th>\n",
       "      <td>4</td>\n",
       "      <td>1</td>\n",
       "      <td>1</td>\n",
       "      <td>Futrelle, Mrs. Jacques Heath (Lily May Peel)</td>\n",
       "      <td>female</td>\n",
       "      <td>35.0</td>\n",
       "      <td>1</td>\n",
       "      <td>0</td>\n",
       "      <td>113803</td>\n",
       "      <td>53.1000</td>\n",
       "      <td>C123</td>\n",
       "      <td>S</td>\n",
       "    </tr>\n",
       "    <tr>\n",
       "      <th>4</th>\n",
       "      <td>5</td>\n",
       "      <td>0</td>\n",
       "      <td>3</td>\n",
       "      <td>Allen, Mr. William Henry</td>\n",
       "      <td>male</td>\n",
       "      <td>35.0</td>\n",
       "      <td>0</td>\n",
       "      <td>0</td>\n",
       "      <td>373450</td>\n",
       "      <td>8.0500</td>\n",
       "      <td>NaN</td>\n",
       "      <td>S</td>\n",
       "    </tr>\n",
       "  </tbody>\n",
       "</table>\n",
       "</div>"
      ],
      "text/plain": [
       "   PassengerId  Survived  Pclass  \\\n",
       "0            1         0       3   \n",
       "1            2         1       1   \n",
       "2            3         1       3   \n",
       "3            4         1       1   \n",
       "4            5         0       3   \n",
       "\n",
       "                                                Name     Sex   Age  SibSp  \\\n",
       "0                            Braund, Mr. Owen Harris    male  22.0      1   \n",
       "1  Cumings, Mrs. John Bradley (Florence Briggs Th...  female  38.0      1   \n",
       "2                             Heikkinen, Miss. Laina  female  26.0      0   \n",
       "3       Futrelle, Mrs. Jacques Heath (Lily May Peel)  female  35.0      1   \n",
       "4                           Allen, Mr. William Henry    male  35.0      0   \n",
       "\n",
       "   Parch            Ticket     Fare Cabin Embarked  \n",
       "0      0         A/5 21171   7.2500   NaN        S  \n",
       "1      0          PC 17599  71.2833   C85        C  \n",
       "2      0  STON/O2. 3101282   7.9250   NaN        S  \n",
       "3      0            113803  53.1000  C123        S  \n",
       "4      0            373450   8.0500   NaN        S  "
      ]
     },
     "execution_count": 3,
     "metadata": {},
     "output_type": "execute_result"
    }
   ],
   "source": [
    "train.head()"
   ]
  },
  {
   "cell_type": "markdown",
   "id": "d0ed5b8a-349c-4d48-86de-818083c9c9e2",
   "metadata": {},
   "source": [
    "# Data Viz"
   ]
  },
  {
   "cell_type": "code",
   "execution_count": 4,
   "id": "c0ab32fa",
   "metadata": {
    "scrolled": true
   },
   "outputs": [],
   "source": [
    "# from dataprep.eda import create_report\n",
    "\n",
    "# create_report(train).show()"
   ]
  },
  {
   "cell_type": "code",
   "execution_count": 5,
   "id": "45e1e49e",
   "metadata": {},
   "outputs": [
    {
     "data": {
      "text/plain": [
       "Index(['PassengerId', 'Survived', 'Pclass', 'Name', 'Sex', 'Age', 'SibSp',\n",
       "       'Parch', 'Ticket', 'Fare', 'Cabin', 'Embarked'],\n",
       "      dtype='object')"
      ]
     },
     "execution_count": 5,
     "metadata": {},
     "output_type": "execute_result"
    }
   ],
   "source": [
    "train.columns"
   ]
  },
  {
   "cell_type": "code",
   "execution_count": 6,
   "id": "6c37fb3e",
   "metadata": {},
   "outputs": [],
   "source": [
    "# from dataprep.eda import plot, plot_correlation, plot_missing\n",
    "\n",
    "# plot(train, \"Pclass\", \"Survived\")"
   ]
  },
  {
   "cell_type": "code",
   "execution_count": 7,
   "id": "47841bd9",
   "metadata": {},
   "outputs": [],
   "source": [
    "# plot(train,\"Survived\", \"Pclass\")"
   ]
  },
  {
   "cell_type": "code",
   "execution_count": 8,
   "id": "fc05f569",
   "metadata": {},
   "outputs": [],
   "source": [
    "# plot(train,\"Survived\", \"Pclass\")"
   ]
  },
  {
   "cell_type": "markdown",
   "id": "b40e6c50-9a58-4106-98c5-00231915eee6",
   "metadata": {},
   "source": [
    "# Train test split"
   ]
  },
  {
   "cell_type": "code",
   "execution_count": 9,
   "id": "f70265e3-b2c8-40c6-be43-aef651b214a6",
   "metadata": {},
   "outputs": [],
   "source": [
    "target_name = \"Survived\""
   ]
  },
  {
   "cell_type": "code",
   "execution_count": 10,
   "id": "c0e2e124-af88-48df-9da8-9bf8c01b93ac",
   "metadata": {},
   "outputs": [],
   "source": [
    "def extract_X_y(df, target_name):\n",
    "    X = df[[col for col in df.columns if col != target_name]]\n",
    "    y = df[[target_name]]\n",
    "    return X, y"
   ]
  },
  {
   "cell_type": "code",
   "execution_count": 11,
   "id": "d29f9c1a",
   "metadata": {},
   "outputs": [],
   "source": [
    "from sklearn.model_selection import train_test_split"
   ]
  },
  {
   "cell_type": "code",
   "execution_count": 12,
   "id": "99ae0224",
   "metadata": {},
   "outputs": [],
   "source": [
    "X, y = extract_X_y(train, target_name)\n",
    "\n",
    "X_train, X_valid, y_train, y_valid = train_test_split(\n",
    "    X, y,  test_size=0.2, random_state=42, shuffle=True, stratify=y)"
   ]
  },
  {
   "cell_type": "code",
   "execution_count": 13,
   "id": "0007710a",
   "metadata": {},
   "outputs": [
    {
     "data": {
      "text/html": [
       "<div>\n",
       "<style scoped>\n",
       "    .dataframe tbody tr th:only-of-type {\n",
       "        vertical-align: middle;\n",
       "    }\n",
       "\n",
       "    .dataframe tbody tr th {\n",
       "        vertical-align: top;\n",
       "    }\n",
       "\n",
       "    .dataframe thead th {\n",
       "        text-align: right;\n",
       "    }\n",
       "</style>\n",
       "<table border=\"1\" class=\"dataframe\">\n",
       "  <thead>\n",
       "    <tr style=\"text-align: right;\">\n",
       "      <th></th>\n",
       "      <th>PassengerId</th>\n",
       "      <th>Survived</th>\n",
       "      <th>Pclass</th>\n",
       "      <th>Name</th>\n",
       "      <th>Sex</th>\n",
       "      <th>Age</th>\n",
       "      <th>SibSp</th>\n",
       "      <th>Parch</th>\n",
       "      <th>Ticket</th>\n",
       "      <th>Fare</th>\n",
       "      <th>Cabin</th>\n",
       "      <th>Embarked</th>\n",
       "    </tr>\n",
       "  </thead>\n",
       "  <tbody>\n",
       "    <tr>\n",
       "      <th>0</th>\n",
       "      <td>1</td>\n",
       "      <td>0</td>\n",
       "      <td>3</td>\n",
       "      <td>Braund, Mr. Owen Harris</td>\n",
       "      <td>male</td>\n",
       "      <td>22.0</td>\n",
       "      <td>1</td>\n",
       "      <td>0</td>\n",
       "      <td>A/5 21171</td>\n",
       "      <td>7.2500</td>\n",
       "      <td>NaN</td>\n",
       "      <td>S</td>\n",
       "    </tr>\n",
       "    <tr>\n",
       "      <th>1</th>\n",
       "      <td>2</td>\n",
       "      <td>1</td>\n",
       "      <td>1</td>\n",
       "      <td>Cumings, Mrs. John Bradley (Florence Briggs Th...</td>\n",
       "      <td>female</td>\n",
       "      <td>38.0</td>\n",
       "      <td>1</td>\n",
       "      <td>0</td>\n",
       "      <td>PC 17599</td>\n",
       "      <td>71.2833</td>\n",
       "      <td>C85</td>\n",
       "      <td>C</td>\n",
       "    </tr>\n",
       "    <tr>\n",
       "      <th>2</th>\n",
       "      <td>3</td>\n",
       "      <td>1</td>\n",
       "      <td>3</td>\n",
       "      <td>Heikkinen, Miss. Laina</td>\n",
       "      <td>female</td>\n",
       "      <td>26.0</td>\n",
       "      <td>0</td>\n",
       "      <td>0</td>\n",
       "      <td>STON/O2. 3101282</td>\n",
       "      <td>7.9250</td>\n",
       "      <td>NaN</td>\n",
       "      <td>S</td>\n",
       "    </tr>\n",
       "    <tr>\n",
       "      <th>3</th>\n",
       "      <td>4</td>\n",
       "      <td>1</td>\n",
       "      <td>1</td>\n",
       "      <td>Futrelle, Mrs. Jacques Heath (Lily May Peel)</td>\n",
       "      <td>female</td>\n",
       "      <td>35.0</td>\n",
       "      <td>1</td>\n",
       "      <td>0</td>\n",
       "      <td>113803</td>\n",
       "      <td>53.1000</td>\n",
       "      <td>C123</td>\n",
       "      <td>S</td>\n",
       "    </tr>\n",
       "    <tr>\n",
       "      <th>4</th>\n",
       "      <td>5</td>\n",
       "      <td>0</td>\n",
       "      <td>3</td>\n",
       "      <td>Allen, Mr. William Henry</td>\n",
       "      <td>male</td>\n",
       "      <td>35.0</td>\n",
       "      <td>0</td>\n",
       "      <td>0</td>\n",
       "      <td>373450</td>\n",
       "      <td>8.0500</td>\n",
       "      <td>NaN</td>\n",
       "      <td>S</td>\n",
       "    </tr>\n",
       "  </tbody>\n",
       "</table>\n",
       "</div>"
      ],
      "text/plain": [
       "   PassengerId  Survived  Pclass  \\\n",
       "0            1         0       3   \n",
       "1            2         1       1   \n",
       "2            3         1       3   \n",
       "3            4         1       1   \n",
       "4            5         0       3   \n",
       "\n",
       "                                                Name     Sex   Age  SibSp  \\\n",
       "0                            Braund, Mr. Owen Harris    male  22.0      1   \n",
       "1  Cumings, Mrs. John Bradley (Florence Briggs Th...  female  38.0      1   \n",
       "2                             Heikkinen, Miss. Laina  female  26.0      0   \n",
       "3       Futrelle, Mrs. Jacques Heath (Lily May Peel)  female  35.0      1   \n",
       "4                           Allen, Mr. William Henry    male  35.0      0   \n",
       "\n",
       "   Parch            Ticket     Fare Cabin Embarked  \n",
       "0      0         A/5 21171   7.2500   NaN        S  \n",
       "1      0          PC 17599  71.2833   C85        C  \n",
       "2      0  STON/O2. 3101282   7.9250   NaN        S  \n",
       "3      0            113803  53.1000  C123        S  \n",
       "4      0            373450   8.0500   NaN        S  "
      ]
     },
     "execution_count": 13,
     "metadata": {},
     "output_type": "execute_result"
    }
   ],
   "source": [
    "train.head()"
   ]
  },
  {
   "cell_type": "markdown",
   "id": "05052ee8",
   "metadata": {},
   "source": [
    "# Boosting"
   ]
  },
  {
   "cell_type": "markdown",
   "id": "e1b4adde-c03d-488e-9e22-ed3fabd07db4",
   "metadata": {},
   "source": [
    "## XGBoost"
   ]
  },
  {
   "cell_type": "markdown",
   "id": "b157c09e",
   "metadata": {},
   "source": [
    "<div class=\"alert alert-info\">\n",
    "XGBoost has become in 2017-2018 a widely used and really popular tool among Kaggle competitors and Data Scientists in industry, as it has been battle tested for production on large-scale problems. It is a highly flexible and versatile tool that can work through most regression, classification and ranking problems as well as user-built objective functions. As an open-source software.\n",
    "    \n",
    "https://www.kdnuggets.com/2017/10/xgboost-top-machine-learning-method-kaggle-explained.html\n",
    "    \n",
    "    \n",
    "But it can suffer from overfitting with small dataset.\n",
    "    \n",
    "Please refer to these links : \n",
    "- https://machinelearningmastery.com/gentle-introduction-xgboost-applied-machine-learning/\n",
    "- https://towardsdatascience.com/xgboost-mathematics-explained-58262530904a\n",
    "</div>"
   ]
  },
  {
   "cell_type": "markdown",
   "id": "ab498b4d",
   "metadata": {},
   "source": [
    "### Preprocessing"
   ]
  },
  {
   "cell_type": "code",
   "execution_count": 14,
   "id": "d785290b",
   "metadata": {},
   "outputs": [],
   "source": [
    "from john_toolbox.preprocessing.pandas_pipeline import PandasPipeline\n",
    "from src.xgboost.preprocessing import (\n",
    "    conformity_column_list,\n",
    "    data_cleaning_list,\n",
    "    encoder_list\n",
    ")"
   ]
  },
  {
   "cell_type": "markdown",
   "id": "f879d15e-4c77-4a8c-9c6a-e821fd6af9eb",
   "metadata": {},
   "source": [
    "#### Define PandasPipeline"
   ]
  },
  {
   "cell_type": "code",
   "execution_count": 15,
   "id": "92e90d36",
   "metadata": {
    "cell_style": "center"
   },
   "outputs": [],
   "source": [
    "step_list = conformity_column_list + data_cleaning_list + encoder_list\n",
    "\n",
    "pipeline = PandasPipeline(\n",
    "    steps=step_list, target_name=target_name, verbose=True)"
   ]
  },
  {
   "cell_type": "markdown",
   "id": "206a23c9-c476-46ba-9b09-f40ec56cba4b",
   "metadata": {},
   "source": [
    "#### Fit transform"
   ]
  },
  {
   "cell_type": "code",
   "execution_count": 16,
   "id": "9e5fb0a8",
   "metadata": {
    "cell_style": "center"
   },
   "outputs": [
    {
     "name": "stdout",
     "output_type": "stream",
     "text": [
      "[Pipeline] ...... (step 1 of 9) Processing DROP columns, total=   0.0s\n",
      "[Pipeline]  (step 2 of 9) Processing CAST Embarked to str, total=   0.0s\n",
      "[Pipeline] ... (step 3 of 9) Processing CAST Sex to str, total=   0.0s\n",
      "[Pipeline] . (step 4 of 9) Processing CAST Cabin to str, total=   0.0s\n",
      "[Pipeline] .. (step 5 of 9) Processing Imputer_mean_Age, total=   0.0s\n",
      "[Pipeline] . (step 6 of 9) Processing Fillna by unknown, total=   0.0s\n",
      "[Pipeline] ............... (step 7 of 9) Processing OHE, total=   0.0s\n",
      "[Pipeline] ...... (step 8 of 9) Processing OHE Embarked, total=   0.0s\n",
      "[Pipeline]  (step 9 of 9) Processing OrdinalEncoder Cabin, total=   0.0s\n"
     ]
    }
   ],
   "source": [
    "train_transformed = pipeline.fit_transform(\n",
    "    df=pd.concat([X_train, y_train], axis=1))\n",
    "\n",
    "X_train, y_train = extract_X_y(train_transformed, target_name)"
   ]
  },
  {
   "cell_type": "code",
   "execution_count": 17,
   "id": "eda69df6-c9e9-4e28-b413-44a55e14cb26",
   "metadata": {},
   "outputs": [
    {
     "data": {
      "text/html": [
       "<div>\n",
       "<style scoped>\n",
       "    .dataframe tbody tr th:only-of-type {\n",
       "        vertical-align: middle;\n",
       "    }\n",
       "\n",
       "    .dataframe tbody tr th {\n",
       "        vertical-align: top;\n",
       "    }\n",
       "\n",
       "    .dataframe thead th {\n",
       "        text-align: right;\n",
       "    }\n",
       "</style>\n",
       "<table border=\"1\" class=\"dataframe\">\n",
       "  <thead>\n",
       "    <tr style=\"text-align: right;\">\n",
       "      <th></th>\n",
       "      <th>PassengerId</th>\n",
       "      <th>Pclass</th>\n",
       "      <th>SibSp</th>\n",
       "      <th>Parch</th>\n",
       "      <th>Fare</th>\n",
       "      <th>Age</th>\n",
       "      <th>OHE_Sex_female</th>\n",
       "      <th>OHE_Sex_male</th>\n",
       "      <th>OHE_Embarked_C</th>\n",
       "      <th>OHE_Embarked_Q</th>\n",
       "      <th>OHE_Embarked_S</th>\n",
       "      <th>OHE_Embarked_nan</th>\n",
       "      <th>Cabin</th>\n",
       "    </tr>\n",
       "  </thead>\n",
       "  <tbody>\n",
       "    <tr>\n",
       "      <th>692</th>\n",
       "      <td>693</td>\n",
       "      <td>3</td>\n",
       "      <td>0</td>\n",
       "      <td>0</td>\n",
       "      <td>56.4958</td>\n",
       "      <td>29.807687</td>\n",
       "      <td>0.0</td>\n",
       "      <td>1.0</td>\n",
       "      <td>0.0</td>\n",
       "      <td>0.0</td>\n",
       "      <td>1.0</td>\n",
       "      <td>0.0</td>\n",
       "      <td>127.0</td>\n",
       "    </tr>\n",
       "    <tr>\n",
       "      <th>481</th>\n",
       "      <td>482</td>\n",
       "      <td>2</td>\n",
       "      <td>0</td>\n",
       "      <td>0</td>\n",
       "      <td>0.0000</td>\n",
       "      <td>29.807687</td>\n",
       "      <td>0.0</td>\n",
       "      <td>1.0</td>\n",
       "      <td>0.0</td>\n",
       "      <td>0.0</td>\n",
       "      <td>1.0</td>\n",
       "      <td>0.0</td>\n",
       "      <td>127.0</td>\n",
       "    </tr>\n",
       "    <tr>\n",
       "      <th>527</th>\n",
       "      <td>528</td>\n",
       "      <td>1</td>\n",
       "      <td>0</td>\n",
       "      <td>0</td>\n",
       "      <td>221.7792</td>\n",
       "      <td>29.807687</td>\n",
       "      <td>0.0</td>\n",
       "      <td>1.0</td>\n",
       "      <td>0.0</td>\n",
       "      <td>0.0</td>\n",
       "      <td>1.0</td>\n",
       "      <td>0.0</td>\n",
       "      <td>76.0</td>\n",
       "    </tr>\n",
       "    <tr>\n",
       "      <th>855</th>\n",
       "      <td>856</td>\n",
       "      <td>3</td>\n",
       "      <td>0</td>\n",
       "      <td>1</td>\n",
       "      <td>9.3500</td>\n",
       "      <td>18.000000</td>\n",
       "      <td>1.0</td>\n",
       "      <td>0.0</td>\n",
       "      <td>0.0</td>\n",
       "      <td>0.0</td>\n",
       "      <td>1.0</td>\n",
       "      <td>0.0</td>\n",
       "      <td>127.0</td>\n",
       "    </tr>\n",
       "    <tr>\n",
       "      <th>801</th>\n",
       "      <td>802</td>\n",
       "      <td>2</td>\n",
       "      <td>1</td>\n",
       "      <td>1</td>\n",
       "      <td>26.2500</td>\n",
       "      <td>31.000000</td>\n",
       "      <td>1.0</td>\n",
       "      <td>0.0</td>\n",
       "      <td>0.0</td>\n",
       "      <td>0.0</td>\n",
       "      <td>1.0</td>\n",
       "      <td>0.0</td>\n",
       "      <td>127.0</td>\n",
       "    </tr>\n",
       "  </tbody>\n",
       "</table>\n",
       "</div>"
      ],
      "text/plain": [
       "     PassengerId  Pclass  SibSp  Parch      Fare        Age  OHE_Sex_female  \\\n",
       "692          693       3      0      0   56.4958  29.807687             0.0   \n",
       "481          482       2      0      0    0.0000  29.807687             0.0   \n",
       "527          528       1      0      0  221.7792  29.807687             0.0   \n",
       "855          856       3      0      1    9.3500  18.000000             1.0   \n",
       "801          802       2      1      1   26.2500  31.000000             1.0   \n",
       "\n",
       "     OHE_Sex_male  OHE_Embarked_C  OHE_Embarked_Q  OHE_Embarked_S  \\\n",
       "692           1.0             0.0             0.0             1.0   \n",
       "481           1.0             0.0             0.0             1.0   \n",
       "527           1.0             0.0             0.0             1.0   \n",
       "855           0.0             0.0             0.0             1.0   \n",
       "801           0.0             0.0             0.0             1.0   \n",
       "\n",
       "     OHE_Embarked_nan  Cabin  \n",
       "692               0.0  127.0  \n",
       "481               0.0  127.0  \n",
       "527               0.0   76.0  \n",
       "855               0.0  127.0  \n",
       "801               0.0  127.0  "
      ]
     },
     "execution_count": 17,
     "metadata": {},
     "output_type": "execute_result"
    }
   ],
   "source": [
    "X_train.head()"
   ]
  },
  {
   "cell_type": "code",
   "execution_count": 18,
   "id": "99bbd10e",
   "metadata": {},
   "outputs": [],
   "source": [
    "valid_transformed = pipeline.transform(\n",
    "    df=pd.concat([X_valid, y_valid], axis=1))\n",
    "\n",
    "X_valid, y_valid = extract_X_y(valid_transformed, target_name)"
   ]
  },
  {
   "cell_type": "markdown",
   "id": "3f5aa742-c3a3-4273-afac-696cf9ccd90c",
   "metadata": {},
   "source": [
    "### TRAIN with XGB"
   ]
  },
  {
   "cell_type": "code",
   "execution_count": 19,
   "id": "549b8977-3ba8-4d5e-81fc-1d9b8fdac69d",
   "metadata": {},
   "outputs": [],
   "source": [
    "# https://www.kaggle.com/prashant111/a-guide-on-xgboost-hyperparameters-tuning\n",
    "# https://xgboost.readthedocs.io/en/latest/parameter.html"
   ]
  },
  {
   "cell_type": "code",
   "execution_count": 20,
   "id": "fbf0af03",
   "metadata": {},
   "outputs": [
    {
     "data": {
      "text/plain": [
       "0    0.616162\n",
       "1    0.383838\n",
       "Name: Survived, dtype: float64"
      ]
     },
     "execution_count": 20,
     "metadata": {},
     "output_type": "execute_result"
    }
   ],
   "source": [
    "train.Survived.value_counts(normalize=True)"
   ]
  },
  {
   "cell_type": "code",
   "execution_count": 21,
   "id": "898ab4d8",
   "metadata": {},
   "outputs": [],
   "source": [
    "from xgboost import XGBClassifier\n",
    "\n",
    "params = {\n",
    "    \"booster\": \"gbtree\", # default\n",
    "    \"n_estimators\": 900,\n",
    "    \"max_depth\": 6,\n",
    "    \"min_child_weight\": 1,\n",
    "    \"eta\":0.1,\n",
    "    \"scale_pos_weight\": 1,\n",
    "    \"subsample\": 0.8,\n",
    "    \"colsample_bytree\": 1,\n",
    "    \"random_state\": 42,\n",
    "    \"n_jobs\": -1,\n",
    "    \"missing\": -1\n",
    "    \n",
    "}\n",
    "xgb = XGBClassifier(**params)"
   ]
  },
  {
   "cell_type": "code",
   "execution_count": 22,
   "id": "f2f15c62",
   "metadata": {
    "scrolled": true,
    "tags": []
   },
   "outputs": [
    {
     "name": "stderr",
     "output_type": "stream",
     "text": [
      "/work/.cache/poetry/john-toolbox-DJpFP61h-py3.8/lib/python3.8/site-packages/xgboost/sklearn.py:1146: UserWarning: The use of label encoder in XGBClassifier is deprecated and will be removed in a future release. To remove this warning, do the following: 1) Pass option use_label_encoder=False when constructing XGBClassifier object; and 2) Encode your labels (y) as integers starting with 0, i.e. 0, 1, 2, ..., [num_class - 1].\n",
      "  warnings.warn(label_encoder_deprecation_msg, UserWarning)\n"
     ]
    },
    {
     "name": "stdout",
     "output_type": "stream",
     "text": [
      "[0]\tvalidation_0-logloss:0.64261\tvalidation_0-auc:0.88347\tvalidation_1-logloss:0.65319\tvalidation_1-auc:0.80402\n",
      "[1]\tvalidation_0-logloss:0.59726\tvalidation_0-auc:0.89872\tvalidation_1-logloss:0.62033\tvalidation_1-auc:0.80600\n",
      "[2]\tvalidation_0-logloss:0.56017\tvalidation_0-auc:0.90743\tvalidation_1-logloss:0.59815\tvalidation_1-auc:0.80422\n",
      "[3]\tvalidation_0-logloss:0.52947\tvalidation_0-auc:0.91896\tvalidation_1-logloss:0.57908\tvalidation_1-auc:0.81047\n",
      "[4]\tvalidation_0-logloss:0.50242\tvalidation_0-auc:0.92493\tvalidation_1-logloss:0.56406\tvalidation_1-auc:0.80665\n",
      "[5]\tvalidation_0-logloss:0.47926\tvalidation_0-auc:0.92471\tvalidation_1-logloss:0.55164\tvalidation_1-auc:0.80415\n",
      "[6]\tvalidation_0-logloss:0.45655\tvalidation_0-auc:0.92606\tvalidation_1-logloss:0.53784\tvalidation_1-auc:0.80870\n",
      "[7]\tvalidation_0-logloss:0.43619\tvalidation_0-auc:0.92988\tvalidation_1-logloss:0.53044\tvalidation_1-auc:0.80316\n",
      "[8]\tvalidation_0-logloss:0.41877\tvalidation_0-auc:0.93106\tvalidation_1-logloss:0.52116\tvalidation_1-auc:0.81080\n",
      "[9]\tvalidation_0-logloss:0.40278\tvalidation_0-auc:0.93704\tvalidation_1-logloss:0.51338\tvalidation_1-auc:0.82187\n",
      "[10]\tvalidation_0-logloss:0.39007\tvalidation_0-auc:0.94076\tvalidation_1-logloss:0.50876\tvalidation_1-auc:0.82187\n",
      "[11]\tvalidation_0-logloss:0.37788\tvalidation_0-auc:0.94233\tvalidation_1-logloss:0.50534\tvalidation_1-auc:0.82161\n",
      "[12]\tvalidation_0-logloss:0.36760\tvalidation_0-auc:0.94443\tvalidation_1-logloss:0.49683\tvalidation_1-auc:0.82978\n",
      "[13]\tvalidation_0-logloss:0.35823\tvalidation_0-auc:0.94511\tvalidation_1-logloss:0.49373\tvalidation_1-auc:0.82727\n",
      "[14]\tvalidation_0-logloss:0.34815\tvalidation_0-auc:0.94735\tvalidation_1-logloss:0.48963\tvalidation_1-auc:0.83083\n",
      "[15]\tvalidation_0-logloss:0.33982\tvalidation_0-auc:0.95039\tvalidation_1-logloss:0.48799\tvalidation_1-auc:0.83511\n",
      "[16]\tvalidation_0-logloss:0.33169\tvalidation_0-auc:0.95309\tvalidation_1-logloss:0.49149\tvalidation_1-auc:0.82378\n",
      "[17]\tvalidation_0-logloss:0.32486\tvalidation_0-auc:0.95336\tvalidation_1-logloss:0.49132\tvalidation_1-auc:0.82365\n",
      "[18]\tvalidation_0-logloss:0.31851\tvalidation_0-auc:0.95380\tvalidation_1-logloss:0.49183\tvalidation_1-auc:0.82128\n",
      "[19]\tvalidation_0-logloss:0.31164\tvalidation_0-auc:0.95716\tvalidation_1-logloss:0.49237\tvalidation_1-auc:0.81851\n",
      "[20]\tvalidation_0-logloss:0.30562\tvalidation_0-auc:0.95962\tvalidation_1-logloss:0.49354\tvalidation_1-auc:0.81337\n",
      "[21]\tvalidation_0-logloss:0.30121\tvalidation_0-auc:0.96027\tvalidation_1-logloss:0.49476\tvalidation_1-auc:0.81647\n",
      "[22]\tvalidation_0-logloss:0.29628\tvalidation_0-auc:0.96177\tvalidation_1-logloss:0.49635\tvalidation_1-auc:0.81041\n",
      "[23]\tvalidation_0-logloss:0.29072\tvalidation_0-auc:0.96256\tvalidation_1-logloss:0.49770\tvalidation_1-auc:0.80982\n",
      "[24]\tvalidation_0-logloss:0.28597\tvalidation_0-auc:0.96288\tvalidation_1-logloss:0.49497\tvalidation_1-auc:0.81153\n",
      "[25]\tvalidation_0-logloss:0.27942\tvalidation_0-auc:0.96589\tvalidation_1-logloss:0.49681\tvalidation_1-auc:0.81205\n",
      "[26]\tvalidation_0-logloss:0.27571\tvalidation_0-auc:0.96657\tvalidation_1-logloss:0.49958\tvalidation_1-auc:0.81153\n",
      "[27]\tvalidation_0-logloss:0.27121\tvalidation_0-auc:0.96710\tvalidation_1-logloss:0.50105\tvalidation_1-auc:0.81192\n",
      "[28]\tvalidation_0-logloss:0.26859\tvalidation_0-auc:0.96769\tvalidation_1-logloss:0.50374\tvalidation_1-auc:0.80935\n",
      "[29]\tvalidation_0-logloss:0.26453\tvalidation_0-auc:0.96941\tvalidation_1-logloss:0.50347\tvalidation_1-auc:0.81041\n",
      "[30]\tvalidation_0-logloss:0.26160\tvalidation_0-auc:0.97040\tvalidation_1-logloss:0.50520\tvalidation_1-auc:0.80909\n",
      "[31]\tvalidation_0-logloss:0.25917\tvalidation_0-auc:0.97080\tvalidation_1-logloss:0.50814\tvalidation_1-auc:0.80949\n",
      "[32]\tvalidation_0-logloss:0.25578\tvalidation_0-auc:0.97176\tvalidation_1-logloss:0.50896\tvalidation_1-auc:0.80935\n",
      "[33]\tvalidation_0-logloss:0.25323\tvalidation_0-auc:0.97194\tvalidation_1-logloss:0.50731\tvalidation_1-auc:0.81133\n",
      "[34]\tvalidation_0-logloss:0.24965\tvalidation_0-auc:0.97298\tvalidation_1-logloss:0.51053\tvalidation_1-auc:0.80975\n",
      "[35]\tvalidation_0-logloss:0.24519\tvalidation_0-auc:0.97417\tvalidation_1-logloss:0.51071\tvalidation_1-auc:0.80922\n",
      "[36]\tvalidation_0-logloss:0.24197\tvalidation_0-auc:0.97502\tvalidation_1-logloss:0.51390\tvalidation_1-auc:0.80830\n",
      "[37]\tvalidation_0-logloss:0.23949\tvalidation_0-auc:0.97548\tvalidation_1-logloss:0.51529\tvalidation_1-auc:0.81067\n",
      "[38]\tvalidation_0-logloss:0.23630\tvalidation_0-auc:0.97647\tvalidation_1-logloss:0.51832\tvalidation_1-auc:0.80856\n",
      "[39]\tvalidation_0-logloss:0.23437\tvalidation_0-auc:0.97693\tvalidation_1-logloss:0.51972\tvalidation_1-auc:0.80949\n",
      "[40]\tvalidation_0-logloss:0.23211\tvalidation_0-auc:0.97780\tvalidation_1-logloss:0.51881\tvalidation_1-auc:0.81028\n",
      "[41]\tvalidation_0-logloss:0.22975\tvalidation_0-auc:0.97855\tvalidation_1-logloss:0.51964\tvalidation_1-auc:0.81080\n",
      "[42]\tvalidation_0-logloss:0.22815\tvalidation_0-auc:0.97910\tvalidation_1-logloss:0.51886\tvalidation_1-auc:0.81146\n",
      "[43]\tvalidation_0-logloss:0.22643\tvalidation_0-auc:0.97943\tvalidation_1-logloss:0.51922\tvalidation_1-auc:0.81225\n",
      "[44]\tvalidation_0-logloss:0.22406\tvalidation_0-auc:0.98033\tvalidation_1-logloss:0.52202\tvalidation_1-auc:0.81225\n"
     ]
    },
    {
     "data": {
      "text/plain": [
       "XGBClassifier(base_score=0.5, booster='gbtree', colsample_bylevel=1,\n",
       "              colsample_bynode=1, colsample_bytree=1, eta=0.1, gamma=0,\n",
       "              gpu_id=-1, importance_type='gain', interaction_constraints='',\n",
       "              learning_rate=0.100000001, max_delta_step=0, max_depth=6,\n",
       "              min_child_weight=1, missing=-1, monotone_constraints='()',\n",
       "              n_estimators=900, n_jobs=-1, num_parallel_tree=1, random_state=42,\n",
       "              reg_alpha=0, reg_lambda=1, scale_pos_weight=1, subsample=0.8,\n",
       "              tree_method='exact', validate_parameters=1, verbosity=None)"
      ]
     },
     "execution_count": 22,
     "metadata": {},
     "output_type": "execute_result"
    }
   ],
   "source": [
    "eval_metric = [\"logloss\", \"auc\"]\n",
    "eval_names = [\"train\", \"valid\"]\n",
    "\n",
    "xgb.fit(\n",
    "    X_train,\n",
    "    y_train.to_numpy().reshape(-1),\n",
    "    early_stopping_rounds=30,\n",
    "    eval_set=[(X_train, y_train.to_numpy().reshape(-1)), (X_valid, y_valid.to_numpy().reshape(-1))],\n",
    "    eval_metric=eval_metric,\n",
    "    verbose=True\n",
    ")"
   ]
  },
  {
   "cell_type": "code",
   "execution_count": 23,
   "id": "733400bf-f3c3-49f9-86dc-cabad7c8c440",
   "metadata": {},
   "outputs": [
    {
     "name": "stdout",
     "output_type": "stream",
     "text": [
      "dict_keys(['validation_0', 'validation_1'])\n"
     ]
    }
   ],
   "source": [
    "results = xgb.evals_result()\n",
    "print(results.keys())"
   ]
  },
  {
   "cell_type": "markdown",
   "id": "876d553a",
   "metadata": {},
   "source": [
    "## Catboost"
   ]
  },
  {
   "cell_type": "markdown",
   "id": "e45acfd6",
   "metadata": {},
   "source": [
    "Catboost is newer and has the advantage to handle natively categorical column. So no need to do one hot encoding. It Reduce overfitting when constructing the models with a novel gradient-boosting scheme.\n",
    "It can be used in GPU mode.\n",
    "- https://towardsdatascience.com/catboost-vs-light-gbm-vs-xgboost-5f93620723db\n",
    "- https://catboost.ai/#benchmark\n",
    "- https://github.com/catboost/tutorials\n",
    "- https://www.kaggle.com/mitribunskiy/tutorial-catboost-overview"
   ]
  },
  {
   "cell_type": "code",
   "execution_count": null,
   "id": "b9c74433",
   "metadata": {},
   "outputs": [],
   "source": []
  },
  {
   "cell_type": "code",
   "execution_count": null,
   "id": "18ba58f0",
   "metadata": {},
   "outputs": [],
   "source": []
  },
  {
   "cell_type": "markdown",
   "id": "ba67cf0c-cb30-4a8f-a23c-1c6ebc398b89",
   "metadata": {},
   "source": [
    "# Evaluation"
   ]
  },
  {
   "cell_type": "code",
   "execution_count": 24,
   "id": "38edc8c6-153e-4192-9b47-951a1884aeda",
   "metadata": {},
   "outputs": [],
   "source": [
    "from john_toolbox.evaluation.visualisation import (\n",
    "    plot_auc_curves,\n",
    "    plot_classification_report,\n",
    "    compare_eval_result_xgb,\n",
    "    plot_cm,\n",
    ")"
   ]
  },
  {
   "cell_type": "markdown",
   "id": "84d99768-3837-487e-a25f-7906b48f829e",
   "metadata": {},
   "source": [
    "## Analyse training eval_metric"
   ]
  },
  {
   "cell_type": "code",
   "execution_count": 25,
   "id": "5c8c1242-750e-48e3-9966-ff2558f422ae",
   "metadata": {},
   "outputs": [
    {
     "name": "stdout",
     "output_type": "stream",
     "text": [
      "eval_names : ['train', 'valid'], eval_metric :  ['logloss', 'auc']\n"
     ]
    },
    {
     "data": {
      "image/png": "[encoded data removed]",
      "text/plain": [
       "<Figure size 720x288 with 1 Axes>"
      ]
     },
     "metadata": {},
     "output_type": "display_data"
    },
    {
     "data": {
      "image/png": "[encoded data removed]",
      "text/plain": [
       "<Figure size 720x288 with 1 Axes>"
      ]
     },
     "metadata": {},
     "output_type": "display_data"
    }
   ],
   "source": [
    "print(f\"eval_names : {eval_names}, eval_metric :  {eval_metric}\")\n",
    "\n",
    "compare_eval_result_xgb(\n",
    "    xgb,\n",
    "    eval_names=eval_names,\n",
    "    eval_metrics=eval_metric,\n",
    "    size=(10, 4)\n",
    ")"
   ]
  },
  {
   "cell_type": "markdown",
   "id": "7d13fccf-01ee-4c3a-baa9-dc34d2421175",
   "metadata": {},
   "source": [
    "## Evaluate valid set"
   ]
  },
  {
   "cell_type": "code",
   "execution_count": 26,
   "id": "7fe3b3b2",
   "metadata": {},
   "outputs": [],
   "source": [
    "y_pred_valid_prob = xgb.predict_proba(X_valid)[:, 1]"
   ]
  },
  {
   "cell_type": "markdown",
   "id": "45c2e795",
   "metadata": {},
   "source": [
    "### Get best threshold"
   ]
  },
  {
   "cell_type": "markdown",
   "id": "767ce2ea",
   "metadata": {},
   "source": [
    "#### Optimize with the default value roc_curve or prauc_curve"
   ]
  },
  {
   "cell_type": "code",
   "execution_count": 27,
   "id": "397ac181",
   "metadata": {},
   "outputs": [
    {
     "name": "stdout",
     "output_type": "stream",
     "text": [
      "Best Threshold to maximize roc_curve=0.501921\n",
      "Best Threshold to maximize prauc_curve=0.353509, F-Score=0.71724\n"
     ]
    }
   ],
   "source": [
    "from john_toolbox.evaluation.metrics import get_optimal_threshold\n",
    "\n",
    "roc_curve_tresh = get_optimal_threshold(y_valid, y_pred_valid_prob, \"roc_curve\")\n",
    "prauc_curve_tresh = get_optimal_threshold(y_valid, y_pred_valid_prob, \"prauc_curve\")"
   ]
  },
  {
   "cell_type": "markdown",
   "id": "89cf1ea0",
   "metadata": {},
   "source": [
    "#### Optimize with custom metric function"
   ]
  },
  {
   "cell_type": "code",
   "execution_count": 28,
   "id": "f28eb80c",
   "metadata": {},
   "outputs": [
    {
     "name": "stdout",
     "output_type": "stream",
     "text": [
      "Best Threshold to maximize f1_score=0.501000, f1_score=0.71429\n"
     ]
    }
   ],
   "source": [
    "from sklearn.metrics import f1_score\n",
    "\n",
    "custom_tresh = get_optimal_threshold(y_valid, y_pred_valid_prob, metric_func=f1_score, is_maximize=True)"
   ]
  },
  {
   "cell_type": "code",
   "execution_count": 29,
   "id": "4e38bce3-76d6-4673-8f45-1782ba86ad6b",
   "metadata": {},
   "outputs": [],
   "source": [
    "from john_toolbox.evaluation.metrics import to_labels\n",
    "\n",
    "y_pred_valid = to_labels(y_pred_valid_prob, roc_curve_tresh) # roc_curve_tresh, prauc_curve_tresh, custom_tresh"
   ]
  },
  {
   "cell_type": "code",
   "execution_count": 30,
   "id": "cdad3f46-969c-41ea-bd90-6c2bdd70b3f5",
   "metadata": {},
   "outputs": [
    {
     "data": {
      "image/png": "[encoded data removed]",
      "text/plain": [
       "<Figure size 360x360 with 2 Axes>"
      ]
     },
     "metadata": {},
     "output_type": "display_data"
    }
   ],
   "source": [
    "plot_cm(y_valid, y_pred_valid, figsize=(5, 5))"
   ]
  },
  {
   "cell_type": "code",
   "execution_count": 31,
   "id": "ef97bd73-0044-4fd0-8acb-573c99b47dcf",
   "metadata": {
    "tags": []
   },
   "outputs": [
    {
     "data": {
      "image/png": "[encoded data removed]",
      "text/plain": [
       "<Figure size 360x360 with 1 Axes>"
      ]
     },
     "metadata": {},
     "output_type": "display_data"
    }
   ],
   "source": [
    "plot_classification_report(y_valid, y_pred_valid, size=(5, 5))"
   ]
  },
  {
   "cell_type": "code",
   "execution_count": 32,
   "id": "64c46999-8505-46b6-b318-9195049327a3",
   "metadata": {},
   "outputs": [
    {
     "data": {
      "image/png": "[encoded data removed]",
      "text/plain": [
       "<Figure size 432x288 with 1 Axes>"
      ]
     },
     "metadata": {},
     "output_type": "display_data"
    }
   ],
   "source": [
    "plot_auc_curves(y_valid, y_pred_valid)"
   ]
  },
  {
   "cell_type": "markdown",
   "id": "3faaf595",
   "metadata": {},
   "source": [
    "## Evaluate train set"
   ]
  },
  {
   "cell_type": "code",
   "execution_count": 33,
   "id": "0b03c08f",
   "metadata": {},
   "outputs": [],
   "source": [
    "y_pred_train_prob = xgb.predict_proba(X_train)[:, 1]\n",
    "y_pred_train = to_labels(y_pred_train_prob, roc_curve_tresh) # roc_curve_tresh, prauc_curve_tresh, custom_tresh"
   ]
  },
  {
   "cell_type": "markdown",
   "id": "29c551ac",
   "metadata": {},
   "source": [
    "### Confusion matrix"
   ]
  },
  {
   "cell_type": "code",
   "execution_count": 34,
   "id": "6ebe6f4b",
   "metadata": {},
   "outputs": [
    {
     "data": {
      "image/png": "[encoded data removed]",
      "text/plain": [
       "<Figure size 360x360 with 2 Axes>"
      ]
     },
     "metadata": {},
     "output_type": "display_data"
    }
   ],
   "source": [
    "# https://www.kaggle.com/agungor2/various-confusion-matrix-plots\n",
    "plot_cm(y_train, y_pred_train, figsize=(5, 5))"
   ]
  },
  {
   "cell_type": "markdown",
   "id": "3a33cf76",
   "metadata": {},
   "source": [
    "### classification_report"
   ]
  },
  {
   "cell_type": "code",
   "execution_count": 35,
   "id": "7b197e4c",
   "metadata": {},
   "outputs": [
    {
     "data": {
      "image/png": "[encoded data removed]",
      "text/plain": [
       "<Figure size 360x360 with 1 Axes>"
      ]
     },
     "metadata": {},
     "output_type": "display_data"
    }
   ],
   "source": [
    "plot_classification_report(y_train, y_pred_train, size=(5, 5))"
   ]
  },
  {
   "cell_type": "code",
   "execution_count": 36,
   "id": "1e3f570a",
   "metadata": {},
   "outputs": [
    {
     "data": {
      "image/png": "[encoded data removed]",
      "text/plain": [
       "<Figure size 432x288 with 1 Axes>"
      ]
     },
     "metadata": {},
     "output_type": "display_data"
    }
   ],
   "source": [
    "plot_auc_curves(y_train, y_pred_train)"
   ]
  },
  {
   "cell_type": "markdown",
   "id": "f9918c52-1024-4242-9358-9cc00a2063b8",
   "metadata": {},
   "source": [
    "# Prediction"
   ]
  },
  {
   "cell_type": "code",
   "execution_count": 37,
   "id": "5d63a599",
   "metadata": {
    "tags": []
   },
   "outputs": [],
   "source": [
    "test_transformed = pipeline.transform(test)\n",
    "X_test = test_transformed[[col for col in train_transformed.columns if col != \"Survived\"]]"
   ]
  },
  {
   "cell_type": "code",
   "execution_count": 38,
   "id": "9a90b7e2",
   "metadata": {
    "tags": []
   },
   "outputs": [],
   "source": [
    "y_preds = to_labels(xgb.predict_proba(X_test)[:, 1], roc_curve_tresh) # roc_curve_tresh, prauc_curve_tresh, custom_tresh)"
   ]
  },
  {
   "cell_type": "code",
   "execution_count": 39,
   "id": "9f5263aa",
   "metadata": {},
   "outputs": [],
   "source": [
    "output = pd.DataFrame({'PassengerId': X_test.PassengerId, 'Survived': y_preds})\n",
    "output.to_csv('my_submission.csv', index=False)"
   ]
  }
 ],
 "metadata": {
  "kernelspec": {
   "display_name": "Python 3 (ipykernel)",
   "language": "python",
   "name": "python3"
  },
  "language_info": {
   "codemirror_mode": {
    "name": "ipython",
    "version": 3
   },
   "file_extension": ".py",
   "mimetype": "text/x-python",
   "name": "python",
   "nbconvert_exporter": "python",
   "pygments_lexer": "ipython3",
   "version": "3.8.0"
  },
  "toc": {
   "base_numbering": 1,
   "nav_menu": {},
   "number_sections": true,
   "sideBar": true,
   "skip_h1_title": false,
   "title_cell": "Table of Contents",
   "title_sidebar": "Contents",
   "toc_cell": false,
   "toc_position": {},
   "toc_section_display": true,
   "toc_window_display": true
  },
  "toc-autonumbering": true,
  "toc-showmarkdowntxt": false,
  "toc-showtags": false
 },
 "nbformat": 4,
 "nbformat_minor": 5
}
