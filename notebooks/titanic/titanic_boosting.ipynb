{
 "cells": [
  {
   "cell_type": "markdown",
   "id": "941dfb59",
   "metadata": {},
   "source": [
    "<div class=\"alert alert-info\">It is a end to end tutorial to see how you can preprocess the data and use data science plot to evaluate the model\n",
    "    </div>"
   ]
  },
  {
   "cell_type": "code",
   "execution_count": 1,
   "id": "0489b951",
   "metadata": {},
   "outputs": [],
   "source": [
    "import pandas as pd\n",
    "import numpy as np\n",
    "from xgboost import XGBClassifier\n",
    "\n",
    "%load_ext autoreload\n",
    "%autoreload 2"
   ]
  },
  {
   "cell_type": "markdown",
   "id": "ca626f76-579c-42c2-b8c1-25a619f30d59",
   "metadata": {},
   "source": [
    "# Load data"
   ]
  },
  {
   "cell_type": "code",
   "execution_count": 2,
   "id": "f7218f90",
   "metadata": {},
   "outputs": [],
   "source": [
    "train = pd.read_csv(\"../../data/titanic/train.csv\")\n",
    "test = pd.read_csv(\"../../data/titanic/test.csv\")"
   ]
  },
  {
   "cell_type": "code",
   "execution_count": 3,
   "id": "2a7183f1",
   "metadata": {},
   "outputs": [
    {
     "data": {
      "text/html": [
       "<div>\n",
       "<style scoped>\n",
       "    .dataframe tbody tr th:only-of-type {\n",
       "        vertical-align: middle;\n",
       "    }\n",
       "\n",
       "    .dataframe tbody tr th {\n",
       "        vertical-align: top;\n",
       "    }\n",
       "\n",
       "    .dataframe thead th {\n",
       "        text-align: right;\n",
       "    }\n",
       "</style>\n",
       "<table border=\"1\" class=\"dataframe\">\n",
       "  <thead>\n",
       "    <tr style=\"text-align: right;\">\n",
       "      <th></th>\n",
       "      <th>PassengerId</th>\n",
       "      <th>Survived</th>\n",
       "      <th>Pclass</th>\n",
       "      <th>Name</th>\n",
       "      <th>Sex</th>\n",
       "      <th>Age</th>\n",
       "      <th>SibSp</th>\n",
       "      <th>Parch</th>\n",
       "      <th>Ticket</th>\n",
       "      <th>Fare</th>\n",
       "      <th>Cabin</th>\n",
       "      <th>Embarked</th>\n",
       "    </tr>\n",
       "  </thead>\n",
       "  <tbody>\n",
       "    <tr>\n",
       "      <th>0</th>\n",
       "      <td>1</td>\n",
       "      <td>0</td>\n",
       "      <td>3</td>\n",
       "      <td>Braund, Mr. Owen Harris</td>\n",
       "      <td>male</td>\n",
       "      <td>22.0</td>\n",
       "      <td>1</td>\n",
       "      <td>0</td>\n",
       "      <td>A/5 21171</td>\n",
       "      <td>7.2500</td>\n",
       "      <td>NaN</td>\n",
       "      <td>S</td>\n",
       "    </tr>\n",
       "    <tr>\n",
       "      <th>1</th>\n",
       "      <td>2</td>\n",
       "      <td>1</td>\n",
       "      <td>1</td>\n",
       "      <td>Cumings, Mrs. John Bradley (Florence Briggs Th...</td>\n",
       "      <td>female</td>\n",
       "      <td>38.0</td>\n",
       "      <td>1</td>\n",
       "      <td>0</td>\n",
       "      <td>PC 17599</td>\n",
       "      <td>71.2833</td>\n",
       "      <td>C85</td>\n",
       "      <td>C</td>\n",
       "    </tr>\n",
       "    <tr>\n",
       "      <th>2</th>\n",
       "      <td>3</td>\n",
       "      <td>1</td>\n",
       "      <td>3</td>\n",
       "      <td>Heikkinen, Miss. Laina</td>\n",
       "      <td>female</td>\n",
       "      <td>26.0</td>\n",
       "      <td>0</td>\n",
       "      <td>0</td>\n",
       "      <td>STON/O2. 3101282</td>\n",
       "      <td>7.9250</td>\n",
       "      <td>NaN</td>\n",
       "      <td>S</td>\n",
       "    </tr>\n",
       "    <tr>\n",
       "      <th>3</th>\n",
       "      <td>4</td>\n",
       "      <td>1</td>\n",
       "      <td>1</td>\n",
       "      <td>Futrelle, Mrs. Jacques Heath (Lily May Peel)</td>\n",
       "      <td>female</td>\n",
       "      <td>35.0</td>\n",
       "      <td>1</td>\n",
       "      <td>0</td>\n",
       "      <td>113803</td>\n",
       "      <td>53.1000</td>\n",
       "      <td>C123</td>\n",
       "      <td>S</td>\n",
       "    </tr>\n",
       "    <tr>\n",
       "      <th>4</th>\n",
       "      <td>5</td>\n",
       "      <td>0</td>\n",
       "      <td>3</td>\n",
       "      <td>Allen, Mr. William Henry</td>\n",
       "      <td>male</td>\n",
       "      <td>35.0</td>\n",
       "      <td>0</td>\n",
       "      <td>0</td>\n",
       "      <td>373450</td>\n",
       "      <td>8.0500</td>\n",
       "      <td>NaN</td>\n",
       "      <td>S</td>\n",
       "    </tr>\n",
       "  </tbody>\n",
       "</table>\n",
       "</div>"
      ],
      "text/plain": [
       "   PassengerId  Survived  Pclass  \\\n",
       "0            1         0       3   \n",
       "1            2         1       1   \n",
       "2            3         1       3   \n",
       "3            4         1       1   \n",
       "4            5         0       3   \n",
       "\n",
       "                                                Name     Sex   Age  SibSp  \\\n",
       "0                            Braund, Mr. Owen Harris    male  22.0      1   \n",
       "1  Cumings, Mrs. John Bradley (Florence Briggs Th...  female  38.0      1   \n",
       "2                             Heikkinen, Miss. Laina  female  26.0      0   \n",
       "3       Futrelle, Mrs. Jacques Heath (Lily May Peel)  female  35.0      1   \n",
       "4                           Allen, Mr. William Henry    male  35.0      0   \n",
       "\n",
       "   Parch            Ticket     Fare Cabin Embarked  \n",
       "0      0         A/5 21171   7.2500   NaN        S  \n",
       "1      0          PC 17599  71.2833   C85        C  \n",
       "2      0  STON/O2. 3101282   7.9250   NaN        S  \n",
       "3      0            113803  53.1000  C123        S  \n",
       "4      0            373450   8.0500   NaN        S  "
      ]
     },
     "execution_count": 3,
     "metadata": {},
     "output_type": "execute_result"
    }
   ],
   "source": [
    "train.head()"
   ]
  },
  {
   "cell_type": "markdown",
   "id": "d0ed5b8a-349c-4d48-86de-818083c9c9e2",
   "metadata": {},
   "source": [
    "# Data Viz"
   ]
  },
  {
   "cell_type": "code",
   "execution_count": 4,
   "id": "c0ab32fa",
   "metadata": {
    "scrolled": true
   },
   "outputs": [],
   "source": [
    "# from dataprep.eda import create_report\n",
    "\n",
    "# create_report(train).show()"
   ]
  },
  {
   "cell_type": "code",
   "execution_count": 5,
   "id": "45e1e49e",
   "metadata": {},
   "outputs": [
    {
     "data": {
      "text/plain": [
       "Index(['PassengerId', 'Survived', 'Pclass', 'Name', 'Sex', 'Age', 'SibSp',\n",
       "       'Parch', 'Ticket', 'Fare', 'Cabin', 'Embarked'],\n",
       "      dtype='object')"
      ]
     },
     "execution_count": 5,
     "metadata": {},
     "output_type": "execute_result"
    }
   ],
   "source": [
    "train.columns"
   ]
  },
  {
   "cell_type": "code",
   "execution_count": 6,
   "id": "6c37fb3e",
   "metadata": {},
   "outputs": [],
   "source": [
    "# from dataprep.eda import plot, plot_correlation, plot_missing\n",
    "\n",
    "# plot(train, \"Pclass\", \"Survived\")"
   ]
  },
  {
   "cell_type": "code",
   "execution_count": 7,
   "id": "47841bd9",
   "metadata": {},
   "outputs": [],
   "source": [
    "# plot(train,\"Survived\", \"Pclass\")"
   ]
  },
  {
   "cell_type": "code",
   "execution_count": 8,
   "id": "fc05f569",
   "metadata": {},
   "outputs": [],
   "source": [
    "# plot(train,\"Survived\", \"Pclass\")"
   ]
  },
  {
   "cell_type": "markdown",
   "id": "b40e6c50-9a58-4106-98c5-00231915eee6",
   "metadata": {},
   "source": [
    "# Train test split"
   ]
  },
  {
   "cell_type": "code",
   "execution_count": 9,
   "id": "f70265e3-b2c8-40c6-be43-aef651b214a6",
   "metadata": {},
   "outputs": [],
   "source": [
    "target_name = \"Survived\""
   ]
  },
  {
   "cell_type": "code",
   "execution_count": 10,
   "id": "c0e2e124-af88-48df-9da8-9bf8c01b93ac",
   "metadata": {},
   "outputs": [],
   "source": [
    "def extract_X_y(df, target_name):\n",
    "    X = df[[col for col in df.columns if col != target_name]]\n",
    "    y = df[[target_name]]\n",
    "    return X, y"
   ]
  },
  {
   "cell_type": "code",
   "execution_count": 11,
   "id": "d29f9c1a",
   "metadata": {},
   "outputs": [],
   "source": [
    "from sklearn.model_selection import train_test_split"
   ]
  },
  {
   "cell_type": "code",
   "execution_count": 12,
   "id": "99ae0224",
   "metadata": {},
   "outputs": [],
   "source": [
    "X, y = extract_X_y(train, target_name)\n",
    "\n",
    "X_train, X_valid, y_train, y_valid = train_test_split(\n",
    "    X, y,  test_size=0.2, random_state=42, shuffle=True, stratify=y)"
   ]
  },
  {
   "cell_type": "code",
   "execution_count": 13,
   "id": "0007710a",
   "metadata": {},
   "outputs": [
    {
     "data": {
      "text/html": [
       "<div>\n",
       "<style scoped>\n",
       "    .dataframe tbody tr th:only-of-type {\n",
       "        vertical-align: middle;\n",
       "    }\n",
       "\n",
       "    .dataframe tbody tr th {\n",
       "        vertical-align: top;\n",
       "    }\n",
       "\n",
       "    .dataframe thead th {\n",
       "        text-align: right;\n",
       "    }\n",
       "</style>\n",
       "<table border=\"1\" class=\"dataframe\">\n",
       "  <thead>\n",
       "    <tr style=\"text-align: right;\">\n",
       "      <th></th>\n",
       "      <th>PassengerId</th>\n",
       "      <th>Survived</th>\n",
       "      <th>Pclass</th>\n",
       "      <th>Name</th>\n",
       "      <th>Sex</th>\n",
       "      <th>Age</th>\n",
       "      <th>SibSp</th>\n",
       "      <th>Parch</th>\n",
       "      <th>Ticket</th>\n",
       "      <th>Fare</th>\n",
       "      <th>Cabin</th>\n",
       "      <th>Embarked</th>\n",
       "    </tr>\n",
       "  </thead>\n",
       "  <tbody>\n",
       "    <tr>\n",
       "      <th>0</th>\n",
       "      <td>1</td>\n",
       "      <td>0</td>\n",
       "      <td>3</td>\n",
       "      <td>Braund, Mr. Owen Harris</td>\n",
       "      <td>male</td>\n",
       "      <td>22.0</td>\n",
       "      <td>1</td>\n",
       "      <td>0</td>\n",
       "      <td>A/5 21171</td>\n",
       "      <td>7.2500</td>\n",
       "      <td>NaN</td>\n",
       "      <td>S</td>\n",
       "    </tr>\n",
       "    <tr>\n",
       "      <th>1</th>\n",
       "      <td>2</td>\n",
       "      <td>1</td>\n",
       "      <td>1</td>\n",
       "      <td>Cumings, Mrs. John Bradley (Florence Briggs Th...</td>\n",
       "      <td>female</td>\n",
       "      <td>38.0</td>\n",
       "      <td>1</td>\n",
       "      <td>0</td>\n",
       "      <td>PC 17599</td>\n",
       "      <td>71.2833</td>\n",
       "      <td>C85</td>\n",
       "      <td>C</td>\n",
       "    </tr>\n",
       "    <tr>\n",
       "      <th>2</th>\n",
       "      <td>3</td>\n",
       "      <td>1</td>\n",
       "      <td>3</td>\n",
       "      <td>Heikkinen, Miss. Laina</td>\n",
       "      <td>female</td>\n",
       "      <td>26.0</td>\n",
       "      <td>0</td>\n",
       "      <td>0</td>\n",
       "      <td>STON/O2. 3101282</td>\n",
       "      <td>7.9250</td>\n",
       "      <td>NaN</td>\n",
       "      <td>S</td>\n",
       "    </tr>\n",
       "    <tr>\n",
       "      <th>3</th>\n",
       "      <td>4</td>\n",
       "      <td>1</td>\n",
       "      <td>1</td>\n",
       "      <td>Futrelle, Mrs. Jacques Heath (Lily May Peel)</td>\n",
       "      <td>female</td>\n",
       "      <td>35.0</td>\n",
       "      <td>1</td>\n",
       "      <td>0</td>\n",
       "      <td>113803</td>\n",
       "      <td>53.1000</td>\n",
       "      <td>C123</td>\n",
       "      <td>S</td>\n",
       "    </tr>\n",
       "    <tr>\n",
       "      <th>4</th>\n",
       "      <td>5</td>\n",
       "      <td>0</td>\n",
       "      <td>3</td>\n",
       "      <td>Allen, Mr. William Henry</td>\n",
       "      <td>male</td>\n",
       "      <td>35.0</td>\n",
       "      <td>0</td>\n",
       "      <td>0</td>\n",
       "      <td>373450</td>\n",
       "      <td>8.0500</td>\n",
       "      <td>NaN</td>\n",
       "      <td>S</td>\n",
       "    </tr>\n",
       "  </tbody>\n",
       "</table>\n",
       "</div>"
      ],
      "text/plain": [
       "   PassengerId  Survived  Pclass  \\\n",
       "0            1         0       3   \n",
       "1            2         1       1   \n",
       "2            3         1       3   \n",
       "3            4         1       1   \n",
       "4            5         0       3   \n",
       "\n",
       "                                                Name     Sex   Age  SibSp  \\\n",
       "0                            Braund, Mr. Owen Harris    male  22.0      1   \n",
       "1  Cumings, Mrs. John Bradley (Florence Briggs Th...  female  38.0      1   \n",
       "2                             Heikkinen, Miss. Laina  female  26.0      0   \n",
       "3       Futrelle, Mrs. Jacques Heath (Lily May Peel)  female  35.0      1   \n",
       "4                           Allen, Mr. William Henry    male  35.0      0   \n",
       "\n",
       "   Parch            Ticket     Fare Cabin Embarked  \n",
       "0      0         A/5 21171   7.2500   NaN        S  \n",
       "1      0          PC 17599  71.2833   C85        C  \n",
       "2      0  STON/O2. 3101282   7.9250   NaN        S  \n",
       "3      0            113803  53.1000  C123        S  \n",
       "4      0            373450   8.0500   NaN        S  "
      ]
     },
     "execution_count": 13,
     "metadata": {},
     "output_type": "execute_result"
    }
   ],
   "source": [
    "train.head()"
   ]
  },
  {
   "cell_type": "markdown",
   "id": "05052ee8",
   "metadata": {},
   "source": [
    "# Boosting"
   ]
  },
  {
   "cell_type": "markdown",
   "id": "e1b4adde-c03d-488e-9e22-ed3fabd07db4",
   "metadata": {},
   "source": [
    "## XGBoost"
   ]
  },
  {
   "cell_type": "markdown",
   "id": "b157c09e",
   "metadata": {},
   "source": [
    "<div class=\"alert alert-info\">\n",
    "XGBoost has become in 2017-2018 a widely used and really popular tool among Kaggle competitors and Data Scientists in industry, as it has been battle tested for production on large-scale problems. It is a highly flexible and versatile tool that can work through most regression, classification and ranking problems as well as user-built objective functions. As an open-source software.\n",
    "    \n",
    "https://www.kdnuggets.com/2017/10/xgboost-top-machine-learning-method-kaggle-explained.html\n",
    "    \n",
    "    \n",
    "But it can suffer from overfitting with small dataset.\n",
    "    \n",
    "Please refer to these links : \n",
    "- https://machinelearningmastery.com/gentle-introduction-xgboost-applied-machine-learning/\n",
    "- https://towardsdatascience.com/xgboost-mathematics-explained-58262530904a\n",
    "</div>"
   ]
  },
  {
   "cell_type": "markdown",
   "id": "ab498b4d",
   "metadata": {},
   "source": [
    "### Preprocessing"
   ]
  },
  {
   "cell_type": "code",
   "execution_count": 14,
   "id": "d785290b",
   "metadata": {},
   "outputs": [],
   "source": [
    "from john_toolbox.preprocessing.pandas_pipeline import PandasPipeline\n",
    "from src.xgboost.preprocessing import (\n",
    "    conformity_column_list,\n",
    "    data_cleaning_list,\n",
    "    encoder_list\n",
    ")"
   ]
  },
  {
   "cell_type": "markdown",
   "id": "f879d15e-4c77-4a8c-9c6a-e821fd6af9eb",
   "metadata": {},
   "source": [
    "#### Define PandasPipeline"
   ]
  },
  {
   "cell_type": "code",
   "execution_count": 15,
   "id": "92e90d36",
   "metadata": {
    "cell_style": "center"
   },
   "outputs": [],
   "source": [
    "step_list = conformity_column_list + data_cleaning_list + encoder_list\n",
    "\n",
    "pipeline = PandasPipeline(\n",
    "    steps=step_list, target_name=target_name, verbose=True)"
   ]
  },
  {
   "cell_type": "markdown",
   "id": "206a23c9-c476-46ba-9b09-f40ec56cba4b",
   "metadata": {},
   "source": [
    "#### Fit transform"
   ]
  },
  {
   "cell_type": "code",
   "execution_count": 16,
   "id": "9e5fb0a8",
   "metadata": {
    "cell_style": "center"
   },
   "outputs": [
    {
     "name": "stdout",
     "output_type": "stream",
     "text": [
      "[Pipeline] ...... (step 1 of 9) Processing DROP columns, total=   0.0s\n",
      "[Pipeline]  (step 2 of 9) Processing CAST Embarked to str, total=   0.0s\n",
      "[Pipeline] ... (step 3 of 9) Processing CAST Sex to str, total=   0.0s\n",
      "[Pipeline] . (step 4 of 9) Processing CAST Cabin to str, total=   0.0s\n",
      "[Pipeline] .. (step 5 of 9) Processing Imputer_mean_Age, total=   0.0s\n",
      "[Pipeline] . (step 6 of 9) Processing Fillna by unknown, total=   0.0s\n",
      "[Pipeline] ............... (step 7 of 9) Processing OHE, total=   0.0s\n",
      "[Pipeline] ...... (step 8 of 9) Processing OHE Embarked, total=   0.0s\n",
      "[Pipeline]  (step 9 of 9) Processing OrdinalEncoder Cabin, total=   0.0s\n"
     ]
    }
   ],
   "source": [
    "train_transformed = pipeline.fit_transform(\n",
    "    df=pd.concat([X_train, y_train], axis=1))\n",
    "\n",
    "X_train, y_train = extract_X_y(train_transformed, target_name)"
   ]
  },
  {
   "cell_type": "code",
   "execution_count": 17,
   "id": "eda69df6-c9e9-4e28-b413-44a55e14cb26",
   "metadata": {},
   "outputs": [
    {
     "data": {
      "text/html": [
       "<div>\n",
       "<style scoped>\n",
       "    .dataframe tbody tr th:only-of-type {\n",
       "        vertical-align: middle;\n",
       "    }\n",
       "\n",
       "    .dataframe tbody tr th {\n",
       "        vertical-align: top;\n",
       "    }\n",
       "\n",
       "    .dataframe thead th {\n",
       "        text-align: right;\n",
       "    }\n",
       "</style>\n",
       "<table border=\"1\" class=\"dataframe\">\n",
       "  <thead>\n",
       "    <tr style=\"text-align: right;\">\n",
       "      <th></th>\n",
       "      <th>PassengerId</th>\n",
       "      <th>Pclass</th>\n",
       "      <th>SibSp</th>\n",
       "      <th>Parch</th>\n",
       "      <th>Fare</th>\n",
       "      <th>Age</th>\n",
       "      <th>OHE_Sex_female</th>\n",
       "      <th>OHE_Sex_male</th>\n",
       "      <th>OHE_Embarked_C</th>\n",
       "      <th>OHE_Embarked_Q</th>\n",
       "      <th>OHE_Embarked_S</th>\n",
       "      <th>OHE_Embarked_nan</th>\n",
       "      <th>Cabin</th>\n",
       "    </tr>\n",
       "  </thead>\n",
       "  <tbody>\n",
       "    <tr>\n",
       "      <th>692</th>\n",
       "      <td>693</td>\n",
       "      <td>3</td>\n",
       "      <td>0</td>\n",
       "      <td>0</td>\n",
       "      <td>56.4958</td>\n",
       "      <td>29.807687</td>\n",
       "      <td>0.0</td>\n",
       "      <td>1.0</td>\n",
       "      <td>0.0</td>\n",
       "      <td>0.0</td>\n",
       "      <td>1.0</td>\n",
       "      <td>0.0</td>\n",
       "      <td>127.0</td>\n",
       "    </tr>\n",
       "    <tr>\n",
       "      <th>481</th>\n",
       "      <td>482</td>\n",
       "      <td>2</td>\n",
       "      <td>0</td>\n",
       "      <td>0</td>\n",
       "      <td>0.0000</td>\n",
       "      <td>29.807687</td>\n",
       "      <td>0.0</td>\n",
       "      <td>1.0</td>\n",
       "      <td>0.0</td>\n",
       "      <td>0.0</td>\n",
       "      <td>1.0</td>\n",
       "      <td>0.0</td>\n",
       "      <td>127.0</td>\n",
       "    </tr>\n",
       "    <tr>\n",
       "      <th>527</th>\n",
       "      <td>528</td>\n",
       "      <td>1</td>\n",
       "      <td>0</td>\n",
       "      <td>0</td>\n",
       "      <td>221.7792</td>\n",
       "      <td>29.807687</td>\n",
       "      <td>0.0</td>\n",
       "      <td>1.0</td>\n",
       "      <td>0.0</td>\n",
       "      <td>0.0</td>\n",
       "      <td>1.0</td>\n",
       "      <td>0.0</td>\n",
       "      <td>76.0</td>\n",
       "    </tr>\n",
       "    <tr>\n",
       "      <th>855</th>\n",
       "      <td>856</td>\n",
       "      <td>3</td>\n",
       "      <td>0</td>\n",
       "      <td>1</td>\n",
       "      <td>9.3500</td>\n",
       "      <td>18.000000</td>\n",
       "      <td>1.0</td>\n",
       "      <td>0.0</td>\n",
       "      <td>0.0</td>\n",
       "      <td>0.0</td>\n",
       "      <td>1.0</td>\n",
       "      <td>0.0</td>\n",
       "      <td>127.0</td>\n",
       "    </tr>\n",
       "    <tr>\n",
       "      <th>801</th>\n",
       "      <td>802</td>\n",
       "      <td>2</td>\n",
       "      <td>1</td>\n",
       "      <td>1</td>\n",
       "      <td>26.2500</td>\n",
       "      <td>31.000000</td>\n",
       "      <td>1.0</td>\n",
       "      <td>0.0</td>\n",
       "      <td>0.0</td>\n",
       "      <td>0.0</td>\n",
       "      <td>1.0</td>\n",
       "      <td>0.0</td>\n",
       "      <td>127.0</td>\n",
       "    </tr>\n",
       "  </tbody>\n",
       "</table>\n",
       "</div>"
      ],
      "text/plain": [
       "     PassengerId  Pclass  SibSp  Parch      Fare        Age  OHE_Sex_female  \\\n",
       "692          693       3      0      0   56.4958  29.807687             0.0   \n",
       "481          482       2      0      0    0.0000  29.807687             0.0   \n",
       "527          528       1      0      0  221.7792  29.807687             0.0   \n",
       "855          856       3      0      1    9.3500  18.000000             1.0   \n",
       "801          802       2      1      1   26.2500  31.000000             1.0   \n",
       "\n",
       "     OHE_Sex_male  OHE_Embarked_C  OHE_Embarked_Q  OHE_Embarked_S  \\\n",
       "692           1.0             0.0             0.0             1.0   \n",
       "481           1.0             0.0             0.0             1.0   \n",
       "527           1.0             0.0             0.0             1.0   \n",
       "855           0.0             0.0             0.0             1.0   \n",
       "801           0.0             0.0             0.0             1.0   \n",
       "\n",
       "     OHE_Embarked_nan  Cabin  \n",
       "692               0.0  127.0  \n",
       "481               0.0  127.0  \n",
       "527               0.0   76.0  \n",
       "855               0.0  127.0  \n",
       "801               0.0  127.0  "
      ]
     },
     "execution_count": 17,
     "metadata": {},
     "output_type": "execute_result"
    }
   ],
   "source": [
    "X_train.head()"
   ]
  },
  {
   "cell_type": "code",
   "execution_count": 18,
   "id": "99bbd10e",
   "metadata": {},
   "outputs": [],
   "source": [
    "valid_transformed = pipeline.transform(\n",
    "    df=pd.concat([X_valid, y_valid], axis=1))\n",
    "\n",
    "X_valid, y_valid = extract_X_y(valid_transformed, target_name)"
   ]
  },
  {
   "cell_type": "markdown",
   "id": "3f5aa742-c3a3-4273-afac-696cf9ccd90c",
   "metadata": {},
   "source": [
    "### TRAIN with XGB"
   ]
  },
  {
   "cell_type": "code",
   "execution_count": 19,
   "id": "549b8977-3ba8-4d5e-81fc-1d9b8fdac69d",
   "metadata": {},
   "outputs": [],
   "source": [
    "# https://www.kaggle.com/prashant111/a-guide-on-xgboost-hyperparameters-tuning\n",
    "# https://xgboost.readthedocs.io/en/latest/parameter.html"
   ]
  },
  {
   "cell_type": "code",
   "execution_count": 20,
   "id": "fbf0af03",
   "metadata": {},
   "outputs": [
    {
     "data": {
      "text/plain": [
       "0    0.616162\n",
       "1    0.383838\n",
       "Name: Survived, dtype: float64"
      ]
     },
     "execution_count": 20,
     "metadata": {},
     "output_type": "execute_result"
    }
   ],
   "source": [
    "train.Survived.value_counts(normalize=True)"
   ]
  },
  {
   "cell_type": "code",
   "execution_count": 21,
   "id": "898ab4d8",
   "metadata": {},
   "outputs": [],
   "source": [
    "from xgboost import XGBClassifier\n",
    "\n",
    "params = {\n",
    "    \"booster\": \"gbtree\", # default\n",
    "    \"n_estimators\": 1000,\n",
    "    \"max_depth\": 6,\n",
    "    \"min_child_weight\": 1,\n",
    "    \"eta\":0.1,\n",
    "    \"scale_pos_weight\": 1,\n",
    "    \"subsample\": 0.8,\n",
    "    \"colsample_bytree\": 1,\n",
    "    \"random_state\": 42,\n",
    "    \"n_jobs\": -1,\n",
    "    \"missing\": -1\n",
    "    \n",
    "}\n",
    "xgb = XGBClassifier(**params)"
   ]
  },
  {
   "cell_type": "code",
   "execution_count": 22,
   "id": "f2f15c62",
   "metadata": {
    "scrolled": true,
    "tags": []
   },
   "outputs": [
    {
     "name": "stdout",
     "output_type": "stream",
     "text": [
      "[0]\tvalidation_0-logloss:0.64261\tvalidation_0-auc:0.88347\tvalidation_1-logloss:0.65319\tvalidation_1-auc:0.80402\n",
      "[1]\tvalidation_0-logloss:0.59726\tvalidation_0-auc:0.89872\tvalidation_1-logloss:0.62033\tvalidation_1-auc:0.80600\n",
      "[2]\tvalidation_0-logloss:0.56017\tvalidation_0-auc:0.90743\tvalidation_1-logloss:0.59815\tvalidation_1-auc:0.80422\n",
      "[3]\tvalidation_0-logloss:0.52947\tvalidation_0-auc:0.91896\tvalidation_1-logloss:0.57908\tvalidation_1-auc:0.81047\n",
      "[4]\tvalidation_0-logloss:0.50242\tvalidation_0-auc:0.92493\tvalidation_1-logloss:0.56406\tvalidation_1-auc:0.80665\n",
      "[5]\tvalidation_0-logloss:0.47926\tvalidation_0-auc:0.92471\tvalidation_1-logloss:0.55164\tvalidation_1-auc:0.80415\n",
      "[6]\tvalidation_0-logloss:0.45655\tvalidation_0-auc:0.92606\tvalidation_1-logloss:0.53784\tvalidation_1-auc:0.80870\n",
      "[7]\tvalidation_0-logloss:0.43619\tvalidation_0-auc:0.92988\tvalidation_1-logloss:0.53044\tvalidation_1-auc:0.80316\n",
      "[8]\tvalidation_0-logloss:0.41877\tvalidation_0-auc:0.93106\tvalidation_1-logloss:0.52116\tvalidation_1-auc:0.81080\n",
      "[9]\tvalidation_0-logloss:0.40278\tvalidation_0-auc:0.93704\tvalidation_1-logloss:0.51338\tvalidation_1-auc:0.82187\n",
      "[10]\tvalidation_0-logloss:0.39007\tvalidation_0-auc:0.94076\tvalidation_1-logloss:0.50876\tvalidation_1-auc:0.82187\n",
      "[11]\tvalidation_0-logloss:0.37788\tvalidation_0-auc:0.94233\tvalidation_1-logloss:0.50534\tvalidation_1-auc:0.82161\n",
      "[12]\tvalidation_0-logloss:0.36760\tvalidation_0-auc:0.94443\tvalidation_1-logloss:0.49683\tvalidation_1-auc:0.82978\n",
      "[13]\tvalidation_0-logloss:0.35823\tvalidation_0-auc:0.94511\tvalidation_1-logloss:0.49373\tvalidation_1-auc:0.82727\n",
      "[14]\tvalidation_0-logloss:0.34815\tvalidation_0-auc:0.94735\tvalidation_1-logloss:0.48963\tvalidation_1-auc:0.83083\n",
      "[15]\tvalidation_0-logloss:0.33982\tvalidation_0-auc:0.95039\tvalidation_1-logloss:0.48799\tvalidation_1-auc:0.83511\n"
     ]
    },
    {
     "name": "stderr",
     "output_type": "stream",
     "text": [
      "/work/.cache/poetry/john-toolbox-DJpFP61h-py3.8/lib/python3.8/site-packages/xgboost/sklearn.py:1146: UserWarning: The use of label encoder in XGBClassifier is deprecated and will be removed in a future release. To remove this warning, do the following: 1) Pass option use_label_encoder=False when constructing XGBClassifier object; and 2) Encode your labels (y) as integers starting with 0, i.e. 0, 1, 2, ..., [num_class - 1].\n",
      "  warnings.warn(label_encoder_deprecation_msg, UserWarning)\n"
     ]
    },
    {
     "name": "stdout",
     "output_type": "stream",
     "text": [
      "[16]\tvalidation_0-logloss:0.33169\tvalidation_0-auc:0.95309\tvalidation_1-logloss:0.49149\tvalidation_1-auc:0.82378\n",
      "[17]\tvalidation_0-logloss:0.32486\tvalidation_0-auc:0.95336\tvalidation_1-logloss:0.49132\tvalidation_1-auc:0.82365\n",
      "[18]\tvalidation_0-logloss:0.31851\tvalidation_0-auc:0.95380\tvalidation_1-logloss:0.49183\tvalidation_1-auc:0.82128\n",
      "[19]\tvalidation_0-logloss:0.31164\tvalidation_0-auc:0.95716\tvalidation_1-logloss:0.49237\tvalidation_1-auc:0.81851\n",
      "[20]\tvalidation_0-logloss:0.30562\tvalidation_0-auc:0.95962\tvalidation_1-logloss:0.49354\tvalidation_1-auc:0.81337\n",
      "[21]\tvalidation_0-logloss:0.30121\tvalidation_0-auc:0.96027\tvalidation_1-logloss:0.49476\tvalidation_1-auc:0.81647\n",
      "[22]\tvalidation_0-logloss:0.29628\tvalidation_0-auc:0.96177\tvalidation_1-logloss:0.49635\tvalidation_1-auc:0.81041\n",
      "[23]\tvalidation_0-logloss:0.29072\tvalidation_0-auc:0.96256\tvalidation_1-logloss:0.49770\tvalidation_1-auc:0.80982\n",
      "[24]\tvalidation_0-logloss:0.28597\tvalidation_0-auc:0.96288\tvalidation_1-logloss:0.49497\tvalidation_1-auc:0.81153\n",
      "[25]\tvalidation_0-logloss:0.27942\tvalidation_0-auc:0.96589\tvalidation_1-logloss:0.49681\tvalidation_1-auc:0.81205\n",
      "[26]\tvalidation_0-logloss:0.27571\tvalidation_0-auc:0.96657\tvalidation_1-logloss:0.49958\tvalidation_1-auc:0.81153\n",
      "[27]\tvalidation_0-logloss:0.27121\tvalidation_0-auc:0.96710\tvalidation_1-logloss:0.50105\tvalidation_1-auc:0.81192\n",
      "[28]\tvalidation_0-logloss:0.26859\tvalidation_0-auc:0.96769\tvalidation_1-logloss:0.50374\tvalidation_1-auc:0.80935\n",
      "[29]\tvalidation_0-logloss:0.26453\tvalidation_0-auc:0.96941\tvalidation_1-logloss:0.50347\tvalidation_1-auc:0.81041\n",
      "[30]\tvalidation_0-logloss:0.26160\tvalidation_0-auc:0.97040\tvalidation_1-logloss:0.50520\tvalidation_1-auc:0.80909\n",
      "[31]\tvalidation_0-logloss:0.25917\tvalidation_0-auc:0.97080\tvalidation_1-logloss:0.50814\tvalidation_1-auc:0.80949\n",
      "[32]\tvalidation_0-logloss:0.25578\tvalidation_0-auc:0.97176\tvalidation_1-logloss:0.50896\tvalidation_1-auc:0.80935\n",
      "[33]\tvalidation_0-logloss:0.25323\tvalidation_0-auc:0.97194\tvalidation_1-logloss:0.50731\tvalidation_1-auc:0.81133\n",
      "[34]\tvalidation_0-logloss:0.24965\tvalidation_0-auc:0.97298\tvalidation_1-logloss:0.51053\tvalidation_1-auc:0.80975\n",
      "[35]\tvalidation_0-logloss:0.24519\tvalidation_0-auc:0.97417\tvalidation_1-logloss:0.51071\tvalidation_1-auc:0.80922\n",
      "[36]\tvalidation_0-logloss:0.24197\tvalidation_0-auc:0.97502\tvalidation_1-logloss:0.51390\tvalidation_1-auc:0.80830\n",
      "[37]\tvalidation_0-logloss:0.23949\tvalidation_0-auc:0.97548\tvalidation_1-logloss:0.51529\tvalidation_1-auc:0.81067\n",
      "[38]\tvalidation_0-logloss:0.23630\tvalidation_0-auc:0.97647\tvalidation_1-logloss:0.51832\tvalidation_1-auc:0.80856\n",
      "[39]\tvalidation_0-logloss:0.23437\tvalidation_0-auc:0.97693\tvalidation_1-logloss:0.51972\tvalidation_1-auc:0.80949\n",
      "[40]\tvalidation_0-logloss:0.23211\tvalidation_0-auc:0.97780\tvalidation_1-logloss:0.51881\tvalidation_1-auc:0.81028\n",
      "[41]\tvalidation_0-logloss:0.22975\tvalidation_0-auc:0.97855\tvalidation_1-logloss:0.51964\tvalidation_1-auc:0.81080\n",
      "[42]\tvalidation_0-logloss:0.22815\tvalidation_0-auc:0.97910\tvalidation_1-logloss:0.51886\tvalidation_1-auc:0.81146\n",
      "[43]\tvalidation_0-logloss:0.22643\tvalidation_0-auc:0.97943\tvalidation_1-logloss:0.51922\tvalidation_1-auc:0.81225\n",
      "[44]\tvalidation_0-logloss:0.22406\tvalidation_0-auc:0.98033\tvalidation_1-logloss:0.52202\tvalidation_1-auc:0.81225\n",
      "[45]\tvalidation_0-logloss:0.22141\tvalidation_0-auc:0.98090\tvalidation_1-logloss:0.52035\tvalidation_1-auc:0.81489\n"
     ]
    },
    {
     "data": {
      "text/plain": [
       "XGBClassifier(base_score=0.5, booster='gbtree', colsample_bylevel=1,\n",
       "              colsample_bynode=1, colsample_bytree=1, eta=0.1, gamma=0,\n",
       "              gpu_id=-1, importance_type='gain', interaction_constraints='',\n",
       "              learning_rate=0.100000001, max_delta_step=0, max_depth=6,\n",
       "              min_child_weight=1, missing=-1, monotone_constraints='()',\n",
       "              n_estimators=1000, n_jobs=-1, num_parallel_tree=1,\n",
       "              random_state=42, reg_alpha=0, reg_lambda=1, scale_pos_weight=1,\n",
       "              subsample=0.8, tree_method='exact', validate_parameters=1,\n",
       "              verbosity=None)"
      ]
     },
     "execution_count": 22,
     "metadata": {},
     "output_type": "execute_result"
    }
   ],
   "source": [
    "eval_metric = [\"logloss\", \"auc\"]\n",
    "eval_names = [\"train\", \"valid\"]\n",
    "\n",
    "xgb.fit(\n",
    "    X_train,\n",
    "    y_train.to_numpy().reshape(-1),\n",
    "    early_stopping_rounds=30,\n",
    "    eval_set=[(X_train, y_train.to_numpy().reshape(-1)), (X_valid, y_valid.to_numpy().reshape(-1))],\n",
    "    eval_metric=eval_metric,\n",
    "    verbose=True\n",
    ")"
   ]
  },
  {
   "cell_type": "code",
   "execution_count": 23,
   "id": "733400bf-f3c3-49f9-86dc-cabad7c8c440",
   "metadata": {},
   "outputs": [
    {
     "name": "stdout",
     "output_type": "stream",
     "text": [
      "Best Iteration: 15\n"
     ]
    },
    {
     "data": {
      "text/plain": [
       "{'validation_0': {'logloss': 0.339819, 'auc': 0.950395},\n",
       " 'validation_1': {'logloss': 0.487994, 'auc': 0.835112}}"
      ]
     },
     "execution_count": 23,
     "metadata": {},
     "output_type": "execute_result"
    }
   ],
   "source": [
    "results = xgb.evals_result()\n",
    "best_iteration = xgb.best_iteration\n",
    "print(f\"Best Iteration: {best_iteration}\")\n",
    "{\n",
    "\n",
    "    eval_name: {key: val[xgb.best_iteration] for key, val in values.items()}\n",
    "    for eval_name, values in results.items()\n",
    "}"
   ]
  },
  {
   "cell_type": "markdown",
   "id": "876d553a",
   "metadata": {},
   "source": [
    "## Catboost"
   ]
  },
  {
   "cell_type": "markdown",
   "id": "e45acfd6",
   "metadata": {},
   "source": [
    "Catboost is newer and has the advantage to handle natively categorical column. So no need to do one hot encoding. It Reduce overfitting when constructing the models with a novel gradient-boosting scheme.\n",
    "It can be used in GPU mode.\n",
    "- https://towardsdatascience.com/catboost-vs-light-gbm-vs-xgboost-5f93620723db\n",
    "- https://catboost.ai/#benchmark\n",
    "- https://github.com/catboost/tutorials\n",
    "- https://www.kaggle.com/mitribunskiy/tutorial-catboost-overview\n",
    "- https://towardsdatascience.com/categorical-features-parameters-in-catboost-4ebd1326bee5"
   ]
  },
  {
   "cell_type": "code",
   "execution_count": 24,
   "id": "b9c74433",
   "metadata": {},
   "outputs": [],
   "source": [
    "from catboost import CatBoostClassifier"
   ]
  },
  {
   "cell_type": "code",
   "execution_count": 25,
   "id": "7804fb64",
   "metadata": {},
   "outputs": [],
   "source": [
    "X, y = extract_X_y(train, target_name)\n",
    "\n",
    "X_train, X_valid, y_train, y_valid = train_test_split(\n",
    "    X, y,  test_size=0.2, random_state=42, shuffle=True, stratify=y)"
   ]
  },
  {
   "cell_type": "code",
   "execution_count": 26,
   "id": "566dc510",
   "metadata": {},
   "outputs": [],
   "source": [
    "X_train = X_train.drop(columns=[\"Name\", \"PassengerId\"])\n",
    "X_valid = X_valid.drop(columns=[\"Name\", \"PassengerId\"])"
   ]
  },
  {
   "cell_type": "code",
   "execution_count": 27,
   "id": "1403c9d5",
   "metadata": {},
   "outputs": [
    {
     "data": {
      "text/plain": [
       "891"
      ]
     },
     "execution_count": 27,
     "metadata": {},
     "output_type": "execute_result"
    }
   ],
   "source": [
    "X[\"Name\"].nunique()"
   ]
  },
  {
   "cell_type": "code",
   "execution_count": 28,
   "id": "46d8e0a1",
   "metadata": {},
   "outputs": [
    {
     "name": "stdout",
     "output_type": "stream",
     "text": [
      "[0, 1, 2, 3, 4, 5, 6, 7, 8, 9, 10]\n"
     ]
    }
   ],
   "source": [
    "cat_features_names = X.columns # here we specify names of categorical features\n",
    "cat_features = [X.columns.get_loc(col) for col in cat_features_names]\n",
    "print(cat_features)"
   ]
  },
  {
   "cell_type": "code",
   "execution_count": 30,
   "id": "39454ad5",
   "metadata": {},
   "outputs": [
    {
     "name": "stdout",
     "output_type": "stream",
     "text": [
      "col = Pclass interpreted as categorical, nunique = 3\n",
      "col = SibSp interpreted as categorical, nunique = 7\n",
      "col = Parch interpreted as categorical, nunique = 7\n"
     ]
    },
    {
     "data": {
      "text/plain": [
       "{'cat_cols': ['Pclass',\n",
       "  'Sex',\n",
       "  'SibSp',\n",
       "  'Parch',\n",
       "  'Ticket',\n",
       "  'Cabin',\n",
       "  'Embarked'],\n",
       " 'idx_cols': [0, 1, 3, 4, 5, 7, 8]}"
      ]
     },
     "execution_count": 30,
     "metadata": {},
     "output_type": "execute_result"
    }
   ],
   "source": [
    "idx_cols_mapping = get_idx_cat_columns(X_train)\n",
    "idx_cols_mapping"
   ]
  },
  {
   "cell_type": "code",
   "execution_count": 31,
   "id": "3a0a9103",
   "metadata": {},
   "outputs": [],
   "source": [
    "idx_cols = idx_cols_mapping[\"idx_cols\"]\n",
    "cat_cols = idx_cols_mapping[\"cat_cols\"]"
   ]
  },
  {
   "cell_type": "code",
   "execution_count": 32,
   "id": "8a13f432",
   "metadata": {},
   "outputs": [],
   "source": [
    "X_train.iloc[:, idx_cols] = X_train.iloc[:, idx_cols].astype(str)\n",
    "X_valid.iloc[:, idx_cols] = X_valid.iloc[:, idx_cols].astype(str)"
   ]
  },
  {
   "cell_type": "code",
   "execution_count": 34,
   "id": "18ba58f0",
   "metadata": {
    "scrolled": false
   },
   "outputs": [
    {
     "data": {
      "application/vnd.jupyter.widget-view+json": {
       "model_id": "38ffcd450e8b406c9295af37d2ff309d",
       "version_major": 2,
       "version_minor": 0
      },
      "text/plain": [
       "MetricVisualizer(layout=Layout(align_self='stretch', height='500px'))"
      ]
     },
     "metadata": {},
     "output_type": "display_data"
    },
    {
     "name": "stdout",
     "output_type": "stream",
     "text": [
      "0:\tlearn: 0.6865640\ttest: 0.6872275\tbest: 0.6872275 (0)\ttotal: 47.7ms\tremaining: 47.6s\n",
      "200:\tlearn: 0.3800662\ttest: 0.4510187\tbest: 0.4509882 (199)\ttotal: 255ms\tremaining: 1.01s\n",
      "400:\tlearn: 0.3404448\ttest: 0.4443540\tbest: 0.4442347 (396)\ttotal: 467ms\tremaining: 697ms\n",
      "600:\tlearn: 0.3200792\ttest: 0.4423215\tbest: 0.4421926 (590)\ttotal: 679ms\tremaining: 451ms\n",
      "800:\tlearn: 0.2990795\ttest: 0.4416202\tbest: 0.4414845 (769)\ttotal: 914ms\tremaining: 227ms\n",
      "Stopped by overfitting detector  (100 iterations wait)\n",
      "\n",
      "bestTest = 0.441484506\n",
      "bestIteration = 769\n",
      "\n",
      "Shrink model to first 770 iterations.\n"
     ]
    },
    {
     "data": {
      "text/plain": [
       "<catboost.core.CatBoostClassifier at 0x7f4958d86520>"
      ]
     },
     "execution_count": 34,
     "metadata": {},
     "output_type": "execute_result"
    }
   ],
   "source": [
    "params = {\n",
    "    \"iterations\": 1000,\n",
    "    'verbose': 200,\n",
    "    'random_seed': 42,\n",
    "    \"od_wait\": 100, # 'early_stopping_rounds': 200,\n",
    "    \"learning_rate\": 0.01,\n",
    "    # \"task_type\": \"GPU\",\n",
    "    'loss_function': 'Logloss',\n",
    "    \"one_hot_max_size\": 1000,\n",
    "    'custom_metric': [\"Logloss\", \"AUC\", \"PRAUC\"],\n",
    "}\n",
    "\n",
    "cbc = CatBoostClassifier(**params)\n",
    "\n",
    "\n",
    "cbc.fit(X_train, y_train,\n",
    "        eval_set=(X_valid, y_valid),\n",
    "        cat_features=idx_cols,\n",
    "        use_best_model=True,\n",
    "        plot=True\n",
    "        )"
   ]
  },
  {
   "cell_type": "code",
   "execution_count": 35,
   "id": "90271d2d",
   "metadata": {},
   "outputs": [
    {
     "data": {
      "text/plain": [
       "{'learn': {'Logloss': 0.2915415484602487, 'PRAUC': 0.9438394178146359},\n",
       " 'validation': {'Logloss': 0.44148450603483336,\n",
       "  'PRAUC': 0.830184172377646,\n",
       "  'AUC': 0.8581027667984189}}"
      ]
     },
     "execution_count": 35,
     "metadata": {},
     "output_type": "execute_result"
    }
   ],
   "source": [
    "cbc.get_best_score()"
   ]
  },
  {
   "cell_type": "code",
   "execution_count": 36,
   "id": "679f431b",
   "metadata": {},
   "outputs": [
    {
     "data": {
      "text/html": [
       "        <script type=\"text/javascript\">\n",
       "        window.PlotlyConfig = {MathJaxConfig: 'local'};\n",
       "        if (window.MathJax) {MathJax.Hub.Config({SVG: {font: \"STIX-Web\"}});}\n",
       "        if (typeof require !== 'undefined') {\n",
       "        require.undef(\"plotly\");\n",
       "        requirejs.config({\n",
       "            paths: {\n",
       "                'plotly': ['https://cdn.plot.ly/plotly-2.6.3.min']\n",
       "            }\n",
       "        });\n",
       "        require(['plotly'], function(Plotly) {\n",
       "            window._Plotly = Plotly;\n",
       "        });\n",
       "        }\n",
       "        </script>\n",
       "        "
      ]
     },
     "metadata": {},
     "output_type": "display_data"
    },
    {
     "data": {
      "application/vnd.plotly.v1+json": {
       "config": {
        "linkText": "Export to plot.ly",
        "plotlyServerURL": "https://plot.ly",
        "showLink": false
       },
       "data": [
        {
         "mode": "lines+markers",
         "name": "Mean target",
         "type": "scatter",
         "xaxis": "x",
         "y": [
          0.24296675622463226,
          0.6491228342056274,
          0.4466666579246521
         ],
         "yaxis": "y"
        },
        {
         "line": {
          "dash": "dash"
         },
         "mode": "lines+markers",
         "name": "Mean prediction on each segment of feature values",
         "type": "scatter",
         "xaxis": "x",
         "y": [
          0.24658384919166565,
          0.6347202658653259,
          0.44410476088523865
         ],
         "yaxis": "y"
        },
        {
         "marker": {
          "color": "rgba(30, 150, 30, 0.4)"
         },
         "name": "Objects per bin",
         "type": "bar",
         "width": 0.2,
         "xaxis": "x",
         "y": [
          391,
          171,
          150
         ],
         "yaxis": "y2"
        },
        {
         "line": {
          "dash": "dashdot"
         },
         "mode": "lines+markers",
         "name": "Mean prediction with substituted feature",
         "type": "scatter",
         "xaxis": "x",
         "y": [
          0.28183447430092046,
          0.48009698171530035,
          0.43131291831286184
         ],
         "yaxis": "y"
        }
       ],
       "layout": {
        "annotations": [
         {
          "align": "left",
          "showarrow": false,
          "text": "Statistics for feature",
          "x": 0,
          "xref": "paper",
          "y": 1.05,
          "yref": "paper"
         }
        ],
        "legend": {
         "bgcolor": "rgba(0,0,0,0)",
         "x": 1.07
        },
        "template": {
         "data": {
          "bar": [
           {
            "error_x": {
             "color": "#2a3f5f"
            },
            "error_y": {
             "color": "#2a3f5f"
            },
            "marker": {
             "line": {
              "color": "#E5ECF6",
              "width": 0.5
             },
             "pattern": {
              "fillmode": "overlay",
              "size": 10,
              "solidity": 0.2
             }
            },
            "type": "bar"
           }
          ],
          "barpolar": [
           {
            "marker": {
             "line": {
              "color": "#E5ECF6",
              "width": 0.5
             },
             "pattern": {
              "fillmode": "overlay",
              "size": 10,
              "solidity": 0.2
             }
            },
            "type": "barpolar"
           }
          ],
          "carpet": [
           {
            "aaxis": {
             "endlinecolor": "#2a3f5f",
             "gridcolor": "white",
             "linecolor": "white",
             "minorgridcolor": "white",
             "startlinecolor": "#2a3f5f"
            },
            "baxis": {
             "endlinecolor": "#2a3f5f",
             "gridcolor": "white",
             "linecolor": "white",
             "minorgridcolor": "white",
             "startlinecolor": "#2a3f5f"
            },
            "type": "carpet"
           }
          ],
          "choropleth": [
           {
            "colorbar": {
             "outlinewidth": 0,
             "ticks": ""
            },
            "type": "choropleth"
           }
          ],
          "contour": [
           {
            "colorbar": {
             "outlinewidth": 0,
             "ticks": ""
            },
            "colorscale": [
             [
              0,
              "#0d0887"
             ],
             [
              0.1111111111111111,
              "#46039f"
             ],
             [
              0.2222222222222222,
              "#7201a8"
             ],
             [
              0.3333333333333333,
              "#9c179e"
             ],
             [
              0.4444444444444444,
              "#bd3786"
             ],
             [
              0.5555555555555556,
              "#d8576b"
             ],
             [
              0.6666666666666666,
              "#ed7953"
             ],
             [
              0.7777777777777778,
              "#fb9f3a"
             ],
             [
              0.8888888888888888,
              "#fdca26"
             ],
             [
              1,
              "#f0f921"
             ]
            ],
            "type": "contour"
           }
          ],
          "contourcarpet": [
           {
            "colorbar": {
             "outlinewidth": 0,
             "ticks": ""
            },
            "type": "contourcarpet"
           }
          ],
          "heatmap": [
           {
            "colorbar": {
             "outlinewidth": 0,
             "ticks": ""
            },
            "colorscale": [
             [
              0,
              "#0d0887"
             ],
             [
              0.1111111111111111,
              "#46039f"
             ],
             [
              0.2222222222222222,
              "#7201a8"
             ],
             [
              0.3333333333333333,
              "#9c179e"
             ],
             [
              0.4444444444444444,
              "#bd3786"
             ],
             [
              0.5555555555555556,
              "#d8576b"
             ],
             [
              0.6666666666666666,
              "#ed7953"
             ],
             [
              0.7777777777777778,
              "#fb9f3a"
             ],
             [
              0.8888888888888888,
              "#fdca26"
             ],
             [
              1,
              "#f0f921"
             ]
            ],
            "type": "heatmap"
           }
          ],
          "heatmapgl": [
           {
            "colorbar": {
             "outlinewidth": 0,
             "ticks": ""
            },
            "colorscale": [
             [
              0,
              "#0d0887"
             ],
             [
              0.1111111111111111,
              "#46039f"
             ],
             [
              0.2222222222222222,
              "#7201a8"
             ],
             [
              0.3333333333333333,
              "#9c179e"
             ],
             [
              0.4444444444444444,
              "#bd3786"
             ],
             [
              0.5555555555555556,
              "#d8576b"
             ],
             [
              0.6666666666666666,
              "#ed7953"
             ],
             [
              0.7777777777777778,
              "#fb9f3a"
             ],
             [
              0.8888888888888888,
              "#fdca26"
             ],
             [
              1,
              "#f0f921"
             ]
            ],
            "type": "heatmapgl"
           }
          ],
          "histogram": [
           {
            "marker": {
             "pattern": {
              "fillmode": "overlay",
              "size": 10,
              "solidity": 0.2
             }
            },
            "type": "histogram"
           }
          ],
          "histogram2d": [
           {
            "colorbar": {
             "outlinewidth": 0,
             "ticks": ""
            },
            "colorscale": [
             [
              0,
              "#0d0887"
             ],
             [
              0.1111111111111111,
              "#46039f"
             ],
             [
              0.2222222222222222,
              "#7201a8"
             ],
             [
              0.3333333333333333,
              "#9c179e"
             ],
             [
              0.4444444444444444,
              "#bd3786"
             ],
             [
              0.5555555555555556,
              "#d8576b"
             ],
             [
              0.6666666666666666,
              "#ed7953"
             ],
             [
              0.7777777777777778,
              "#fb9f3a"
             ],
             [
              0.8888888888888888,
              "#fdca26"
             ],
             [
              1,
              "#f0f921"
             ]
            ],
            "type": "histogram2d"
           }
          ],
          "histogram2dcontour": [
           {
            "colorbar": {
             "outlinewidth": 0,
             "ticks": ""
            },
            "colorscale": [
             [
              0,
              "#0d0887"
             ],
             [
              0.1111111111111111,
              "#46039f"
             ],
             [
              0.2222222222222222,
              "#7201a8"
             ],
             [
              0.3333333333333333,
              "#9c179e"
             ],
             [
              0.4444444444444444,
              "#bd3786"
             ],
             [
              0.5555555555555556,
              "#d8576b"
             ],
             [
              0.6666666666666666,
              "#ed7953"
             ],
             [
              0.7777777777777778,
              "#fb9f3a"
             ],
             [
              0.8888888888888888,
              "#fdca26"
             ],
             [
              1,
              "#f0f921"
             ]
            ],
            "type": "histogram2dcontour"
           }
          ],
          "mesh3d": [
           {
            "colorbar": {
             "outlinewidth": 0,
             "ticks": ""
            },
            "type": "mesh3d"
           }
          ],
          "parcoords": [
           {
            "line": {
             "colorbar": {
              "outlinewidth": 0,
              "ticks": ""
             }
            },
            "type": "parcoords"
           }
          ],
          "pie": [
           {
            "automargin": true,
            "type": "pie"
           }
          ],
          "scatter": [
           {
            "marker": {
             "colorbar": {
              "outlinewidth": 0,
              "ticks": ""
             }
            },
            "type": "scatter"
           }
          ],
          "scatter3d": [
           {
            "line": {
             "colorbar": {
              "outlinewidth": 0,
              "ticks": ""
             }
            },
            "marker": {
             "colorbar": {
              "outlinewidth": 0,
              "ticks": ""
             }
            },
            "type": "scatter3d"
           }
          ],
          "scattercarpet": [
           {
            "marker": {
             "colorbar": {
              "outlinewidth": 0,
              "ticks": ""
             }
            },
            "type": "scattercarpet"
           }
          ],
          "scattergeo": [
           {
            "marker": {
             "colorbar": {
              "outlinewidth": 0,
              "ticks": ""
             }
            },
            "type": "scattergeo"
           }
          ],
          "scattergl": [
           {
            "marker": {
             "colorbar": {
              "outlinewidth": 0,
              "ticks": ""
             }
            },
            "type": "scattergl"
           }
          ],
          "scattermapbox": [
           {
            "marker": {
             "colorbar": {
              "outlinewidth": 0,
              "ticks": ""
             }
            },
            "type": "scattermapbox"
           }
          ],
          "scatterpolar": [
           {
            "marker": {
             "colorbar": {
              "outlinewidth": 0,
              "ticks": ""
             }
            },
            "type": "scatterpolar"
           }
          ],
          "scatterpolargl": [
           {
            "marker": {
             "colorbar": {
              "outlinewidth": 0,
              "ticks": ""
             }
            },
            "type": "scatterpolargl"
           }
          ],
          "scatterternary": [
           {
            "marker": {
             "colorbar": {
              "outlinewidth": 0,
              "ticks": ""
             }
            },
            "type": "scatterternary"
           }
          ],
          "surface": [
           {
            "colorbar": {
             "outlinewidth": 0,
             "ticks": ""
            },
            "colorscale": [
             [
              0,
              "#0d0887"
             ],
             [
              0.1111111111111111,
              "#46039f"
             ],
             [
              0.2222222222222222,
              "#7201a8"
             ],
             [
              0.3333333333333333,
              "#9c179e"
             ],
             [
              0.4444444444444444,
              "#bd3786"
             ],
             [
              0.5555555555555556,
              "#d8576b"
             ],
             [
              0.6666666666666666,
              "#ed7953"
             ],
             [
              0.7777777777777778,
              "#fb9f3a"
             ],
             [
              0.8888888888888888,
              "#fdca26"
             ],
             [
              1,
              "#f0f921"
             ]
            ],
            "type": "surface"
           }
          ],
          "table": [
           {
            "cells": {
             "fill": {
              "color": "#EBF0F8"
             },
             "line": {
              "color": "white"
             }
            },
            "header": {
             "fill": {
              "color": "#C8D4E3"
             },
             "line": {
              "color": "white"
             }
            },
            "type": "table"
           }
          ]
         },
         "layout": {
          "annotationdefaults": {
           "arrowcolor": "#2a3f5f",
           "arrowhead": 0,
           "arrowwidth": 1
          },
          "autotypenumbers": "strict",
          "coloraxis": {
           "colorbar": {
            "outlinewidth": 0,
            "ticks": ""
           }
          },
          "colorscale": {
           "diverging": [
            [
             0,
             "#8e0152"
            ],
            [
             0.1,
             "#c51b7d"
            ],
            [
             0.2,
             "#de77ae"
            ],
            [
             0.3,
             "#f1b6da"
            ],
            [
             0.4,
             "#fde0ef"
            ],
            [
             0.5,
             "#f7f7f7"
            ],
            [
             0.6,
             "#e6f5d0"
            ],
            [
             0.7,
             "#b8e186"
            ],
            [
             0.8,
             "#7fbc41"
            ],
            [
             0.9,
             "#4d9221"
            ],
            [
             1,
             "#276419"
            ]
           ],
           "sequential": [
            [
             0,
             "#0d0887"
            ],
            [
             0.1111111111111111,
             "#46039f"
            ],
            [
             0.2222222222222222,
             "#7201a8"
            ],
            [
             0.3333333333333333,
             "#9c179e"
            ],
            [
             0.4444444444444444,
             "#bd3786"
            ],
            [
             0.5555555555555556,
             "#d8576b"
            ],
            [
             0.6666666666666666,
             "#ed7953"
            ],
            [
             0.7777777777777778,
             "#fb9f3a"
            ],
            [
             0.8888888888888888,
             "#fdca26"
            ],
            [
             1,
             "#f0f921"
            ]
           ],
           "sequentialminus": [
            [
             0,
             "#0d0887"
            ],
            [
             0.1111111111111111,
             "#46039f"
            ],
            [
             0.2222222222222222,
             "#7201a8"
            ],
            [
             0.3333333333333333,
             "#9c179e"
            ],
            [
             0.4444444444444444,
             "#bd3786"
            ],
            [
             0.5555555555555556,
             "#d8576b"
            ],
            [
             0.6666666666666666,
             "#ed7953"
            ],
            [
             0.7777777777777778,
             "#fb9f3a"
            ],
            [
             0.8888888888888888,
             "#fdca26"
            ],
            [
             1,
             "#f0f921"
            ]
           ]
          },
          "colorway": [
           "#636efa",
           "#EF553B",
           "#00cc96",
           "#ab63fa",
           "#FFA15A",
           "#19d3f3",
           "#FF6692",
           "#B6E880",
           "#FF97FF",
           "#FECB52"
          ],
          "font": {
           "color": "#2a3f5f"
          },
          "geo": {
           "bgcolor": "white",
           "lakecolor": "white",
           "landcolor": "#E5ECF6",
           "showlakes": true,
           "showland": true,
           "subunitcolor": "white"
          },
          "hoverlabel": {
           "align": "left"
          },
          "hovermode": "closest",
          "mapbox": {
           "style": "light"
          },
          "paper_bgcolor": "white",
          "plot_bgcolor": "#E5ECF6",
          "polar": {
           "angularaxis": {
            "gridcolor": "white",
            "linecolor": "white",
            "ticks": ""
           },
           "bgcolor": "#E5ECF6",
           "radialaxis": {
            "gridcolor": "white",
            "linecolor": "white",
            "ticks": ""
           }
          },
          "scene": {
           "xaxis": {
            "backgroundcolor": "#E5ECF6",
            "gridcolor": "white",
            "gridwidth": 2,
            "linecolor": "white",
            "showbackground": true,
            "ticks": "",
            "zerolinecolor": "white"
           },
           "yaxis": {
            "backgroundcolor": "#E5ECF6",
            "gridcolor": "white",
            "gridwidth": 2,
            "linecolor": "white",
            "showbackground": true,
            "ticks": "",
            "zerolinecolor": "white"
           },
           "zaxis": {
            "backgroundcolor": "#E5ECF6",
            "gridcolor": "white",
            "gridwidth": 2,
            "linecolor": "white",
            "showbackground": true,
            "ticks": "",
            "zerolinecolor": "white"
           }
          },
          "shapedefaults": {
           "line": {
            "color": "#2a3f5f"
           }
          },
          "ternary": {
           "aaxis": {
            "gridcolor": "white",
            "linecolor": "white",
            "ticks": ""
           },
           "baxis": {
            "gridcolor": "white",
            "linecolor": "white",
            "ticks": ""
           },
           "bgcolor": "#E5ECF6",
           "caxis": {
            "gridcolor": "white",
            "linecolor": "white",
            "ticks": ""
           }
          },
          "title": {
           "x": 0.05
          },
          "xaxis": {
           "automargin": true,
           "gridcolor": "white",
           "linecolor": "white",
           "ticks": "",
           "title": {
            "standoff": 15
           },
           "zerolinecolor": "white",
           "zerolinewidth": 2
          },
          "yaxis": {
           "automargin": true,
           "gridcolor": "white",
           "linecolor": "white",
           "ticks": "",
           "title": {
            "standoff": 15
           },
           "zerolinecolor": "white",
           "zerolinewidth": 2
          }
         }
        },
        "updatemenus": [
         {
          "buttons": [
           {
            "args": [
             {
              "y": [
               [
                0.24296675622463226,
                0.6491228342056274,
                0.4466666579246521
               ],
               [
                0.24658384919166565,
                0.6347202658653259,
                0.44410476088523865
               ],
               [
                391,
                171,
                150
               ],
               [
                0.28183447430092046,
                0.48009698171530035,
                0.43131291831286184
               ]
              ]
             },
             {
              "xaxis": {
               "showticklabels": true,
               "tickmode": "array",
               "ticktext": [
                "3",
                "1",
                "2"
               ],
               "tickvals": [
                0,
                1,
                2
               ],
               "title": {
                "text": "Cat values"
               }
              }
             }
            ],
            "label": "Pclass",
            "method": "update"
           },
           {
            "args": [
             {
              "y": [
               [
                0.18518517911434174,
                0.7430830001831055
               ],
               [
                0.18834422528743744,
                0.7316884398460388
               ],
               [
                459,
                253
               ],
               [
                0,
                0.6847573364197894
               ]
              ]
             },
             {
              "xaxis": {
               "showticklabels": true,
               "tickmode": "array",
               "ticktext": [
                "male",
                "female"
               ],
               "tickvals": [
                0,
                1
               ],
               "title": {
                "text": "Cat values"
               }
              }
             }
            ],
            "label": "Sex",
            "method": "update"
           },
           {
            "args": [
             {
              "y": [
               [
                0.29197078943252563,
                1,
                1,
                1,
                1,
                1,
                0.8333333134651184,
                0.3333333432674408,
                0.8333333134651184,
                0.6666666865348816,
                1,
                0.6666666865348816,
                0.3333333432674408,
                0.3333333432674408,
                0,
                0,
                0,
                1,
                1,
                0,
                0,
                0.800000011920929,
                0.4000000059604645,
                0.4444444477558136,
                0.3478260934352875,
                0.380952388048172,
                0.23076923191547394,
                0,
                0.190476194024086,
                0.38461539149284363,
                0.23076923191547394,
                0.5454545617103577,
                0.1538461595773697,
                0.4000000059604645,
                0.5,
                0.2857142984867096,
                0,
                0.375,
                0.42105263471603394,
                0,
                0.5833333134651184,
                0.5,
                0.5,
                0.3636363744735718,
                0.3636363744735718,
                0,
                0.6153846383094788,
                0.42105263471603394,
                0,
                0.20000000298023224,
                0.4545454680919647,
                0.3571428656578064,
                0.5,
                0,
                0.4000000059604645,
                0.5,
                0.20000000298023224,
                0.5,
                0.5,
                0,
                0,
                0.125,
                0.7142857313156128,
                0.800000011920929,
                0.4444444477558136,
                0.2857142984867096,
                0.6000000238418579,
                0.375,
                1,
                0,
                0.3333333432674408,
                0,
                0.6666666865348816,
                0,
                0,
                0,
                1,
                0.3333333432674408,
                0,
                0,
                0,
                0,
                0,
                0,
                1
               ],
               [
                0.3153543770313263,
                0.47550615668296814,
                0.7269565463066101,
                0.8141288161277771,
                0.6911959648132324,
                0.7277595400810242,
                0.570723295211792,
                0.43406060338020325,
                0.5803624987602234,
                0.5503654479980469,
                0.7106634974479675,
                0.5712100863456726,
                0.394732803106308,
                0.41086363792419434,
                0.24618561565876007,
                0.22815288603305817,
                0.17442336678504944,
                0.2990110516548157,
                0.8418586254119873,
                0.2255842089653015,
                0.4541333317756653,
                0.6376896500587463,
                0.3374404013156891,
                0.447133332490921,
                0.3978350758552551,
                0.3391032814979553,
                0.19117416441440582,
                0.08998358994722366,
                0.2654987573623657,
                0.4048428535461426,
                0.2683030962944031,
                0.5160778760910034,
                0.25290799140930176,
                0.3505849540233612,
                0.43980562686920166,
                0.3776713013648987,
                0.13471394777297974,
                0.3446527123451233,
                0.4250901937484741,
                0.5587774515151978,
                0.4597705602645874,
                0.32472431659698486,
                0.5344604253768921,
                0.37245407700538635,
                0.3464300334453583,
                0.05245864763855934,
                0.5504300594329834,
                0.4286923110485077,
                0.22104983031749725,
                0.2884909212589264,
                0.4752984046936035,
                0.3728518784046173,
                0.4796815812587738,
                0.0944303646683693,
                0.4947652816772461,
                0.383882999420166,
                0.2822883427143097,
                0.5195294618606567,
                0.4373041093349457,
                0.2277776300907135,
                0.4116360545158386,
                0.30835530161857605,
                0.5823735594749451,
                0.6122632622718811,
                0.5298678278923035,
                0.2604926824569702,
                0.5392871499061584,
                0.4326934814453125,
                0.8265123963356018,
                0.06970138102769852,
                0.3025371730327606,
                0.3224128186702728,
                0.7264125943183899,
                0.047201912850141525,
                0.1229507103562355,
                0.12399756908416748,
                0.9484567642211914,
                0.2607707679271698,
                0.15502037107944489,
                0.04288208484649658,
                0.043285977095365524,
                0.04574815183877945,
                0.18986940383911133,
                0.06710153073072433,
                0.4951589107513428
               ],
               [
                137,
                1,
                1,
                1,
                2,
                1,
                6,
                6,
                6,
                9,
                4,
                3,
                3,
                3,
                4,
                2,
                2,
                1,
                2,
                3,
                1,
                5,
                10,
                9,
                23,
                21,
                13,
                1,
                21,
                26,
                13,
                22,
                13,
                15,
                12,
                21,
                2,
                16,
                19,
                1,
                12,
                18,
                2,
                11,
                11,
                1,
                13,
                19,
                1,
                5,
                11,
                14,
                12,
                1,
                5,
                12,
                5,
                6,
                10,
                2,
                1,
                8,
                7,
                5,
                9,
                7,
                5,
                8,
                1,
                1,
                3,
                2,
                3,
                2,
                2,
                2,
                1,
                3,
                3,
                1,
                1,
                1,
                2,
                1,
                1
               ],
               [
                0.40652549741991056,
                0.4339328721240392,
                0.4347717872068382,
                0.4400110880525785,
                0.44962311073000666,
                0.4498149578323136,
                0.45395524344472515,
                0.44469786626188584,
                0.44623595261944166,
                0.4448121685855724,
                0.4404326705956167,
                0.42665243851552703,
                0.42376036262827216,
                0.4105495145186247,
                0.4045033055769999,
                0.4019589137871282,
                0.40131528491795315,
                0.39885822493492035,
                0.3927621484266063,
                0.390254635153333,
                0.39003025780045253,
                0.38951209803180853,
                0.3884117838016794,
                0.386121299671866,
                0.38380005298879,
                0.38289570263763223,
                0.38226646925315433,
                0.3811478701118255,
                0.37880689468979134,
                0.3784899798000854,
                0.3785929844085416,
                0.3783176437960078,
                0.3774106609049317,
                0.3777900026123071,
                0.37738318977980595,
                0.3764037720047326,
                0.3764691794733048,
                0.3765960713213642,
                0.37439749407876866,
                0.3762690932893844,
                0.377213571681048,
                0.3769277329075613,
                0.3720108555629728,
                0.3663988992220651,
                0.3645774886759722,
                0.362302650560785,
                0.3598202137040028,
                0.35718074917667714,
                0.3533398654498065,
                0.34942840122865143,
                0.34804250429185013,
                0.3469426350184948,
                0.345163542612923,
                0.3436600554798379,
                0.34288776834753854,
                0.34257964578158145,
                0.3397014540218075,
                0.33894924333643867,
                0.33843292587940604,
                0.3362167269375506,
                0.3329800321768775,
                0.3298319525118487,
                0.32923388434789636,
                0.3294794227276518,
                0.3239907895728359,
                0.32102877886065917,
                0.32010042688614926,
                0.3151829710999185,
                0.31292329216972,
                0.30876075959669225,
                0.3045409108990758,
                0.3002888350074519,
                0.298303091880264,
                0.29706834313606756,
                0.29705368010098504,
                0.29611041879633376,
                0.2963953827924033,
                0.2953561574025087,
                0.2951734830423547,
                0.2954982967949451,
                0.29562174350572085,
                0.29512711855252804,
                0.2962286582706961,
                0.3172689637287336,
                0.35027190586249374
               ]
              ]
             },
             {
              "xaxis": {
               "showticklabels": false,
               "tickmode": "array",
               "ticktext": [
                "(-inf, -340282346638528859811704183484516925440.0000]",
                "(-340282346638528859811704183484516925440.0000, 0.5450]",
                "(0.5450, 0.7100]",
                "(0.7100, 0.7900]",
                "(0.7900, 0.8750]",
                "(0.8750, 0.9600]",
                "(0.9600, 1.5000]",
                "(1.5000, 2.5000]",
                "(2.5000, 3.5000]",
                "(3.5000, 4.5000]",
                "(4.5000, 5.5000]",
                "(5.5000, 6.5000]",
                "(6.5000, 7.5000]",
                "(7.5000, 8.5000]",
                "(8.5000, 9.5000]",
                "(9.5000, 10.5000]",
                "(10.5000, 11.5000]",
                "(11.5000, 12.5000]",
                "(12.5000, 13.5000]",
                "(13.5000, 14.2500]",
                "(14.2500, 14.7500]",
                "(14.7500, 15.5000]",
                "(15.5000, 16.5000]",
                "(16.5000, 17.5000]",
                "(17.5000, 18.5000]",
                "(18.5000, 19.5000]",
                "(19.5000, 20.2500]",
                "(20.2500, 20.7500]",
                "(20.7500, 21.5000]",
                "(21.5000, 22.5000]",
                "(22.5000, 23.5000]",
                "(23.5000, 24.5000]",
                "(24.5000, 25.5000]",
                "(25.5000, 26.5000]",
                "(26.5000, 27.5000]",
                "(27.5000, 28.2500]",
                "(28.2500, 28.7500]",
                "(28.7500, 29.5000]",
                "(29.5000, 30.2500]",
                "(30.2500, 30.7500]",
                "(30.7500, 31.5000]",
                "(31.5000, 32.2500]",
                "(32.2500, 32.7500]",
                "(32.7500, 33.5000]",
                "(33.5000, 34.2500]",
                "(34.2500, 34.7500]",
                "(34.7500, 35.5000]",
                "(35.5000, 36.2500]",
                "(36.2500, 36.7500]",
                "(36.7500, 37.5000]",
                "(37.5000, 38.5000]",
                "(38.5000, 39.5000]",
                "(39.5000, 40.2500]",
                "(40.2500, 40.7500]",
                "(40.7500, 41.5000]",
                "(41.5000, 42.5000]",
                "(42.5000, 43.5000]",
                "(43.5000, 44.5000]",
                "(44.5000, 45.2500]",
                "(45.2500, 45.7500]",
                "(45.7500, 46.5000]",
                "(46.5000, 47.5000]",
                "(47.5000, 48.5000]",
                "(48.5000, 49.5000]",
                "(49.5000, 50.5000]",
                "(50.5000, 51.5000]",
                "(51.5000, 53.0000]",
                "(53.0000, 54.5000]",
                "(54.5000, 55.2500]",
                "(55.2500, 55.7500]",
                "(55.7500, 56.5000]",
                "(56.5000, 57.5000]",
                "(57.5000, 58.5000]",
                "(58.5000, 59.5000]",
                "(59.5000, 60.5000]",
                "(60.5000, 61.5000]",
                "(61.5000, 62.5000]",
                "(62.5000, 64.5000]",
                "(64.5000, 65.5000]",
                "(65.5000, 68.0000]",
                "(68.0000, 70.2500]",
                "(70.2500, 70.7500]",
                "(70.7500, 72.5000]",
                "(72.5000, 77.0000]",
                "(77.0000, +inf)"
               ],
               "tickvals": [
                0,
                1,
                2,
                3,
                4,
                5,
                6,
                7,
                8,
                9,
                10,
                11,
                12,
                13,
                14,
                15,
                16,
                17,
                18,
                19,
                20,
                21,
                22,
                23,
                24,
                25,
                26,
                27,
                28,
                29,
                30,
                31,
                32,
                33,
                34,
                35,
                36,
                37,
                38,
                39,
                40,
                41,
                42,
                43,
                44,
                45,
                46,
                47,
                48,
                49,
                50,
                51,
                52,
                53,
                54,
                55,
                56,
                57,
                58,
                59,
                60,
                61,
                62,
                63,
                64,
                65,
                66,
                67,
                68,
                69,
                70,
                71,
                72,
                73,
                74,
                75,
                76,
                77,
                78,
                79,
                80,
                81,
                82,
                83,
                84
               ],
               "title": {
                "text": "Bins"
               }
              }
             }
            ],
            "label": "Age",
            "method": "update"
           },
           {
            "args": [
             {
              "y": [
               [
                0.3441295623779297,
                0.5365853905677795,
                0.523809552192688,
                0.20000000298023224,
                0.10000000149011612,
                0,
                0
               ],
               [
                0.3402111828327179,
                0.5321330428123474,
                0.48823806643486023,
                0.22968651354312897,
                0.1740977168083191,
                0.10284872353076935,
                0.09319344907999039
               ],
               [
                494,
                164,
                21,
                15,
                10,
                5,
                3
               ],
               [
                0.3871512436408297,
                0.3886018073360912,
                0.39357918659232005,
                0.3801037935623232,
                0.3594942298587119,
                0.3417483994224606,
                0.3726667870033155
               ]
              ]
             },
             {
              "xaxis": {
               "showticklabels": true,
               "tickmode": "array",
               "ticktext": [
                "0",
                "1",
                "2",
                "4",
                "3",
                "8",
                "5"
               ],
               "tickvals": [
                0,
                1,
                2,
                3,
                4,
                5,
                6
               ],
               "title": {
                "text": "Cat values"
               }
              }
             }
            ],
            "label": "SibSp",
            "method": "update"
           },
           {
            "args": [
             {
              "y": [
               [
                0.3413284122943878,
                0.542553186416626,
                0.5409836173057556,
                0.6000000238418579,
                0.20000000298023224,
                0,
                0
               ],
               [
                0.34106725454330444,
                0.5343318581581116,
                0.5217786431312561,
                0.5493281483650208,
                0.23052875697612762,
                0.14530564844608307,
                0.17260031402111053
               ],
               [
                542,
                94,
                61,
                5,
                5,
                4,
                1
               ],
               [
                0.38066836277131566,
                0.39880504060920574,
                0.4100852769839584,
                0.4043402956520385,
                0.381576765660814,
                0.3258202759899803,
                0.377226816030283
               ]
              ]
             },
             {
              "xaxis": {
               "showticklabels": true,
               "tickmode": "array",
               "ticktext": [
                "0",
                "1",
                "2",
                "3",
                "5",
                "4",
                "6"
               ],
               "tickvals": [
                0,
                1,
                2,
                3,
                4,
                5,
                6
               ],
               "title": {
                "text": "Cat values"
               }
              }
             }
            ],
            "label": "Parch",
            "method": "update"
           },
           {
            "args": [
             {
              "y": [
               [
                0,
                0,
                0,
                0,
                0,
                0,
                0,
                0,
                0,
                0,
                1,
                0.25,
                0.3076923191547394,
                0.07692307978868484,
                0,
                0.3333333432674408,
                0,
                0.25,
                0,
                0,
                0,
                0.5,
                0.5,
                0.4761904776096344,
                0.23076923191547394,
                0.25,
                0.42105263471603394,
                0,
                0.4375,
                1,
                0.1515151560306549,
                0,
                0,
                0,
                0.3333333432674408,
                0,
                0.0833333358168602,
                1,
                0,
                0,
                0.5,
                0,
                0.375,
                0.25,
                0,
                0,
                0,
                0.30000001192092896,
                1,
                1,
                0,
                1,
                0.5,
                1,
                0,
                0.5,
                0.3636363744735718,
                1,
                0.25,
                1,
                0,
                0,
                0.1428571492433548,
                0,
                0.2857142984867096,
                0,
                0,
                0.4000000059604645,
                0.1666666716337204,
                0,
                1,
                1,
                0.3333333432674408,
                1,
                1,
                0.20000000298023224,
                1,
                0,
                1,
                1,
                1,
                1,
                0,
                0.3333333432674408,
                0.5,
                0,
                0,
                0,
                1,
                1,
                0,
                1,
                1,
                0,
                0.5,
                0.1111111119389534,
                0,
                0,
                1,
                0.47999998927116394,
                0.800000011920929,
                1,
                1,
                1,
                0.6000000238418579,
                0.5,
                0.25,
                0.5,
                0,
                0,
                0,
                1,
                0,
                0.3333333432674408,
                0.800000011920929,
                0,
                1,
                0,
                0.6666666865348816,
                0,
                0.75,
                1,
                0.5,
                0,
                0.3333333432674408,
                0,
                1,
                0,
                0.75,
                0.1428571492433548,
                0,
                1,
                0,
                0,
                0,
                1,
                0.3333333432674408,
                0,
                0.5,
                0.4000000059604645,
                1,
                0.75,
                1,
                1,
                0.5,
                0.8333333134651184,
                1,
                1,
                0.75,
                0,
                1,
                1,
                1,
                0,
                1,
                1,
                0,
                1,
                1,
                0.625,
                0.3333333432674408,
                0.6666666865348816,
                1,
                1,
                0,
                1,
                1,
                1,
                1,
                1,
                0.5,
                0.5,
                1,
                1,
                1,
                0.75,
                0.6666666865348816,
                1,
                0,
                1
               ],
               [
                0.0528351329267025,
                0.05245864763855934,
                0.046068742871284485,
                0.5510302782058716,
                0.06330949068069458,
                0.04639334976673126,
                0.06654803454875946,
                0.05853917449712753,
                0.06338586658239365,
                0.06705371290445328,
                0.17811569571495056,
                0.26890918612480164,
                0.24289271235466003,
                0.11670367419719696,
                0.07095474004745483,
                0.2410772293806076,
                0.09501469880342484,
                0.3008490800857544,
                0.14281897246837616,
                0.11342121660709381,
                0.1151135265827179,
                0.4469083845615387,
                0.4533401131629944,
                0.41661471128463745,
                0.20811623334884644,
                0.13344921171665192,
                0.36709558963775635,
                0.11690345406532288,
                0.23636700212955475,
                0.7111480236053467,
                0.15563537180423737,
                0.11772513389587402,
                0.13760466873645782,
                0.10244791209697723,
                0.2412741333246231,
                0.12644346058368683,
                0.1852632761001587,
                0.4763166308403015,
                0.15176159143447876,
                0.11331101506948471,
                0.3124929368495941,
                0.1264210194349289,
                0.22500260174274445,
                0.42911964654922485,
                0.12063717842102051,
                0.12256773561239243,
                0.47324082255363464,
                0.3346918225288391,
                0.5993771553039551,
                0.2990110516548157,
                0.1275893896818161,
                0.6276784539222717,
                0.4921509921550751,
                0.5225589275360107,
                0.06812348961830139,
                0.5295632481575012,
                0.34602928161621094,
                0.7558323740959167,
                0.26283830404281616,
                0.5977336764335632,
                0.06406976282596588,
                0.2193608283996582,
                0.39536815881729126,
                0.5875332951545715,
                0.33262917399406433,
                0.1788311004638672,
                0.2871791422367096,
                0.4672347605228424,
                0.26562756299972534,
                0.12210046499967575,
                0.5667158365249634,
                0.8426061272621155,
                0.25196313858032227,
                0.4041149318218231,
                0.8265123963356018,
                0.24375858902931213,
                0.6440756320953369,
                0.35903868079185486,
                0.8080123066902161,
                0.26107174158096313,
                0.7707327008247375,
                0.9096108078956604,
                0.19293543696403503,
                0.21826259791851044,
                0.24254196882247925,
                0.30265066027641296,
                0.1926984041929245,
                0.23776355385780334,
                0.5572877526283264,
                0.738370418548584,
                0.1491975635290146,
                0.9007372856140137,
                0.5614483952522278,
                0.28710174560546875,
                0.5383550524711609,
                0.23942126333713531,
                0.3460632562637329,
                0.2400059700012207,
                0.9222794771194458,
                0.5070533156394958,
                0.7429938912391663,
                0.9400683045387268,
                0.5077929496765137,
                0.5595747232437134,
                0.3409150242805481,
                0.5139158964157104,
                0.44588911533355713,
                0.5475555658340454,
                0.09769909083843231,
                0.3785593509674072,
                0.6521009206771851,
                0.7503477931022644,
                0.15336836874485016,
                0.37828752398490906,
                0.5632715821266174,
                0.17475126683712006,
                0.4697240889072418,
                0.30945754051208496,
                0.5640053153038025,
                0.2236579805612564,
                0.3597671687602997,
                0.8890431523323059,
                0.5445899367332458,
                0.206269770860672,
                0.3219763934612274,
                0.19401070475578308,
                0.7315599322319031,
                0.32993751764297485,
                0.6708576083183289,
                0.2709869146347046,
                0.44529300928115845,
                0.9477428793907166,
                0.21741653978824615,
                0.11304517090320587,
                0.25387123227119446,
                0.9674928188323975,
                0.47233113646507263,
                0.36068981885910034,
                0.6137657761573792,
                0.5670289397239685,
                0.618632972240448,
                0.6974599957466125,
                0.9604682326316833,
                0.5604036450386047,
                0.6713693141937256,
                0.5127341747283936,
                0.7695098519325256,
                0.9538936018943787,
                0.7676325440406799,
                0.15642160177230835,
                0.4301093518733978,
                0.8715823888778687,
                0.963710606098175,
                0.10284872353076935,
                0.9552205204963684,
                0.9753146767616272,
                0.12968184053897858,
                0.975450336933136,
                0.6852133870124817,
                0.7164801955223083,
                0.6048793196678162,
                0.7308737635612488,
                0.9599807858467102,
                0.633155345916748,
                0.341001033782959,
                0.9742657542228699,
                0.9599907994270325,
                0.8372851014137268,
                0.8086821436882019,
                0.963313639163971,
                0.7234691977500916,
                0.7260518670082092,
                0.8445674777030945,
                0.6867062449455261,
                0.9728022217750549,
                0.8421078324317932,
                0.7460611462593079,
                0.9658665657043457,
                0.15074999630451202,
                0.7525889873504639
               ],
               [
                17,
                1,
                3,
                1,
                1,
                1,
                1,
                7,
                2,
                3,
                1,
                8,
                13,
                13,
                1,
                3,
                1,
                4,
                2,
                1,
                1,
                4,
                2,
                21,
                13,
                4,
                19,
                32,
                16,
                1,
                33,
                2,
                1,
                1,
                3,
                1,
                12,
                1,
                1,
                4,
                2,
                1,
                8,
                4,
                1,
                1,
                2,
                20,
                2,
                1,
                4,
                1,
                2,
                3,
                1,
                2,
                33,
                1,
                4,
                2,
                1,
                2,
                7,
                1,
                7,
                1,
                1,
                5,
                6,
                1,
                2,
                1,
                3,
                1,
                1,
                5,
                2,
                2,
                3,
                1,
                3,
                2,
                4,
                3,
                2,
                4,
                4,
                1,
                1,
                2,
                1,
                4,
                2,
                2,
                2,
                9,
                1,
                1,
                2,
                25,
                5,
                1,
                2,
                1,
                10,
                2,
                4,
                2,
                5,
                1,
                1,
                2,
                4,
                3,
                5,
                1,
                3,
                2,
                3,
                6,
                4,
                1,
                2,
                5,
                3,
                1,
                1,
                1,
                4,
                7,
                1,
                2,
                1,
                4,
                1,
                1,
                3,
                1,
                2,
                5,
                3,
                4,
                2,
                1,
                2,
                6,
                2,
                1,
                4,
                1,
                1,
                2,
                2,
                5,
                1,
                1,
                5,
                1,
                3,
                8,
                3,
                3,
                2,
                1,
                1,
                2,
                1,
                3,
                3,
                3,
                2,
                2,
                7,
                2,
                2,
                8,
                15,
                2,
                1,
                2
               ],
               [
                0.2695334190755067,
                0.270154476422416,
                0.271382314892498,
                0.2754957236607958,
                0.28158715630740333,
                0.2892804957459604,
                0.29192509130455957,
                0.30326102759869916,
                0.3131893486424862,
                0.3161650027723193,
                0.33219684943427713,
                0.33694769456375484,
                0.338949118036086,
                0.3395175570038418,
                0.33991656094725475,
                0.342346109872016,
                0.34266642374922957,
                0.34251709888424847,
                0.3441396741898209,
                0.3466143554677668,
                0.3479725367632097,
                0.3501816980931033,
                0.3507926736077423,
                0.3519297149334005,
                0.35208020642796317,
                0.3525291635624253,
                0.35263855033152586,
                0.3530910725080903,
                0.35878218816001345,
                0.3603898474753555,
                0.3608459033922518,
                0.36146784609977833,
                0.361433748563067,
                0.36177235580359673,
                0.36206321199541314,
                0.3620322292448113,
                0.36163151685428097,
                0.3621181227121854,
                0.36219860750736804,
                0.36233707658270037,
                0.3632767578339317,
                0.363443826723886,
                0.3641075653519464,
                0.3642515577818579,
                0.3649556074657449,
                0.3660255276928134,
                0.36623423748075956,
                0.3696203620013064,
                0.37067081223600146,
                0.37172300403663844,
                0.3722283565707988,
                0.37280934477892297,
                0.3727157553734755,
                0.3729822847085598,
                0.3739948534498591,
                0.3748317529951361,
                0.3756086225685713,
                0.3736690712944056,
                0.3732017147328619,
                0.3715546214303117,
                0.37032841899621965,
                0.3689551856732603,
                0.36892122776916764,
                0.37098481130960653,
                0.3710550703076014,
                0.37304386783812377,
                0.3725562100384064,
                0.3745987996616966,
                0.37591466579790217,
                0.3772604481978207,
                0.37809173713442057,
                0.378570322358937,
                0.37862719328692457,
                0.37919105171509293,
                0.37948422475364435,
                0.37969482717951686,
                0.3828585265411478,
                0.3834371067471302,
                0.3880576024936678,
                0.38894782773804376,
                0.3887733822267198,
                0.3857657103732627,
                0.38634948996333973,
                0.3868204068643409,
                0.3868732405575754,
                0.3875506181091598,
                0.38806559800610524,
                0.3884465204159166,
                0.38884653624872734,
                0.38917294231932503,
                0.3908687385465503,
                0.39138512210769905,
                0.39239203301272907,
                0.394623934240011,
                0.39464289717166756,
                0.39616228497422284,
                0.39614594297775346,
                0.3966352797317444,
                0.39883825335357165,
                0.3999084658937193,
                0.40205498726732025,
                0.40255166321104074,
                0.40552630762845177,
                0.4070534481456818,
                0.4066349024328422,
                0.40766841187061614,
                0.40606284225584194,
                0.40637810701965094,
                0.40558370111601144,
                0.4064797428011793,
                0.4084806421050707,
                0.40873823918948565,
                0.4091497215614134,
                0.41074852386671595,
                0.4109324531099494,
                0.41251241906693104,
                0.41362522948838154,
                0.4147022621650148,
                0.41373064823409356,
                0.414291743552977,
                0.4143592258692944,
                0.4139413287849615,
                0.4114359766971601,
                0.41183632246243224,
                0.4120817482063176,
                0.4108063088555024,
                0.4113875909578782,
                0.41211059995207583,
                0.41227021320963325,
                0.41021458233707786,
                0.4102915487715169,
                0.4103577628787637,
                0.40854204881903966,
                0.40739803976286915,
                0.40818501681264036,
                0.410048424770357,
                0.41219791331070604,
                0.41567539488463945,
                0.4210556627987618,
                0.42290006863312846,
                0.42485088910217816,
                0.4268753375299149,
                0.43011636924257796,
                0.43252660507656676,
                0.4345616842396325,
                0.4378803094898935,
                0.4365325754666336,
                0.43400376118012735,
                0.4339096656367857,
                0.4320895596682302,
                0.4314237377068807,
                0.4311234153990798,
                0.430890815807281,
                0.43063194757813045,
                0.4296018997409331,
                0.4293322309137896,
                0.4291589835147318,
                0.4292266282289456,
                0.42932627680033497,
                0.4274995643830197,
                0.42850230965935177,
                0.4313213514431143,
                0.4315506398780392,
                0.433670627266735,
                0.43374370787576655,
                0.4341460706776061,
                0.4342807824826743,
                0.43572738123020893,
                0.4369892881683675,
                0.43597131300660114,
                0.4379837441228302,
                0.4388084164870876,
                0.4391137532533687,
                0.4372026236935445,
                0.43658790095329997,
                0.4333806944122214,
                0.43292584241020904,
                0.4348245297919059,
                0.437080665544913,
                0.4510610168978271
               ]
              ]
             },
             {
              "xaxis": {
               "showticklabels": false,
               "tickmode": "array",
               "ticktext": [
                "(-inf, 6.3375]",
                "(6.3375, 6.4437]",
                "(6.4437, 6.6229]",
                "(6.6229, 6.8500]",
                "(6.8500, 6.9625]",
                "(6.9625, 7.0104]",
                "(7.0104, 7.0479]",
                "(7.0479, 7.0521]",
                "(7.0521, 7.0896]",
                "(7.0896, 7.1333]",
                "(7.1333, 7.1833]",
                "(7.1833, 7.2271]",
                "(7.2271, 7.2396]",
                "(7.2396, 7.2812]",
                "(7.2812, 7.4042]",
                "(7.4042, 7.5083]",
                "(7.5083, 7.5354]",
                "(7.5354, 7.6000]",
                "(7.6000, 7.6875]",
                "(7.6875, 7.7271]",
                "(7.7271, 7.7312]",
                "(7.7312, 7.7354]",
                "(7.7354, 7.7438]",
                "(7.7438, 7.7625]",
                "(7.7625, 7.7854]",
                "(7.7854, 7.7979]",
                "(7.7979, 7.8875]",
                "(7.8875, 7.9104]",
                "(7.9104, 7.9771]",
                "(7.9771, 8.0396]",
                "(8.0396, 8.1479]",
                "(8.1479, 8.3313]",
                "(8.3313, 8.3834]",
                "(8.3834, 8.4187]",
                "(8.4187, 8.5854]",
                "(8.5854, 8.6583]",
                "(8.6583, 8.6729]",
                "(8.6729, 8.6979]",
                "(8.6979, 8.8562]",
                "(8.8562, 9.2875]",
                "(9.2875, 9.4167]",
                "(9.4167, 9.4916]",
                "(9.4916, 9.7062]",
                "(9.7062, 9.8438]",
                "(9.8438, 10.0083]",
                "(10.0083, 10.3167]",
                "(10.3167, 10.4812]",
                "(10.4812, 10.8250]",
                "(10.8250, 11.1875]",
                "(11.1875, 11.3708]",
                "(11.3708, 11.8938]",
                "(11.8938, 12.3188]",
                "(12.3188, 12.4125]",
                "(12.4125, 12.5000]",
                "(12.5000, 12.5875]",
                "(12.5875, 12.9375]",
                "(12.9375, 13.2084]",
                "(13.2084, 13.4584]",
                "(13.4584, 13.6791]",
                "(13.6791, 13.9312]",
                "(13.9312, 14.2000]",
                "(14.2000, 14.4271]",
                "(14.4271, 14.4562]",
                "(14.4562, 14.4791]",
                "(14.4791, 15.0229]",
                "(15.0229, 15.0479]",
                "(15.0479, 15.0750]",
                "(15.0750, 15.3729]",
                "(15.3729, 15.5250]",
                "(15.5250, 15.6459]",
                "(15.6459, 15.7458]",
                "(15.7458, 15.8000]",
                "(15.8000, 15.8750]",
                "(15.8750, 15.9500]",
                "(15.9500, 16.0500]",
                "(16.0500, 16.4000]",
                "(16.4000, 17.2500]",
                "(17.2500, 18.3750]",
                "(18.3750, 18.7687]",
                "(18.7687, 19.0229]",
                "(19.0229, 19.3792]",
                "(19.3792, 19.7333]",
                "(19.7333, 20.2313]",
                "(20.2313, 20.5500]",
                "(20.5500, 20.7875]",
                "(20.7875, 21.0375]",
                "(21.0375, 21.3771]",
                "(21.3771, 21.8521]",
                "(21.8521, 22.1917]",
                "(22.1917, 22.4417]",
                "(22.4417, 22.7625]",
                "(22.7625, 23.1250]",
                "(23.1250, 23.3500]",
                "(23.3500, 23.7250]",
                "(23.7250, 24.0750]",
                "(24.0750, 25.5271]",
                "(25.5271, 25.7562]",
                "(25.7562, 25.9271]",
                "(25.9271, 25.9646]",
                "(25.9646, 26.1250]",
                "(26.1250, 26.2667]",
                "(26.2667, 26.2854]",
                "(26.2854, 26.3375]",
                "(26.3375, 26.4688]",
                "(26.4688, 26.7750]",
                "(26.7750, 27.3604]",
                "(27.3604, 27.7354]",
                "(27.7354, 27.8250]",
                "(27.8250, 28.2000]",
                "(28.2000, 28.6063]",
                "(28.6063, 28.8563]",
                "(28.8563, 29.0625]",
                "(29.0625, 29.4125]",
                "(29.4125, 29.8500]",
                "(29.8500, 30.0354]",
                "(30.0354, 30.2854]",
                "(30.2854, 30.5979]",
                "(30.5979, 30.8479]",
                "(30.8479, 31.1375]",
                "(31.1375, 31.3312]",
                "(31.3312, 31.9438]",
                "(31.9438, 32.7500]",
                "(32.7500, 33.2500]",
                "(33.2500, 34.5146]",
                "(34.5146, 36.1250]",
                "(36.1250, 36.8771]",
                "(36.8771, 37.7521]",
                "(37.7521, 38.7500]",
                "(38.7500, 39.3000]",
                "(39.3000, 39.9062]",
                "(39.9062, 40.8521]",
                "(40.8521, 41.9896]",
                "(41.9896, 44.6500]",
                "(44.6500, 47.0000]",
                "(47.0000, 48.3000]",
                "(48.3000, 49.5021]",
                "(49.5021, 50.2479]",
                "(50.2479, 51.1791]",
                "(51.1791, 51.9313]",
                "(51.9313, 52.2771]",
                "(52.2771, 52.8271]",
                "(52.8271, 54.0500]",
                "(54.0500, 55.2208]",
                "(55.2208, 55.6709]",
                "(55.6709, 56.1979]",
                "(56.1979, 56.7125]",
                "(56.7125, 56.9646]",
                "(56.9646, 57.4896]",
                "(57.4896, 61.6792]",
                "(61.6792, 62.6687]",
                "(62.6687, 64.1792]",
                "(64.1792, 65.8000]",
                "(65.8000, 69.4250]",
                "(69.4250, 70.2750]",
                "(70.2750, 71.1416]",
                "(71.1416, 72.3916]",
                "(72.3916, 74.8959]",
                "(74.8959, 76.5105]",
                "(76.5105, 77.0083]",
                "(77.0083, 79.0250]",
                "(79.0250, 79.4250]",
                "(79.4250, 79.8250]",
                "(79.8250, 80.9292]",
                "(80.9292, 82.0145]",
                "(82.0145, 82.6646]",
                "(82.6646, 83.3167]",
                "(83.3167, 84.9875]",
                "(84.9875, 89.5521]",
                "(89.5521, 90.5396]",
                "(90.5396, 99.9625]",
                "(99.9625, 107.6625]",
                "(107.6625, 109.8916]",
                "(109.8916, 126.8250]",
                "(126.8250, 134.0750]",
                "(134.0750, 135.0667]",
                "(135.0667, 152.5063]",
                "(152.5063, 254.9479]",
                "(254.9479, 262.6875]",
                "(262.6875, 387.6646]",
                "(387.6646, +inf)"
               ],
               "tickvals": [
                0,
                1,
                2,
                3,
                4,
                5,
                6,
                7,
                8,
                9,
                10,
                11,
                12,
                13,
                14,
                15,
                16,
                17,
                18,
                19,
                20,
                21,
                22,
                23,
                24,
                25,
                26,
                27,
                28,
                29,
                30,
                31,
                32,
                33,
                34,
                35,
                36,
                37,
                38,
                39,
                40,
                41,
                42,
                43,
                44,
                45,
                46,
                47,
                48,
                49,
                50,
                51,
                52,
                53,
                54,
                55,
                56,
                57,
                58,
                59,
                60,
                61,
                62,
                63,
                64,
                65,
                66,
                67,
                68,
                69,
                70,
                71,
                72,
                73,
                74,
                75,
                76,
                77,
                78,
                79,
                80,
                81,
                82,
                83,
                84,
                85,
                86,
                87,
                88,
                89,
                90,
                91,
                92,
                93,
                94,
                95,
                96,
                97,
                98,
                99,
                100,
                101,
                102,
                103,
                104,
                105,
                106,
                107,
                108,
                109,
                110,
                111,
                112,
                113,
                114,
                115,
                116,
                117,
                118,
                119,
                120,
                121,
                122,
                123,
                124,
                125,
                126,
                127,
                128,
                129,
                130,
                131,
                132,
                133,
                134,
                135,
                136,
                137,
                138,
                139,
                140,
                141,
                142,
                143,
                144,
                145,
                146,
                147,
                148,
                149,
                150,
                151,
                152,
                153,
                154,
                155,
                156,
                157,
                158,
                159,
                160,
                161,
                162,
                163,
                164,
                165,
                166,
                167,
                168,
                169,
                170,
                171,
                172,
                173,
                174,
                175,
                176,
                177,
                178,
                179
               ],
               "title": {
                "text": "Bins"
               }
              }
             }
            ],
            "label": "Fare",
            "method": "update"
           },
           {
            "args": [
             {
              "y": [
               [
                0.32751938700675964,
                0.5611510872840881,
                0.4363636374473572,
                1
               ],
               [
                0.33003291487693787,
                0.5476904511451721,
                0.4222053587436676,
                0.9599807858467102
               ],
               [
                516,
                139,
                55,
                2
               ],
               [
                0.3599865534143841,
                0.42702090616039484,
                0.3993472893392938,
                0.4095870665533291
               ]
              ]
             },
             {
              "xaxis": {
               "showticklabels": true,
               "tickmode": "array",
               "ticktext": [
                "S",
                "C",
                "Q",
                "nan"
               ],
               "tickvals": [
                0,
                1,
                2,
                3
               ],
               "title": {
                "text": "Cat values"
               }
              }
             }
            ],
            "label": "Embarked",
            "method": "update"
           }
          ],
          "direction": "down",
          "pad": {
           "r": 10,
           "t": 10
          },
          "showactive": true,
          "x": 0.25,
          "xanchor": "left",
          "y": 1.09,
          "yanchor": "top"
         }
        ],
        "xaxis": {
         "showticklabels": true,
         "tickmode": "array",
         "ticktext": [
          "3",
          "1",
          "2"
         ],
         "tickvals": [
          0,
          1,
          2
         ],
         "title": {
          "text": "Cat values"
         }
        },
        "yaxis": {
         "overlaying": "y2",
         "side": "left",
         "title": {
          "text": "Prediction and target"
         }
        },
        "yaxis2": {
         "position": 1,
         "side": "right",
         "title": {
          "text": "Objects per bin"
         }
        }
       }
      },
      "text/html": [
       "<div>                            <div id=\"cc267c48-cc08-4943-841c-21528ee3e395\" class=\"plotly-graph-div\" style=\"height:525px; width:100%;\"></div>            <script type=\"text/javascript\">                require([\"plotly\"], function(Plotly) {                    window.PLOTLYENV=window.PLOTLYENV || {};                                    if (document.getElementById(\"cc267c48-cc08-4943-841c-21528ee3e395\")) {                    Plotly.newPlot(                        \"cc267c48-cc08-4943-841c-21528ee3e395\",                        [{\"mode\":\"lines+markers\",\"name\":\"Mean target\",\"xaxis\":\"x\",\"y\":[0.24296675622463226,0.6491228342056274,0.4466666579246521],\"yaxis\":\"y\",\"type\":\"scatter\"},{\"line\":{\"dash\":\"dash\"},\"mode\":\"lines+markers\",\"name\":\"Mean prediction on each segment of feature values\",\"xaxis\":\"x\",\"y\":[0.24658384919166565,0.6347202658653259,0.44410476088523865],\"yaxis\":\"y\",\"type\":\"scatter\"},{\"marker\":{\"color\":\"rgba(30, 150, 30, 0.4)\"},\"name\":\"Objects per bin\",\"width\":0.2,\"xaxis\":\"x\",\"y\":[391,171,150],\"yaxis\":\"y2\",\"type\":\"bar\"},{\"line\":{\"dash\":\"dashdot\"},\"mode\":\"lines+markers\",\"name\":\"Mean prediction with substituted feature\",\"xaxis\":\"x\",\"y\":[0.28183447430092046,0.48009698171530035,0.43131291831286184],\"yaxis\":\"y\",\"type\":\"scatter\"}],                        {\"annotations\":[{\"align\":\"left\",\"showarrow\":false,\"text\":\"Statistics for feature\",\"x\":0,\"xref\":\"paper\",\"y\":1.05,\"yref\":\"paper\"}],\"legend\":{\"bgcolor\":\"rgba(0,0,0,0)\",\"x\":1.07},\"template\":{\"data\":{\"barpolar\":[{\"marker\":{\"line\":{\"color\":\"#E5ECF6\",\"width\":0.5},\"pattern\":{\"fillmode\":\"overlay\",\"size\":10,\"solidity\":0.2}},\"type\":\"barpolar\"}],\"bar\":[{\"error_x\":{\"color\":\"#2a3f5f\"},\"error_y\":{\"color\":\"#2a3f5f\"},\"marker\":{\"line\":{\"color\":\"#E5ECF6\",\"width\":0.5},\"pattern\":{\"fillmode\":\"overlay\",\"size\":10,\"solidity\":0.2}},\"type\":\"bar\"}],\"carpet\":[{\"aaxis\":{\"endlinecolor\":\"#2a3f5f\",\"gridcolor\":\"white\",\"linecolor\":\"white\",\"minorgridcolor\":\"white\",\"startlinecolor\":\"#2a3f5f\"},\"baxis\":{\"endlinecolor\":\"#2a3f5f\",\"gridcolor\":\"white\",\"linecolor\":\"white\",\"minorgridcolor\":\"white\",\"startlinecolor\":\"#2a3f5f\"},\"type\":\"carpet\"}],\"choropleth\":[{\"colorbar\":{\"outlinewidth\":0,\"ticks\":\"\"},\"type\":\"choropleth\"}],\"contourcarpet\":[{\"colorbar\":{\"outlinewidth\":0,\"ticks\":\"\"},\"type\":\"contourcarpet\"}],\"contour\":[{\"colorbar\":{\"outlinewidth\":0,\"ticks\":\"\"},\"colorscale\":[[0.0,\"#0d0887\"],[0.1111111111111111,\"#46039f\"],[0.2222222222222222,\"#7201a8\"],[0.3333333333333333,\"#9c179e\"],[0.4444444444444444,\"#bd3786\"],[0.5555555555555556,\"#d8576b\"],[0.6666666666666666,\"#ed7953\"],[0.7777777777777778,\"#fb9f3a\"],[0.8888888888888888,\"#fdca26\"],[1.0,\"#f0f921\"]],\"type\":\"contour\"}],\"heatmapgl\":[{\"colorbar\":{\"outlinewidth\":0,\"ticks\":\"\"},\"colorscale\":[[0.0,\"#0d0887\"],[0.1111111111111111,\"#46039f\"],[0.2222222222222222,\"#7201a8\"],[0.3333333333333333,\"#9c179e\"],[0.4444444444444444,\"#bd3786\"],[0.5555555555555556,\"#d8576b\"],[0.6666666666666666,\"#ed7953\"],[0.7777777777777778,\"#fb9f3a\"],[0.8888888888888888,\"#fdca26\"],[1.0,\"#f0f921\"]],\"type\":\"heatmapgl\"}],\"heatmap\":[{\"colorbar\":{\"outlinewidth\":0,\"ticks\":\"\"},\"colorscale\":[[0.0,\"#0d0887\"],[0.1111111111111111,\"#46039f\"],[0.2222222222222222,\"#7201a8\"],[0.3333333333333333,\"#9c179e\"],[0.4444444444444444,\"#bd3786\"],[0.5555555555555556,\"#d8576b\"],[0.6666666666666666,\"#ed7953\"],[0.7777777777777778,\"#fb9f3a\"],[0.8888888888888888,\"#fdca26\"],[1.0,\"#f0f921\"]],\"type\":\"heatmap\"}],\"histogram2dcontour\":[{\"colorbar\":{\"outlinewidth\":0,\"ticks\":\"\"},\"colorscale\":[[0.0,\"#0d0887\"],[0.1111111111111111,\"#46039f\"],[0.2222222222222222,\"#7201a8\"],[0.3333333333333333,\"#9c179e\"],[0.4444444444444444,\"#bd3786\"],[0.5555555555555556,\"#d8576b\"],[0.6666666666666666,\"#ed7953\"],[0.7777777777777778,\"#fb9f3a\"],[0.8888888888888888,\"#fdca26\"],[1.0,\"#f0f921\"]],\"type\":\"histogram2dcontour\"}],\"histogram2d\":[{\"colorbar\":{\"outlinewidth\":0,\"ticks\":\"\"},\"colorscale\":[[0.0,\"#0d0887\"],[0.1111111111111111,\"#46039f\"],[0.2222222222222222,\"#7201a8\"],[0.3333333333333333,\"#9c179e\"],[0.4444444444444444,\"#bd3786\"],[0.5555555555555556,\"#d8576b\"],[0.6666666666666666,\"#ed7953\"],[0.7777777777777778,\"#fb9f3a\"],[0.8888888888888888,\"#fdca26\"],[1.0,\"#f0f921\"]],\"type\":\"histogram2d\"}],\"histogram\":[{\"marker\":{\"pattern\":{\"fillmode\":\"overlay\",\"size\":10,\"solidity\":0.2}},\"type\":\"histogram\"}],\"mesh3d\":[{\"colorbar\":{\"outlinewidth\":0,\"ticks\":\"\"},\"type\":\"mesh3d\"}],\"parcoords\":[{\"line\":{\"colorbar\":{\"outlinewidth\":0,\"ticks\":\"\"}},\"type\":\"parcoords\"}],\"pie\":[{\"automargin\":true,\"type\":\"pie\"}],\"scatter3d\":[{\"line\":{\"colorbar\":{\"outlinewidth\":0,\"ticks\":\"\"}},\"marker\":{\"colorbar\":{\"outlinewidth\":0,\"ticks\":\"\"}},\"type\":\"scatter3d\"}],\"scattercarpet\":[{\"marker\":{\"colorbar\":{\"outlinewidth\":0,\"ticks\":\"\"}},\"type\":\"scattercarpet\"}],\"scattergeo\":[{\"marker\":{\"colorbar\":{\"outlinewidth\":0,\"ticks\":\"\"}},\"type\":\"scattergeo\"}],\"scattergl\":[{\"marker\":{\"colorbar\":{\"outlinewidth\":0,\"ticks\":\"\"}},\"type\":\"scattergl\"}],\"scattermapbox\":[{\"marker\":{\"colorbar\":{\"outlinewidth\":0,\"ticks\":\"\"}},\"type\":\"scattermapbox\"}],\"scatterpolargl\":[{\"marker\":{\"colorbar\":{\"outlinewidth\":0,\"ticks\":\"\"}},\"type\":\"scatterpolargl\"}],\"scatterpolar\":[{\"marker\":{\"colorbar\":{\"outlinewidth\":0,\"ticks\":\"\"}},\"type\":\"scatterpolar\"}],\"scatter\":[{\"marker\":{\"colorbar\":{\"outlinewidth\":0,\"ticks\":\"\"}},\"type\":\"scatter\"}],\"scatterternary\":[{\"marker\":{\"colorbar\":{\"outlinewidth\":0,\"ticks\":\"\"}},\"type\":\"scatterternary\"}],\"surface\":[{\"colorbar\":{\"outlinewidth\":0,\"ticks\":\"\"},\"colorscale\":[[0.0,\"#0d0887\"],[0.1111111111111111,\"#46039f\"],[0.2222222222222222,\"#7201a8\"],[0.3333333333333333,\"#9c179e\"],[0.4444444444444444,\"#bd3786\"],[0.5555555555555556,\"#d8576b\"],[0.6666666666666666,\"#ed7953\"],[0.7777777777777778,\"#fb9f3a\"],[0.8888888888888888,\"#fdca26\"],[1.0,\"#f0f921\"]],\"type\":\"surface\"}],\"table\":[{\"cells\":{\"fill\":{\"color\":\"#EBF0F8\"},\"line\":{\"color\":\"white\"}},\"header\":{\"fill\":{\"color\":\"#C8D4E3\"},\"line\":{\"color\":\"white\"}},\"type\":\"table\"}]},\"layout\":{\"annotationdefaults\":{\"arrowcolor\":\"#2a3f5f\",\"arrowhead\":0,\"arrowwidth\":1},\"autotypenumbers\":\"strict\",\"coloraxis\":{\"colorbar\":{\"outlinewidth\":0,\"ticks\":\"\"}},\"colorscale\":{\"diverging\":[[0,\"#8e0152\"],[0.1,\"#c51b7d\"],[0.2,\"#de77ae\"],[0.3,\"#f1b6da\"],[0.4,\"#fde0ef\"],[0.5,\"#f7f7f7\"],[0.6,\"#e6f5d0\"],[0.7,\"#b8e186\"],[0.8,\"#7fbc41\"],[0.9,\"#4d9221\"],[1,\"#276419\"]],\"sequential\":[[0.0,\"#0d0887\"],[0.1111111111111111,\"#46039f\"],[0.2222222222222222,\"#7201a8\"],[0.3333333333333333,\"#9c179e\"],[0.4444444444444444,\"#bd3786\"],[0.5555555555555556,\"#d8576b\"],[0.6666666666666666,\"#ed7953\"],[0.7777777777777778,\"#fb9f3a\"],[0.8888888888888888,\"#fdca26\"],[1.0,\"#f0f921\"]],\"sequentialminus\":[[0.0,\"#0d0887\"],[0.1111111111111111,\"#46039f\"],[0.2222222222222222,\"#7201a8\"],[0.3333333333333333,\"#9c179e\"],[0.4444444444444444,\"#bd3786\"],[0.5555555555555556,\"#d8576b\"],[0.6666666666666666,\"#ed7953\"],[0.7777777777777778,\"#fb9f3a\"],[0.8888888888888888,\"#fdca26\"],[1.0,\"#f0f921\"]]},\"colorway\":[\"#636efa\",\"#EF553B\",\"#00cc96\",\"#ab63fa\",\"#FFA15A\",\"#19d3f3\",\"#FF6692\",\"#B6E880\",\"#FF97FF\",\"#FECB52\"],\"font\":{\"color\":\"#2a3f5f\"},\"geo\":{\"bgcolor\":\"white\",\"lakecolor\":\"white\",\"landcolor\":\"#E5ECF6\",\"showlakes\":true,\"showland\":true,\"subunitcolor\":\"white\"},\"hoverlabel\":{\"align\":\"left\"},\"hovermode\":\"closest\",\"mapbox\":{\"style\":\"light\"},\"paper_bgcolor\":\"white\",\"plot_bgcolor\":\"#E5ECF6\",\"polar\":{\"angularaxis\":{\"gridcolor\":\"white\",\"linecolor\":\"white\",\"ticks\":\"\"},\"bgcolor\":\"#E5ECF6\",\"radialaxis\":{\"gridcolor\":\"white\",\"linecolor\":\"white\",\"ticks\":\"\"}},\"scene\":{\"xaxis\":{\"backgroundcolor\":\"#E5ECF6\",\"gridcolor\":\"white\",\"gridwidth\":2,\"linecolor\":\"white\",\"showbackground\":true,\"ticks\":\"\",\"zerolinecolor\":\"white\"},\"yaxis\":{\"backgroundcolor\":\"#E5ECF6\",\"gridcolor\":\"white\",\"gridwidth\":2,\"linecolor\":\"white\",\"showbackground\":true,\"ticks\":\"\",\"zerolinecolor\":\"white\"},\"zaxis\":{\"backgroundcolor\":\"#E5ECF6\",\"gridcolor\":\"white\",\"gridwidth\":2,\"linecolor\":\"white\",\"showbackground\":true,\"ticks\":\"\",\"zerolinecolor\":\"white\"}},\"shapedefaults\":{\"line\":{\"color\":\"#2a3f5f\"}},\"ternary\":{\"aaxis\":{\"gridcolor\":\"white\",\"linecolor\":\"white\",\"ticks\":\"\"},\"baxis\":{\"gridcolor\":\"white\",\"linecolor\":\"white\",\"ticks\":\"\"},\"bgcolor\":\"#E5ECF6\",\"caxis\":{\"gridcolor\":\"white\",\"linecolor\":\"white\",\"ticks\":\"\"}},\"title\":{\"x\":0.05},\"xaxis\":{\"automargin\":true,\"gridcolor\":\"white\",\"linecolor\":\"white\",\"ticks\":\"\",\"title\":{\"standoff\":15},\"zerolinecolor\":\"white\",\"zerolinewidth\":2},\"yaxis\":{\"automargin\":true,\"gridcolor\":\"white\",\"linecolor\":\"white\",\"ticks\":\"\",\"title\":{\"standoff\":15},\"zerolinecolor\":\"white\",\"zerolinewidth\":2}}},\"updatemenus\":[{\"buttons\":[{\"args\":[{\"y\":[[0.24296675622463226,0.6491228342056274,0.4466666579246521],[0.24658384919166565,0.6347202658653259,0.44410476088523865],[391,171,150],[0.28183447430092046,0.48009698171530035,0.43131291831286184]]},{\"xaxis\":{\"showticklabels\":true,\"tickmode\":\"array\",\"ticktext\":[\"3\",\"1\",\"2\"],\"tickvals\":[0,1,2],\"title\":{\"text\":\"Cat values\"}}}],\"label\":\"Pclass\",\"method\":\"update\"},{\"args\":[{\"y\":[[0.18518517911434174,0.7430830001831055],[0.18834422528743744,0.7316884398460388],[459,253],[0.0,0.6847573364197894]]},{\"xaxis\":{\"showticklabels\":true,\"tickmode\":\"array\",\"ticktext\":[\"male\",\"female\"],\"tickvals\":[0,1],\"title\":{\"text\":\"Cat values\"}}}],\"label\":\"Sex\",\"method\":\"update\"},{\"args\":[{\"y\":[[0.29197078943252563,1.0,1.0,1.0,1.0,1.0,0.8333333134651184,0.3333333432674408,0.8333333134651184,0.6666666865348816,1.0,0.6666666865348816,0.3333333432674408,0.3333333432674408,0.0,0.0,0.0,1.0,1.0,0.0,0.0,0.800000011920929,0.4000000059604645,0.4444444477558136,0.3478260934352875,0.380952388048172,0.23076923191547394,0.0,0.190476194024086,0.38461539149284363,0.23076923191547394,0.5454545617103577,0.1538461595773697,0.4000000059604645,0.5,0.2857142984867096,0.0,0.375,0.42105263471603394,0.0,0.5833333134651184,0.5,0.5,0.3636363744735718,0.3636363744735718,0.0,0.6153846383094788,0.42105263471603394,0.0,0.20000000298023224,0.4545454680919647,0.3571428656578064,0.5,0.0,0.4000000059604645,0.5,0.20000000298023224,0.5,0.5,0.0,0.0,0.125,0.7142857313156128,0.800000011920929,0.4444444477558136,0.2857142984867096,0.6000000238418579,0.375,1.0,0.0,0.3333333432674408,0.0,0.6666666865348816,0.0,0.0,0.0,1.0,0.3333333432674408,0.0,0.0,0.0,0.0,0.0,0.0,1.0],[0.3153543770313263,0.47550615668296814,0.7269565463066101,0.8141288161277771,0.6911959648132324,0.7277595400810242,0.570723295211792,0.43406060338020325,0.5803624987602234,0.5503654479980469,0.7106634974479675,0.5712100863456726,0.394732803106308,0.41086363792419434,0.24618561565876007,0.22815288603305817,0.17442336678504944,0.2990110516548157,0.8418586254119873,0.2255842089653015,0.4541333317756653,0.6376896500587463,0.3374404013156891,0.447133332490921,0.3978350758552551,0.3391032814979553,0.19117416441440582,0.08998358994722366,0.2654987573623657,0.4048428535461426,0.2683030962944031,0.5160778760910034,0.25290799140930176,0.3505849540233612,0.43980562686920166,0.3776713013648987,0.13471394777297974,0.3446527123451233,0.4250901937484741,0.5587774515151978,0.4597705602645874,0.32472431659698486,0.5344604253768921,0.37245407700538635,0.3464300334453583,0.05245864763855934,0.5504300594329834,0.4286923110485077,0.22104983031749725,0.2884909212589264,0.4752984046936035,0.3728518784046173,0.4796815812587738,0.0944303646683693,0.4947652816772461,0.383882999420166,0.2822883427143097,0.5195294618606567,0.4373041093349457,0.2277776300907135,0.4116360545158386,0.30835530161857605,0.5823735594749451,0.6122632622718811,0.5298678278923035,0.2604926824569702,0.5392871499061584,0.4326934814453125,0.8265123963356018,0.06970138102769852,0.3025371730327606,0.3224128186702728,0.7264125943183899,0.047201912850141525,0.1229507103562355,0.12399756908416748,0.9484567642211914,0.2607707679271698,0.15502037107944489,0.04288208484649658,0.043285977095365524,0.04574815183877945,0.18986940383911133,0.06710153073072433,0.4951589107513428],[137,1,1,1,2,1,6,6,6,9,4,3,3,3,4,2,2,1,2,3,1,5,10,9,23,21,13,1,21,26,13,22,13,15,12,21,2,16,19,1,12,18,2,11,11,1,13,19,1,5,11,14,12,1,5,12,5,6,10,2,1,8,7,5,9,7,5,8,1,1,3,2,3,2,2,2,1,3,3,1,1,1,2,1,1],[0.40652549741991056,0.4339328721240392,0.4347717872068382,0.4400110880525785,0.44962311073000666,0.4498149578323136,0.45395524344472515,0.44469786626188584,0.44623595261944166,0.4448121685855724,0.4404326705956167,0.42665243851552703,0.42376036262827216,0.4105495145186247,0.4045033055769999,0.4019589137871282,0.40131528491795315,0.39885822493492035,0.3927621484266063,0.390254635153333,0.39003025780045253,0.38951209803180853,0.3884117838016794,0.386121299671866,0.38380005298879,0.38289570263763223,0.38226646925315433,0.3811478701118255,0.37880689468979134,0.3784899798000854,0.3785929844085416,0.3783176437960078,0.3774106609049317,0.3777900026123071,0.37738318977980595,0.3764037720047326,0.3764691794733048,0.3765960713213642,0.37439749407876866,0.3762690932893844,0.377213571681048,0.3769277329075613,0.3720108555629728,0.3663988992220651,0.3645774886759722,0.362302650560785,0.3598202137040028,0.35718074917667714,0.3533398654498065,0.34942840122865143,0.34804250429185013,0.3469426350184948,0.345163542612923,0.3436600554798379,0.34288776834753854,0.34257964578158145,0.3397014540218075,0.33894924333643867,0.33843292587940604,0.3362167269375506,0.3329800321768775,0.3298319525118487,0.32923388434789636,0.3294794227276518,0.3239907895728359,0.32102877886065917,0.32010042688614926,0.3151829710999185,0.31292329216972,0.30876075959669225,0.3045409108990758,0.3002888350074519,0.298303091880264,0.29706834313606756,0.29705368010098504,0.29611041879633376,0.2963953827924033,0.2953561574025087,0.2951734830423547,0.2954982967949451,0.29562174350572085,0.29512711855252804,0.2962286582706961,0.3172689637287336,0.35027190586249374]]},{\"xaxis\":{\"showticklabels\":false,\"tickmode\":\"array\",\"ticktext\":[\"(-inf, -340282346638528859811704183484516925440.0000]\",\"(-340282346638528859811704183484516925440.0000, 0.5450]\",\"(0.5450, 0.7100]\",\"(0.7100, 0.7900]\",\"(0.7900, 0.8750]\",\"(0.8750, 0.9600]\",\"(0.9600, 1.5000]\",\"(1.5000, 2.5000]\",\"(2.5000, 3.5000]\",\"(3.5000, 4.5000]\",\"(4.5000, 5.5000]\",\"(5.5000, 6.5000]\",\"(6.5000, 7.5000]\",\"(7.5000, 8.5000]\",\"(8.5000, 9.5000]\",\"(9.5000, 10.5000]\",\"(10.5000, 11.5000]\",\"(11.5000, 12.5000]\",\"(12.5000, 13.5000]\",\"(13.5000, 14.2500]\",\"(14.2500, 14.7500]\",\"(14.7500, 15.5000]\",\"(15.5000, 16.5000]\",\"(16.5000, 17.5000]\",\"(17.5000, 18.5000]\",\"(18.5000, 19.5000]\",\"(19.5000, 20.2500]\",\"(20.2500, 20.7500]\",\"(20.7500, 21.5000]\",\"(21.5000, 22.5000]\",\"(22.5000, 23.5000]\",\"(23.5000, 24.5000]\",\"(24.5000, 25.5000]\",\"(25.5000, 26.5000]\",\"(26.5000, 27.5000]\",\"(27.5000, 28.2500]\",\"(28.2500, 28.7500]\",\"(28.7500, 29.5000]\",\"(29.5000, 30.2500]\",\"(30.2500, 30.7500]\",\"(30.7500, 31.5000]\",\"(31.5000, 32.2500]\",\"(32.2500, 32.7500]\",\"(32.7500, 33.5000]\",\"(33.5000, 34.2500]\",\"(34.2500, 34.7500]\",\"(34.7500, 35.5000]\",\"(35.5000, 36.2500]\",\"(36.2500, 36.7500]\",\"(36.7500, 37.5000]\",\"(37.5000, 38.5000]\",\"(38.5000, 39.5000]\",\"(39.5000, 40.2500]\",\"(40.2500, 40.7500]\",\"(40.7500, 41.5000]\",\"(41.5000, 42.5000]\",\"(42.5000, 43.5000]\",\"(43.5000, 44.5000]\",\"(44.5000, 45.2500]\",\"(45.2500, 45.7500]\",\"(45.7500, 46.5000]\",\"(46.5000, 47.5000]\",\"(47.5000, 48.5000]\",\"(48.5000, 49.5000]\",\"(49.5000, 50.5000]\",\"(50.5000, 51.5000]\",\"(51.5000, 53.0000]\",\"(53.0000, 54.5000]\",\"(54.5000, 55.2500]\",\"(55.2500, 55.7500]\",\"(55.7500, 56.5000]\",\"(56.5000, 57.5000]\",\"(57.5000, 58.5000]\",\"(58.5000, 59.5000]\",\"(59.5000, 60.5000]\",\"(60.5000, 61.5000]\",\"(61.5000, 62.5000]\",\"(62.5000, 64.5000]\",\"(64.5000, 65.5000]\",\"(65.5000, 68.0000]\",\"(68.0000, 70.2500]\",\"(70.2500, 70.7500]\",\"(70.7500, 72.5000]\",\"(72.5000, 77.0000]\",\"(77.0000, +inf)\"],\"tickvals\":[0,1,2,3,4,5,6,7,8,9,10,11,12,13,14,15,16,17,18,19,20,21,22,23,24,25,26,27,28,29,30,31,32,33,34,35,36,37,38,39,40,41,42,43,44,45,46,47,48,49,50,51,52,53,54,55,56,57,58,59,60,61,62,63,64,65,66,67,68,69,70,71,72,73,74,75,76,77,78,79,80,81,82,83,84],\"title\":{\"text\":\"Bins\"}}}],\"label\":\"Age\",\"method\":\"update\"},{\"args\":[{\"y\":[[0.3441295623779297,0.5365853905677795,0.523809552192688,0.20000000298023224,0.10000000149011612,0.0,0.0],[0.3402111828327179,0.5321330428123474,0.48823806643486023,0.22968651354312897,0.1740977168083191,0.10284872353076935,0.09319344907999039],[494,164,21,15,10,5,3],[0.3871512436408297,0.3886018073360912,0.39357918659232005,0.3801037935623232,0.3594942298587119,0.3417483994224606,0.3726667870033155]]},{\"xaxis\":{\"showticklabels\":true,\"tickmode\":\"array\",\"ticktext\":[\"0\",\"1\",\"2\",\"4\",\"3\",\"8\",\"5\"],\"tickvals\":[0,1,2,3,4,5,6],\"title\":{\"text\":\"Cat values\"}}}],\"label\":\"SibSp\",\"method\":\"update\"},{\"args\":[{\"y\":[[0.3413284122943878,0.542553186416626,0.5409836173057556,0.6000000238418579,0.20000000298023224,0.0,0.0],[0.34106725454330444,0.5343318581581116,0.5217786431312561,0.5493281483650208,0.23052875697612762,0.14530564844608307,0.17260031402111053],[542,94,61,5,5,4,1],[0.38066836277131566,0.39880504060920574,0.4100852769839584,0.4043402956520385,0.381576765660814,0.3258202759899803,0.377226816030283]]},{\"xaxis\":{\"showticklabels\":true,\"tickmode\":\"array\",\"ticktext\":[\"0\",\"1\",\"2\",\"3\",\"5\",\"4\",\"6\"],\"tickvals\":[0,1,2,3,4,5,6],\"title\":{\"text\":\"Cat values\"}}}],\"label\":\"Parch\",\"method\":\"update\"},{\"args\":[{\"y\":[[0.0,0.0,0.0,0.0,0.0,0.0,0.0,0.0,0.0,0.0,1.0,0.25,0.3076923191547394,0.07692307978868484,0.0,0.3333333432674408,0.0,0.25,0.0,0.0,0.0,0.5,0.5,0.4761904776096344,0.23076923191547394,0.25,0.42105263471603394,0.0,0.4375,1.0,0.1515151560306549,0.0,0.0,0.0,0.3333333432674408,0.0,0.0833333358168602,1.0,0.0,0.0,0.5,0.0,0.375,0.25,0.0,0.0,0.0,0.30000001192092896,1.0,1.0,0.0,1.0,0.5,1.0,0.0,0.5,0.3636363744735718,1.0,0.25,1.0,0.0,0.0,0.1428571492433548,0.0,0.2857142984867096,0.0,0.0,0.4000000059604645,0.1666666716337204,0.0,1.0,1.0,0.3333333432674408,1.0,1.0,0.20000000298023224,1.0,0.0,1.0,1.0,1.0,1.0,0.0,0.3333333432674408,0.5,0.0,0.0,0.0,1.0,1.0,0.0,1.0,1.0,0.0,0.5,0.1111111119389534,0.0,0.0,1.0,0.47999998927116394,0.800000011920929,1.0,1.0,1.0,0.6000000238418579,0.5,0.25,0.5,0.0,0.0,0.0,1.0,0.0,0.3333333432674408,0.800000011920929,0.0,1.0,0.0,0.6666666865348816,0.0,0.75,1.0,0.5,0.0,0.3333333432674408,0.0,1.0,0.0,0.75,0.1428571492433548,0.0,1.0,0.0,0.0,0.0,1.0,0.3333333432674408,0.0,0.5,0.4000000059604645,1.0,0.75,1.0,1.0,0.5,0.8333333134651184,1.0,1.0,0.75,0.0,1.0,1.0,1.0,0.0,1.0,1.0,0.0,1.0,1.0,0.625,0.3333333432674408,0.6666666865348816,1.0,1.0,0.0,1.0,1.0,1.0,1.0,1.0,0.5,0.5,1.0,1.0,1.0,0.75,0.6666666865348816,1.0,0.0,1.0],[0.0528351329267025,0.05245864763855934,0.046068742871284485,0.5510302782058716,0.06330949068069458,0.04639334976673126,0.06654803454875946,0.05853917449712753,0.06338586658239365,0.06705371290445328,0.17811569571495056,0.26890918612480164,0.24289271235466003,0.11670367419719696,0.07095474004745483,0.2410772293806076,0.09501469880342484,0.3008490800857544,0.14281897246837616,0.11342121660709381,0.1151135265827179,0.4469083845615387,0.4533401131629944,0.41661471128463745,0.20811623334884644,0.13344921171665192,0.36709558963775635,0.11690345406532288,0.23636700212955475,0.7111480236053467,0.15563537180423737,0.11772513389587402,0.13760466873645782,0.10244791209697723,0.2412741333246231,0.12644346058368683,0.1852632761001587,0.4763166308403015,0.15176159143447876,0.11331101506948471,0.3124929368495941,0.1264210194349289,0.22500260174274445,0.42911964654922485,0.12063717842102051,0.12256773561239243,0.47324082255363464,0.3346918225288391,0.5993771553039551,0.2990110516548157,0.1275893896818161,0.6276784539222717,0.4921509921550751,0.5225589275360107,0.06812348961830139,0.5295632481575012,0.34602928161621094,0.7558323740959167,0.26283830404281616,0.5977336764335632,0.06406976282596588,0.2193608283996582,0.39536815881729126,0.5875332951545715,0.33262917399406433,0.1788311004638672,0.2871791422367096,0.4672347605228424,0.26562756299972534,0.12210046499967575,0.5667158365249634,0.8426061272621155,0.25196313858032227,0.4041149318218231,0.8265123963356018,0.24375858902931213,0.6440756320953369,0.35903868079185486,0.8080123066902161,0.26107174158096313,0.7707327008247375,0.9096108078956604,0.19293543696403503,0.21826259791851044,0.24254196882247925,0.30265066027641296,0.1926984041929245,0.23776355385780334,0.5572877526283264,0.738370418548584,0.1491975635290146,0.9007372856140137,0.5614483952522278,0.28710174560546875,0.5383550524711609,0.23942126333713531,0.3460632562637329,0.2400059700012207,0.9222794771194458,0.5070533156394958,0.7429938912391663,0.9400683045387268,0.5077929496765137,0.5595747232437134,0.3409150242805481,0.5139158964157104,0.44588911533355713,0.5475555658340454,0.09769909083843231,0.3785593509674072,0.6521009206771851,0.7503477931022644,0.15336836874485016,0.37828752398490906,0.5632715821266174,0.17475126683712006,0.4697240889072418,0.30945754051208496,0.5640053153038025,0.2236579805612564,0.3597671687602997,0.8890431523323059,0.5445899367332458,0.206269770860672,0.3219763934612274,0.19401070475578308,0.7315599322319031,0.32993751764297485,0.6708576083183289,0.2709869146347046,0.44529300928115845,0.9477428793907166,0.21741653978824615,0.11304517090320587,0.25387123227119446,0.9674928188323975,0.47233113646507263,0.36068981885910034,0.6137657761573792,0.5670289397239685,0.618632972240448,0.6974599957466125,0.9604682326316833,0.5604036450386047,0.6713693141937256,0.5127341747283936,0.7695098519325256,0.9538936018943787,0.7676325440406799,0.15642160177230835,0.4301093518733978,0.8715823888778687,0.963710606098175,0.10284872353076935,0.9552205204963684,0.9753146767616272,0.12968184053897858,0.975450336933136,0.6852133870124817,0.7164801955223083,0.6048793196678162,0.7308737635612488,0.9599807858467102,0.633155345916748,0.341001033782959,0.9742657542228699,0.9599907994270325,0.8372851014137268,0.8086821436882019,0.963313639163971,0.7234691977500916,0.7260518670082092,0.8445674777030945,0.6867062449455261,0.9728022217750549,0.8421078324317932,0.7460611462593079,0.9658665657043457,0.15074999630451202,0.7525889873504639],[17,1,3,1,1,1,1,7,2,3,1,8,13,13,1,3,1,4,2,1,1,4,2,21,13,4,19,32,16,1,33,2,1,1,3,1,12,1,1,4,2,1,8,4,1,1,2,20,2,1,4,1,2,3,1,2,33,1,4,2,1,2,7,1,7,1,1,5,6,1,2,1,3,1,1,5,2,2,3,1,3,2,4,3,2,4,4,1,1,2,1,4,2,2,2,9,1,1,2,25,5,1,2,1,10,2,4,2,5,1,1,2,4,3,5,1,3,2,3,6,4,1,2,5,3,1,1,1,4,7,1,2,1,4,1,1,3,1,2,5,3,4,2,1,2,6,2,1,4,1,1,2,2,5,1,1,5,1,3,8,3,3,2,1,1,2,1,3,3,3,2,2,7,2,2,8,15,2,1,2],[0.2695334190755067,0.270154476422416,0.271382314892498,0.2754957236607958,0.28158715630740333,0.2892804957459604,0.29192509130455957,0.30326102759869916,0.3131893486424862,0.3161650027723193,0.33219684943427713,0.33694769456375484,0.338949118036086,0.3395175570038418,0.33991656094725475,0.342346109872016,0.34266642374922957,0.34251709888424847,0.3441396741898209,0.3466143554677668,0.3479725367632097,0.3501816980931033,0.3507926736077423,0.3519297149334005,0.35208020642796317,0.3525291635624253,0.35263855033152586,0.3530910725080903,0.35878218816001345,0.3603898474753555,0.3608459033922518,0.36146784609977833,0.361433748563067,0.36177235580359673,0.36206321199541314,0.3620322292448113,0.36163151685428097,0.3621181227121854,0.36219860750736804,0.36233707658270037,0.3632767578339317,0.363443826723886,0.3641075653519464,0.3642515577818579,0.3649556074657449,0.3660255276928134,0.36623423748075956,0.3696203620013064,0.37067081223600146,0.37172300403663844,0.3722283565707988,0.37280934477892297,0.3727157553734755,0.3729822847085598,0.3739948534498591,0.3748317529951361,0.3756086225685713,0.3736690712944056,0.3732017147328619,0.3715546214303117,0.37032841899621965,0.3689551856732603,0.36892122776916764,0.37098481130960653,0.3710550703076014,0.37304386783812377,0.3725562100384064,0.3745987996616966,0.37591466579790217,0.3772604481978207,0.37809173713442057,0.378570322358937,0.37862719328692457,0.37919105171509293,0.37948422475364435,0.37969482717951686,0.3828585265411478,0.3834371067471302,0.3880576024936678,0.38894782773804376,0.3887733822267198,0.3857657103732627,0.38634948996333973,0.3868204068643409,0.3868732405575754,0.3875506181091598,0.38806559800610524,0.3884465204159166,0.38884653624872734,0.38917294231932503,0.3908687385465503,0.39138512210769905,0.39239203301272907,0.394623934240011,0.39464289717166756,0.39616228497422284,0.39614594297775346,0.3966352797317444,0.39883825335357165,0.3999084658937193,0.40205498726732025,0.40255166321104074,0.40552630762845177,0.4070534481456818,0.4066349024328422,0.40766841187061614,0.40606284225584194,0.40637810701965094,0.40558370111601144,0.4064797428011793,0.4084806421050707,0.40873823918948565,0.4091497215614134,0.41074852386671595,0.4109324531099494,0.41251241906693104,0.41362522948838154,0.4147022621650148,0.41373064823409356,0.414291743552977,0.4143592258692944,0.4139413287849615,0.4114359766971601,0.41183632246243224,0.4120817482063176,0.4108063088555024,0.4113875909578782,0.41211059995207583,0.41227021320963325,0.41021458233707786,0.4102915487715169,0.4103577628787637,0.40854204881903966,0.40739803976286915,0.40818501681264036,0.410048424770357,0.41219791331070604,0.41567539488463945,0.4210556627987618,0.42290006863312846,0.42485088910217816,0.4268753375299149,0.43011636924257796,0.43252660507656676,0.4345616842396325,0.4378803094898935,0.4365325754666336,0.43400376118012735,0.4339096656367857,0.4320895596682302,0.4314237377068807,0.4311234153990798,0.430890815807281,0.43063194757813045,0.4296018997409331,0.4293322309137896,0.4291589835147318,0.4292266282289456,0.42932627680033497,0.4274995643830197,0.42850230965935177,0.4313213514431143,0.4315506398780392,0.433670627266735,0.43374370787576655,0.4341460706776061,0.4342807824826743,0.43572738123020893,0.4369892881683675,0.43597131300660114,0.4379837441228302,0.4388084164870876,0.4391137532533687,0.4372026236935445,0.43658790095329997,0.4333806944122214,0.43292584241020904,0.4348245297919059,0.437080665544913,0.4510610168978271]]},{\"xaxis\":{\"showticklabels\":false,\"tickmode\":\"array\",\"ticktext\":[\"(-inf, 6.3375]\",\"(6.3375, 6.4437]\",\"(6.4437, 6.6229]\",\"(6.6229, 6.8500]\",\"(6.8500, 6.9625]\",\"(6.9625, 7.0104]\",\"(7.0104, 7.0479]\",\"(7.0479, 7.0521]\",\"(7.0521, 7.0896]\",\"(7.0896, 7.1333]\",\"(7.1333, 7.1833]\",\"(7.1833, 7.2271]\",\"(7.2271, 7.2396]\",\"(7.2396, 7.2812]\",\"(7.2812, 7.4042]\",\"(7.4042, 7.5083]\",\"(7.5083, 7.5354]\",\"(7.5354, 7.6000]\",\"(7.6000, 7.6875]\",\"(7.6875, 7.7271]\",\"(7.7271, 7.7312]\",\"(7.7312, 7.7354]\",\"(7.7354, 7.7438]\",\"(7.7438, 7.7625]\",\"(7.7625, 7.7854]\",\"(7.7854, 7.7979]\",\"(7.7979, 7.8875]\",\"(7.8875, 7.9104]\",\"(7.9104, 7.9771]\",\"(7.9771, 8.0396]\",\"(8.0396, 8.1479]\",\"(8.1479, 8.3313]\",\"(8.3313, 8.3834]\",\"(8.3834, 8.4187]\",\"(8.4187, 8.5854]\",\"(8.5854, 8.6583]\",\"(8.6583, 8.6729]\",\"(8.6729, 8.6979]\",\"(8.6979, 8.8562]\",\"(8.8562, 9.2875]\",\"(9.2875, 9.4167]\",\"(9.4167, 9.4916]\",\"(9.4916, 9.7062]\",\"(9.7062, 9.8438]\",\"(9.8438, 10.0083]\",\"(10.0083, 10.3167]\",\"(10.3167, 10.4812]\",\"(10.4812, 10.8250]\",\"(10.8250, 11.1875]\",\"(11.1875, 11.3708]\",\"(11.3708, 11.8938]\",\"(11.8938, 12.3188]\",\"(12.3188, 12.4125]\",\"(12.4125, 12.5000]\",\"(12.5000, 12.5875]\",\"(12.5875, 12.9375]\",\"(12.9375, 13.2084]\",\"(13.2084, 13.4584]\",\"(13.4584, 13.6791]\",\"(13.6791, 13.9312]\",\"(13.9312, 14.2000]\",\"(14.2000, 14.4271]\",\"(14.4271, 14.4562]\",\"(14.4562, 14.4791]\",\"(14.4791, 15.0229]\",\"(15.0229, 15.0479]\",\"(15.0479, 15.0750]\",\"(15.0750, 15.3729]\",\"(15.3729, 15.5250]\",\"(15.5250, 15.6459]\",\"(15.6459, 15.7458]\",\"(15.7458, 15.8000]\",\"(15.8000, 15.8750]\",\"(15.8750, 15.9500]\",\"(15.9500, 16.0500]\",\"(16.0500, 16.4000]\",\"(16.4000, 17.2500]\",\"(17.2500, 18.3750]\",\"(18.3750, 18.7687]\",\"(18.7687, 19.0229]\",\"(19.0229, 19.3792]\",\"(19.3792, 19.7333]\",\"(19.7333, 20.2313]\",\"(20.2313, 20.5500]\",\"(20.5500, 20.7875]\",\"(20.7875, 21.0375]\",\"(21.0375, 21.3771]\",\"(21.3771, 21.8521]\",\"(21.8521, 22.1917]\",\"(22.1917, 22.4417]\",\"(22.4417, 22.7625]\",\"(22.7625, 23.1250]\",\"(23.1250, 23.3500]\",\"(23.3500, 23.7250]\",\"(23.7250, 24.0750]\",\"(24.0750, 25.5271]\",\"(25.5271, 25.7562]\",\"(25.7562, 25.9271]\",\"(25.9271, 25.9646]\",\"(25.9646, 26.1250]\",\"(26.1250, 26.2667]\",\"(26.2667, 26.2854]\",\"(26.2854, 26.3375]\",\"(26.3375, 26.4688]\",\"(26.4688, 26.7750]\",\"(26.7750, 27.3604]\",\"(27.3604, 27.7354]\",\"(27.7354, 27.8250]\",\"(27.8250, 28.2000]\",\"(28.2000, 28.6063]\",\"(28.6063, 28.8563]\",\"(28.8563, 29.0625]\",\"(29.0625, 29.4125]\",\"(29.4125, 29.8500]\",\"(29.8500, 30.0354]\",\"(30.0354, 30.2854]\",\"(30.2854, 30.5979]\",\"(30.5979, 30.8479]\",\"(30.8479, 31.1375]\",\"(31.1375, 31.3312]\",\"(31.3312, 31.9438]\",\"(31.9438, 32.7500]\",\"(32.7500, 33.2500]\",\"(33.2500, 34.5146]\",\"(34.5146, 36.1250]\",\"(36.1250, 36.8771]\",\"(36.8771, 37.7521]\",\"(37.7521, 38.7500]\",\"(38.7500, 39.3000]\",\"(39.3000, 39.9062]\",\"(39.9062, 40.8521]\",\"(40.8521, 41.9896]\",\"(41.9896, 44.6500]\",\"(44.6500, 47.0000]\",\"(47.0000, 48.3000]\",\"(48.3000, 49.5021]\",\"(49.5021, 50.2479]\",\"(50.2479, 51.1791]\",\"(51.1791, 51.9313]\",\"(51.9313, 52.2771]\",\"(52.2771, 52.8271]\",\"(52.8271, 54.0500]\",\"(54.0500, 55.2208]\",\"(55.2208, 55.6709]\",\"(55.6709, 56.1979]\",\"(56.1979, 56.7125]\",\"(56.7125, 56.9646]\",\"(56.9646, 57.4896]\",\"(57.4896, 61.6792]\",\"(61.6792, 62.6687]\",\"(62.6687, 64.1792]\",\"(64.1792, 65.8000]\",\"(65.8000, 69.4250]\",\"(69.4250, 70.2750]\",\"(70.2750, 71.1416]\",\"(71.1416, 72.3916]\",\"(72.3916, 74.8959]\",\"(74.8959, 76.5105]\",\"(76.5105, 77.0083]\",\"(77.0083, 79.0250]\",\"(79.0250, 79.4250]\",\"(79.4250, 79.8250]\",\"(79.8250, 80.9292]\",\"(80.9292, 82.0145]\",\"(82.0145, 82.6646]\",\"(82.6646, 83.3167]\",\"(83.3167, 84.9875]\",\"(84.9875, 89.5521]\",\"(89.5521, 90.5396]\",\"(90.5396, 99.9625]\",\"(99.9625, 107.6625]\",\"(107.6625, 109.8916]\",\"(109.8916, 126.8250]\",\"(126.8250, 134.0750]\",\"(134.0750, 135.0667]\",\"(135.0667, 152.5063]\",\"(152.5063, 254.9479]\",\"(254.9479, 262.6875]\",\"(262.6875, 387.6646]\",\"(387.6646, +inf)\"],\"tickvals\":[0,1,2,3,4,5,6,7,8,9,10,11,12,13,14,15,16,17,18,19,20,21,22,23,24,25,26,27,28,29,30,31,32,33,34,35,36,37,38,39,40,41,42,43,44,45,46,47,48,49,50,51,52,53,54,55,56,57,58,59,60,61,62,63,64,65,66,67,68,69,70,71,72,73,74,75,76,77,78,79,80,81,82,83,84,85,86,87,88,89,90,91,92,93,94,95,96,97,98,99,100,101,102,103,104,105,106,107,108,109,110,111,112,113,114,115,116,117,118,119,120,121,122,123,124,125,126,127,128,129,130,131,132,133,134,135,136,137,138,139,140,141,142,143,144,145,146,147,148,149,150,151,152,153,154,155,156,157,158,159,160,161,162,163,164,165,166,167,168,169,170,171,172,173,174,175,176,177,178,179],\"title\":{\"text\":\"Bins\"}}}],\"label\":\"Fare\",\"method\":\"update\"},{\"args\":[{\"y\":[[0.32751938700675964,0.5611510872840881,0.4363636374473572,1.0],[0.33003291487693787,0.5476904511451721,0.4222053587436676,0.9599807858467102],[516,139,55,2],[0.3599865534143841,0.42702090616039484,0.3993472893392938,0.4095870665533291]]},{\"xaxis\":{\"showticklabels\":true,\"tickmode\":\"array\",\"ticktext\":[\"S\",\"C\",\"Q\",\"nan\"],\"tickvals\":[0,1,2,3],\"title\":{\"text\":\"Cat values\"}}}],\"label\":\"Embarked\",\"method\":\"update\"}],\"direction\":\"down\",\"pad\":{\"r\":10,\"t\":10},\"showactive\":true,\"x\":0.25,\"xanchor\":\"left\",\"y\":1.09,\"yanchor\":\"top\"}],\"xaxis\":{\"showticklabels\":true,\"tickmode\":\"array\",\"ticktext\":[\"3\",\"1\",\"2\"],\"tickvals\":[0,1,2],\"title\":{\"text\":\"Cat values\"}},\"yaxis\":{\"overlaying\":\"y2\",\"side\":\"left\",\"title\":{\"text\":\"Prediction and target\"}},\"yaxis2\":{\"position\":1.0,\"side\":\"right\",\"title\":{\"text\":\"Objects per bin\"}}},                        {\"responsive\": true}                    ).then(function(){\n",
       "                            \n",
       "var gd = document.getElementById('cc267c48-cc08-4943-841c-21528ee3e395');\n",
       "var x = new MutationObserver(function (mutations, observer) {{\n",
       "        var display = window.getComputedStyle(gd).display;\n",
       "        if (!display || display === 'none') {{\n",
       "            console.log([gd, 'removed!']);\n",
       "            Plotly.purge(gd);\n",
       "            observer.disconnect();\n",
       "        }}\n",
       "}});\n",
       "\n",
       "// Listen for the removal of the full notebook cells\n",
       "var notebookContainer = gd.closest('#notebook-container');\n",
       "if (notebookContainer) {{\n",
       "    x.observe(notebookContainer, {childList: true});\n",
       "}}\n",
       "\n",
       "// Listen for the clearing of the current output cell\n",
       "var outputEl = gd.closest('.output');\n",
       "if (outputEl) {{\n",
       "    x.observe(outputEl, {childList: true});\n",
       "}}\n",
       "\n",
       "                        })                };                });            </script>        </div>"
      ]
     },
     "metadata": {},
     "output_type": "display_data"
    }
   ],
   "source": [
    "cbc.calc_feature_statistics(\n",
    "    X_train,\n",
    "    y_train,\n",
    "    feature=['Pclass', 'Sex', 'Age', 'SibSp', 'Parch',  'Fare', 'Embarked'],\n",
    "    plot=True,\n",
    ");"
   ]
  },
  {
   "cell_type": "markdown",
   "id": "1baeccd6",
   "metadata": {},
   "source": [
    "https://towardsdatascience.com/smarter-ways-to-encode-categorical-data-for-machine-learning-part-1-of-3-6dca2f71b159"
   ]
  },
  {
   "cell_type": "markdown",
   "id": "ba67cf0c-cb30-4a8f-a23c-1c6ebc398b89",
   "metadata": {},
   "source": [
    "# Evaluation"
   ]
  },
  {
   "cell_type": "code",
   "execution_count": 37,
   "id": "38edc8c6-153e-4192-9b47-951a1884aeda",
   "metadata": {},
   "outputs": [
    {
     "name": "stdout",
     "output_type": "stream",
     "text": [
      "[INFO] 2021-11-20T18:37:50Z {matplotlib.font_manager} \u001b[1;34mgenerated new fontManager\u001b[0m\n"
     ]
    }
   ],
   "source": [
    "from john_toolbox.evaluation.visualisation import (\n",
    "    plot_auc_curves,\n",
    "    plot_classification_report,\n",
    "    compare_eval_result_xgb,\n",
    "    plot_cm,\n",
    ")"
   ]
  },
  {
   "cell_type": "markdown",
   "id": "84d99768-3837-487e-a25f-7906b48f829e",
   "metadata": {},
   "source": [
    "## Analyse training eval_metric"
   ]
  },
  {
   "cell_type": "code",
   "execution_count": null,
   "id": "5c8c1242-750e-48e3-9966-ff2558f422ae",
   "metadata": {},
   "outputs": [],
   "source": [
    "print(f\"eval_names : {eval_names}, eval_metric :  {eval_metric}\")\n",
    "\n",
    "compare_eval_result_xgb(\n",
    "    xgb,\n",
    "    eval_names=eval_names,\n",
    "    eval_metrics=eval_metric,\n",
    "    size=(10, 4)\n",
    ")"
   ]
  },
  {
   "cell_type": "markdown",
   "id": "7d13fccf-01ee-4c3a-baa9-dc34d2421175",
   "metadata": {},
   "source": [
    "## Evaluate valid set"
   ]
  },
  {
   "cell_type": "code",
   "execution_count": null,
   "id": "7fe3b3b2",
   "metadata": {},
   "outputs": [],
   "source": [
    "y_pred_valid_prob = xgb.predict_proba(X_valid)[:, 1]"
   ]
  },
  {
   "cell_type": "markdown",
   "id": "45c2e795",
   "metadata": {},
   "source": [
    "### Get best threshold"
   ]
  },
  {
   "cell_type": "markdown",
   "id": "767ce2ea",
   "metadata": {},
   "source": [
    "#### Optimize with the default value roc_curve or prauc_curve"
   ]
  },
  {
   "cell_type": "code",
   "execution_count": null,
   "id": "397ac181",
   "metadata": {},
   "outputs": [],
   "source": [
    "from john_toolbox.evaluation.metrics import get_optimal_threshold\n",
    "\n",
    "roc_curve_tresh = get_optimal_threshold(y_valid, y_pred_valid_prob, \"roc_curve\")\n",
    "prauc_curve_tresh = get_optimal_threshold(y_valid, y_pred_valid_prob, \"prauc_curve\")"
   ]
  },
  {
   "cell_type": "markdown",
   "id": "89cf1ea0",
   "metadata": {},
   "source": [
    "#### Optimize with custom metric function"
   ]
  },
  {
   "cell_type": "code",
   "execution_count": null,
   "id": "f28eb80c",
   "metadata": {},
   "outputs": [],
   "source": [
    "from sklearn.metrics import f1_score\n",
    "\n",
    "custom_tresh = get_optimal_threshold(y_valid, y_pred_valid_prob, metric_func=f1_score, is_maximize=True)"
   ]
  },
  {
   "cell_type": "code",
   "execution_count": null,
   "id": "4e38bce3-76d6-4673-8f45-1782ba86ad6b",
   "metadata": {},
   "outputs": [],
   "source": [
    "from john_toolbox.evaluation.metrics import to_labels\n",
    "\n",
    "y_pred_valid = to_labels(y_pred_valid_prob, roc_curve_tresh) # roc_curve_tresh, prauc_curve_tresh, custom_tresh"
   ]
  },
  {
   "cell_type": "code",
   "execution_count": null,
   "id": "cdad3f46-969c-41ea-bd90-6c2bdd70b3f5",
   "metadata": {},
   "outputs": [],
   "source": [
    "plot_cm(y_valid, y_pred_valid, figsize=(5, 5))"
   ]
  },
  {
   "cell_type": "code",
   "execution_count": null,
   "id": "ef97bd73-0044-4fd0-8acb-573c99b47dcf",
   "metadata": {
    "tags": []
   },
   "outputs": [],
   "source": [
    "plot_classification_report(y_valid, y_pred_valid, size=(5, 5))"
   ]
  },
  {
   "cell_type": "code",
   "execution_count": null,
   "id": "64c46999-8505-46b6-b318-9195049327a3",
   "metadata": {},
   "outputs": [],
   "source": [
    "plot_auc_curves(y_valid, y_pred_valid)"
   ]
  },
  {
   "cell_type": "markdown",
   "id": "3faaf595",
   "metadata": {},
   "source": [
    "## Evaluate train set"
   ]
  },
  {
   "cell_type": "code",
   "execution_count": null,
   "id": "0b03c08f",
   "metadata": {},
   "outputs": [],
   "source": [
    "y_pred_train_prob = xgb.predict_proba(X_train)[:, 1]\n",
    "y_pred_train = to_labels(y_pred_train_prob, roc_curve_tresh) # roc_curve_tresh, prauc_curve_tresh, custom_tresh"
   ]
  },
  {
   "cell_type": "markdown",
   "id": "29c551ac",
   "metadata": {},
   "source": [
    "### Confusion matrix"
   ]
  },
  {
   "cell_type": "code",
   "execution_count": null,
   "id": "6ebe6f4b",
   "metadata": {},
   "outputs": [],
   "source": [
    "# https://www.kaggle.com/agungor2/various-confusion-matrix-plots\n",
    "plot_cm(y_train, y_pred_train, figsize=(5, 5))"
   ]
  },
  {
   "cell_type": "markdown",
   "id": "3a33cf76",
   "metadata": {},
   "source": [
    "### classification_report"
   ]
  },
  {
   "cell_type": "code",
   "execution_count": null,
   "id": "7b197e4c",
   "metadata": {},
   "outputs": [],
   "source": [
    "plot_classification_report(y_train, y_pred_train, size=(5, 5))"
   ]
  },
  {
   "cell_type": "code",
   "execution_count": null,
   "id": "1e3f570a",
   "metadata": {},
   "outputs": [],
   "source": [
    "plot_auc_curves(y_train, y_pred_train)"
   ]
  },
  {
   "cell_type": "markdown",
   "id": "f9918c52-1024-4242-9358-9cc00a2063b8",
   "metadata": {},
   "source": [
    "# Prediction"
   ]
  },
  {
   "cell_type": "code",
   "execution_count": null,
   "id": "5d63a599",
   "metadata": {
    "tags": []
   },
   "outputs": [],
   "source": [
    "test_transformed = pipeline.transform(test)\n",
    "X_test = test_transformed[[col for col in train_transformed.columns if col != \"Survived\"]]"
   ]
  },
  {
   "cell_type": "code",
   "execution_count": null,
   "id": "9a90b7e2",
   "metadata": {
    "tags": []
   },
   "outputs": [],
   "source": [
    "y_preds = to_labels(xgb.predict_proba(X_test)[:, 1], roc_curve_tresh) # roc_curve_tresh, prauc_curve_tresh, custom_tresh)"
   ]
  },
  {
   "cell_type": "code",
   "execution_count": null,
   "id": "9f5263aa",
   "metadata": {},
   "outputs": [],
   "source": [
    "output = pd.DataFrame({'PassengerId': X_test.PassengerId, 'Survived': y_preds})\n",
    "output.to_csv('my_submission.csv', index=False)"
   ]
  }
 ],
 "metadata": {
  "kernelspec": {
   "display_name": "Python 3 (ipykernel)",
   "language": "python",
   "name": "python3"
  },
  "language_info": {
   "codemirror_mode": {
    "name": "ipython",
    "version": 3
   },
   "file_extension": ".py",
   "mimetype": "text/x-python",
   "name": "python",
   "nbconvert_exporter": "python",
   "pygments_lexer": "ipython3",
   "version": "3.8.0"
  },
  "toc": {
   "base_numbering": 1,
   "nav_menu": {},
   "number_sections": true,
   "sideBar": true,
   "skip_h1_title": false,
   "title_cell": "Table of Contents",
   "title_sidebar": "Contents",
   "toc_cell": false,
   "toc_position": {},
   "toc_section_display": true,
   "toc_window_display": true
  },
  "toc-autonumbering": true,
  "toc-showmarkdowntxt": false,
  "toc-showtags": false
 },
 "nbformat": 4,
 "nbformat_minor": 5
}
