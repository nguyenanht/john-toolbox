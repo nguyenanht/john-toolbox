{
 "cells": [
  {
   "cell_type": "code",
   "execution_count": null,
   "id": "0489b951",
   "metadata": {},
   "outputs": [],
   "source": [
    "import pandas as pd\n",
    "import numpy as np\n",
    "from xgboost import XGBClassifier\n",
    "\n",
    "%load_ext autoreload\n",
    "%autoreload 2"
   ]
  },
  {
   "cell_type": "markdown",
   "id": "ca626f76-579c-42c2-b8c1-25a619f30d59",
   "metadata": {},
   "source": [
    "# Load data"
   ]
  },
  {
   "cell_type": "code",
   "execution_count": null,
   "id": "f7218f90",
   "metadata": {},
   "outputs": [],
   "source": [
    "train  = pd.read_csv(\"data/train.csv\")"
   ]
  },
  {
   "cell_type": "markdown",
   "id": "d0ed5b8a-349c-4d48-86de-818083c9c9e2",
   "metadata": {},
   "source": [
    "# Data Viz"
   ]
  },
  {
   "cell_type": "code",
   "execution_count": null,
   "id": "c0ab32fa",
   "metadata": {
    "scrolled": true
   },
   "outputs": [],
   "source": [
    "# from dataprep.eda import create_report\n",
    "\n",
    "# create_report(train).show()"
   ]
  },
  {
   "cell_type": "code",
   "execution_count": null,
   "id": "45e1e49e",
   "metadata": {},
   "outputs": [],
   "source": [
    "train.columns"
   ]
  },
  {
   "cell_type": "code",
   "execution_count": null,
   "id": "6c37fb3e",
   "metadata": {},
   "outputs": [],
   "source": [
    "# from dataprep.eda import plot, plot_correlation, plot_missing\n",
    "\n",
    "# plot(train, \"Pclass\", \"Survived\")"
   ]
  },
  {
   "cell_type": "code",
   "execution_count": null,
   "id": "47841bd9",
   "metadata": {},
   "outputs": [],
   "source": [
    "# plot(train,\"Survived\", \"Pclass\")"
   ]
  },
  {
   "cell_type": "code",
   "execution_count": null,
   "id": "fc05f569",
   "metadata": {},
   "outputs": [],
   "source": [
    "# plot(train,\"Survived\", \"Pclass\")"
   ]
  },
  {
   "cell_type": "markdown",
   "id": "b40e6c50-9a58-4106-98c5-00231915eee6",
   "metadata": {},
   "source": [
    "# Train test split"
   ]
  },
  {
   "cell_type": "code",
   "execution_count": null,
   "id": "f70265e3-b2c8-40c6-be43-aef651b214a6",
   "metadata": {},
   "outputs": [],
   "source": [
    "target_name = \"Survived\""
   ]
  },
  {
   "cell_type": "code",
   "execution_count": null,
   "id": "c0e2e124-af88-48df-9da8-9bf8c01b93ac",
   "metadata": {},
   "outputs": [],
   "source": [
    "def extract_X_y(df, target_name):\n",
    "    X = df[[col for col in df.columns if col != target_name]]\n",
    "    y = df[[target_name]]\n",
    "    return X, y"
   ]
  },
  {
   "cell_type": "code",
   "execution_count": null,
   "id": "d29f9c1a",
   "metadata": {},
   "outputs": [],
   "source": [
    "from sklearn.model_selection import train_test_split"
   ]
  },
  {
   "cell_type": "code",
   "execution_count": null,
   "id": "99ae0224",
   "metadata": {},
   "outputs": [],
   "source": [
    "X, y = extract_X_y(train, target_name)\n",
    "\n",
    "X_train, X_valid, y_train, y_valid = train_test_split(X, y,  test_size=0.2, random_state=42, shuffle=True, stratify=y)"
   ]
  },
  {
   "cell_type": "code",
   "execution_count": null,
   "id": "0007710a",
   "metadata": {},
   "outputs": [],
   "source": [
    "train.head()"
   ]
  },
  {
   "cell_type": "markdown",
   "id": "e1b4adde-c03d-488e-9e22-ed3fabd07db4",
   "metadata": {},
   "source": [
    "# Preprocessing"
   ]
  },
  {
   "cell_type": "code",
   "execution_count": null,
   "id": "d785290b",
   "metadata": {},
   "outputs": [],
   "source": [
    "from john_toolbox.preprocessing.pandas_pipeline import PandasPipeline\n",
    "from src.preprocessing import (\n",
    "    conformity_column_list,\n",
    "    data_cleaning_list,\n",
    "    encoder_list\n",
    ")"
   ]
  },
  {
   "cell_type": "markdown",
   "id": "f879d15e-4c77-4a8c-9c6a-e821fd6af9eb",
   "metadata": {},
   "source": [
    "## Define PandasPipeline"
   ]
  },
  {
   "cell_type": "code",
   "execution_count": null,
   "id": "92e90d36",
   "metadata": {
    "cell_style": "center"
   },
   "outputs": [],
   "source": [
    "step_list = conformity_column_list + data_cleaning_list + encoder_list\n",
    "\n",
    "pipeline = PandasPipeline(\n",
    "    steps=step_list, target_name=target_name, verbose=True)"
   ]
  },
  {
   "cell_type": "markdown",
   "id": "206a23c9-c476-46ba-9b09-f40ec56cba4b",
   "metadata": {},
   "source": [
    "## Fit transform"
   ]
  },
  {
   "cell_type": "code",
   "execution_count": null,
   "id": "9e5fb0a8",
   "metadata": {},
   "outputs": [],
   "source": [
    "train_transformed = pipeline.fit_transform(\n",
    "    df=pd.concat([X_train, y_train], axis=1))\n",
    "\n",
    "X_train, y_train = extract_X_y(train_transformed, target_name)"
   ]
  },
  {
   "cell_type": "code",
   "execution_count": null,
   "id": "eda69df6-c9e9-4e28-b413-44a55e14cb26",
   "metadata": {},
   "outputs": [],
   "source": [
    "X_train.head()"
   ]
  },
  {
   "cell_type": "code",
   "execution_count": null,
   "id": "99bbd10e",
   "metadata": {},
   "outputs": [],
   "source": [
    "valid_transformed = pipeline.transform(\n",
    "    df=pd.concat([X_valid, y_valid], axis=1))\n",
    "\n",
    "X_valid, y_valid = extract_X_y(valid_transformed, target_name)"
   ]
  },
  {
   "cell_type": "markdown",
   "id": "3f5aa742-c3a3-4273-afac-696cf9ccd90c",
   "metadata": {},
   "source": [
    "# TRAIN with XGB"
   ]
  },
  {
   "cell_type": "code",
   "execution_count": null,
   "id": "549b8977-3ba8-4d5e-81fc-1d9b8fdac69d",
   "metadata": {},
   "outputs": [],
   "source": [
    "# https://www.kaggle.com/prashant111/a-guide-on-xgboost-hyperparameters-tuning\n",
    "# https://xgboost.readthedocs.io/en/latest/parameter.html"
   ]
  },
  {
   "cell_type": "code",
   "execution_count": null,
   "id": "898ab4d8",
   "metadata": {},
   "outputs": [],
   "source": [
    "from xgboost import XGBClassifier\n",
    "\n",
    "params = {\n",
    "    \"booster\": \"gbtree\", # default\n",
    "    \"n_estimators\": 900,\n",
    "    \"max_depth\": 6,\n",
    "    \"min_child_weight\": 1,\n",
    "    \"eta\":0.1,\n",
    "    \"scale_pos_weight\": 1,\n",
    "    \"subsample\": 0.8,\n",
    "    \"colsample_bytree\": 1,\n",
    "    \"random_state\": 42,\n",
    "    \"n_jobs\": -1,\n",
    "    \"missing\": -1\n",
    "    \n",
    "}\n",
    "xgb = XGBClassifier(**params)"
   ]
  },
  {
   "cell_type": "code",
   "execution_count": null,
   "id": "f2f15c62",
   "metadata": {
    "tags": []
   },
   "outputs": [],
   "source": [
    "eval_metric = [\"logloss\", \"auc\"]\n",
    "eval_names = [\"train\", \"valid\"]\n",
    "\n",
    "xgb.fit(\n",
    "    X_train,\n",
    "    y_train,\n",
    "    early_stopping_rounds=30,\n",
    "    eval_set=[(X_train, y_train), (X_valid, y_valid)],\n",
    "    eval_metric=eval_metric,\n",
    "    verbose=True\n",
    ")"
   ]
  },
  {
   "cell_type": "code",
   "execution_count": null,
   "id": "733400bf-f3c3-49f9-86dc-cabad7c8c440",
   "metadata": {},
   "outputs": [],
   "source": [
    "results = xgb.evals_result()\n",
    "print(results.keys())"
   ]
  },
  {
   "cell_type": "markdown",
   "id": "ba67cf0c-cb30-4a8f-a23c-1c6ebc398b89",
   "metadata": {},
   "source": [
    "# Evaluation"
   ]
  },
  {
   "cell_type": "code",
   "execution_count": null,
   "id": "38edc8c6-153e-4192-9b47-951a1884aeda",
   "metadata": {},
   "outputs": [],
   "source": [
    "from john_toolbox.evaluation.visualisation import (\n",
    "    plot_curves,\n",
    "    plot_classification_report,\n",
    "    compare_eval_result_xgb,\n",
    "    plot_cm,\n",
    ")"
   ]
  },
  {
   "cell_type": "markdown",
   "id": "84d99768-3837-487e-a25f-7906b48f829e",
   "metadata": {},
   "source": [
    "## Analyse training eval_metric"
   ]
  },
  {
   "cell_type": "code",
   "execution_count": null,
   "id": "5c8c1242-750e-48e3-9966-ff2558f422ae",
   "metadata": {},
   "outputs": [],
   "source": [
    "compare_eval_result_xgb(\n",
    "    xgb,\n",
    "    eval_names=eval_names,\n",
    "    eval_metrics=eval_metric,\n",
    "    size=(10, 4)\n",
    ")"
   ]
  },
  {
   "cell_type": "markdown",
   "id": "7814675e-34b6-4d33-8f3c-81b96803e72c",
   "metadata": {},
   "source": [
    "## Get best threshold"
   ]
  },
  {
   "cell_type": "markdown",
   "id": "2c069455-fbad-4945-beb0-6fed269965c6",
   "metadata": {},
   "source": [
    "### Optimize with the default value roc_curve or prauc_curve"
   ]
  },
  {
   "cell_type": "code",
   "execution_count": null,
   "id": "d478f252-3d83-4f44-b6e5-0af0c23c05e0",
   "metadata": {},
   "outputs": [],
   "source": [
    "from john_toolbox.evaluation.metrics import get_optimal_threshold"
   ]
  },
  {
   "cell_type": "code",
   "execution_count": null,
   "id": "fcbd6763-4460-4978-b793-bbebe88e781f",
   "metadata": {},
   "outputs": [],
   "source": [
    "roc_curve_tresh = get_optimal_threshold(y_valid, y_pred_valid_prob, \"roc_curve\")\n",
    "prauc_curve_tresh = get_optimal_threshold(y_valid, y_pred_valid_prob, \"prauc_curve\")"
   ]
  },
  {
   "cell_type": "markdown",
   "id": "de5f8b1d-390d-4594-948d-175e9497e0a5",
   "metadata": {},
   "source": [
    "### Optimize with custom metric function"
   ]
  },
  {
   "cell_type": "code",
   "execution_count": null,
   "id": "cc159e6a-db06-4792-87c8-2929ae0f3342",
   "metadata": {},
   "outputs": [],
   "source": [
    "from sklearn.metrics import f1_score\n",
    "\n",
    "custom_tresh = get_optimal_threshold(y_valid, y_pred_valid_prob, metric_func=f1_score, is_maximize=True)"
   ]
  },
  {
   "cell_type": "markdown",
   "id": "5a801096-efbb-4779-a4f0-68b27ab4315e",
   "metadata": {},
   "source": [
    "## Evaluate train set"
   ]
  },
  {
   "cell_type": "code",
   "execution_count": null,
   "id": "ac7404bd-cefd-4a87-94f3-d8fc254e7ada",
   "metadata": {},
   "outputs": [],
   "source": [
    "from john_toolbox.evaluation.metrics import to_labels"
   ]
  },
  {
   "cell_type": "code",
   "execution_count": null,
   "id": "383e5e6a",
   "metadata": {},
   "outputs": [],
   "source": [
    "y_pred_train_prob = xgb.predict_proba(X_train)[:, 1]\n",
    "y_pred_train = to_labels(y_pred_train_prob, roc_curve_tresh) # roc_curve_tresh, prauc_curve_tresh, custom_tresh"
   ]
  },
  {
   "cell_type": "markdown",
   "id": "6f9e14ee-129b-4509-b3c2-548ed84c1110",
   "metadata": {},
   "source": [
    "### Confusion matrix"
   ]
  },
  {
   "cell_type": "code",
   "execution_count": null,
   "id": "fcb01c29-d792-432e-9f90-48d6e45da8ea",
   "metadata": {},
   "outputs": [],
   "source": [
    "# https://www.kaggle.com/agungor2/various-confusion-matrix-plots\n",
    "plot_cm(y_train, y_pred_train, figsize=(5, 5))"
   ]
  },
  {
   "cell_type": "markdown",
   "id": "8f7318d7-3a55-4143-bb42-60b97732f7bb",
   "metadata": {},
   "source": [
    "### classification_report"
   ]
  },
  {
   "cell_type": "code",
   "execution_count": null,
   "id": "13bb1c7c-6a03-491f-8ab6-e59640b7c8e0",
   "metadata": {},
   "outputs": [],
   "source": [
    "plot_classification_report(y_train, y_pred_train, size=(5, 5))"
   ]
  },
  {
   "cell_type": "code",
   "execution_count": null,
   "id": "63748605-004e-4a26-9e24-bb78a63c225d",
   "metadata": {},
   "outputs": [],
   "source": [
    "plot_curves(y_train, y_pred_train)"
   ]
  },
  {
   "cell_type": "markdown",
   "id": "7d13fccf-01ee-4c3a-baa9-dc34d2421175",
   "metadata": {},
   "source": [
    "## Evaluate valid set"
   ]
  },
  {
   "cell_type": "code",
   "execution_count": null,
   "id": "4e38bce3-76d6-4673-8f45-1782ba86ad6b",
   "metadata": {},
   "outputs": [],
   "source": [
    "y_pred_valid_prob = xgb.predict_proba(X_valid)[:, 1]\n",
    "y_pred_valid = to_labels(y_pred_valid_prob, roc_curve_tresh) # roc_curve_tresh, prauc_curve_tresh, custom_tresh"
   ]
  },
  {
   "cell_type": "code",
   "execution_count": null,
   "id": "cdad3f46-969c-41ea-bd90-6c2bdd70b3f5",
   "metadata": {},
   "outputs": [],
   "source": [
    "plot_cm(y_valid, y_pred_valid, figsize=(5, 5))"
   ]
  },
  {
   "cell_type": "code",
   "execution_count": null,
   "id": "ef97bd73-0044-4fd0-8acb-573c99b47dcf",
   "metadata": {
    "tags": []
   },
   "outputs": [],
   "source": [
    "plot_classification_report(y_valid, y_pred_valid, size=(5, 5))"
   ]
  },
  {
   "cell_type": "code",
   "execution_count": null,
   "id": "64c46999-8505-46b6-b318-9195049327a3",
   "metadata": {},
   "outputs": [],
   "source": [
    "plot_curves(y_valid, y_pred_valid)"
   ]
  },
  {
   "cell_type": "markdown",
   "id": "f9918c52-1024-4242-9358-9cc00a2063b8",
   "metadata": {},
   "source": [
    "# Prediction"
   ]
  },
  {
   "cell_type": "code",
   "execution_count": null,
   "id": "3d7757de",
   "metadata": {},
   "outputs": [],
   "source": [
    "test  = pd.read_csv(\"data/test.csv\")"
   ]
  },
  {
   "cell_type": "code",
   "execution_count": null,
   "id": "5d63a599",
   "metadata": {
    "tags": []
   },
   "outputs": [],
   "source": [
    "test_transformed = pipeline.transform(test)\n",
    "X_test = test_transformed[[col for col in train_transformed.columns if col != \"Survived\"]]"
   ]
  },
  {
   "cell_type": "code",
   "execution_count": null,
   "id": "9a90b7e2",
   "metadata": {
    "tags": []
   },
   "outputs": [],
   "source": [
    "y_preds = to_labels(xgb.predict_proba(X_test)[:, 1], roc_curve_tresh) # roc_curve_tresh, prauc_curve_tresh, custom_tresh)"
   ]
  },
  {
   "cell_type": "code",
   "execution_count": null,
   "id": "9f5263aa",
   "metadata": {},
   "outputs": [],
   "source": [
    "output = pd.DataFrame({'PassengerId': X_test.PassengerId, 'Survived': y_preds})\n",
    "output.to_csv('my_submission.csv', index=False)"
   ]
  }
 ],
 "metadata": {
  "kernelspec": {
   "display_name": "Python 3 (ipykernel)",
   "language": "python",
   "name": "python3"
  },
  "language_info": {
   "codemirror_mode": {
    "name": "ipython",
    "version": 3
   },
   "file_extension": ".py",
   "mimetype": "text/x-python",
   "name": "python",
   "nbconvert_exporter": "python",
   "pygments_lexer": "ipython3",
   "version": "3.7.9"
  },
  "toc": {
   "base_numbering": 1,
   "nav_menu": {},
   "number_sections": true,
   "sideBar": true,
   "skip_h1_title": false,
   "title_cell": "Table of Contents",
   "title_sidebar": "Contents",
   "toc_cell": false,
   "toc_position": {},
   "toc_section_display": true,
   "toc_window_display": true
  },
  "toc-autonumbering": true,
  "toc-showmarkdowntxt": false,
  "toc-showtags": false
 },
 "nbformat": 4,
 "nbformat_minor": 5
}
