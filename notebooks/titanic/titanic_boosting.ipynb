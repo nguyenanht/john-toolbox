{
 "cells": [
  {
   "cell_type": "code",
   "execution_count": null,
   "id": "0489b951",
   "metadata": {},
   "outputs": [],
   "source": [
    "import pandas as pd\n",
    "import numpy as np\n",
    "from xgboost import XGBClassifier\n",
    "\n",
    "%load_ext autoreload\n",
    "%autoreload 2"
   ]
  },
  {
   "cell_type": "markdown",
   "id": "ca626f76-579c-42c2-b8c1-25a619f30d59",
   "metadata": {},
   "source": [
    "# Load data"
   ]
  },
  {
   "cell_type": "code",
   "execution_count": null,
   "id": "f7218f90",
   "metadata": {},
   "outputs": [],
   "source": [
    "train  = pd.read_csv(\"data/train.csv\")"
   ]
  },
  {
   "cell_type": "markdown",
   "id": "d0ed5b8a-349c-4d48-86de-818083c9c9e2",
   "metadata": {},
   "source": [
    "# Data Viz"
   ]
  },
  {
   "cell_type": "code",
   "execution_count": null,
   "id": "c0ab32fa",
   "metadata": {
    "scrolled": true
   },
   "outputs": [],
   "source": [
    "# from dataprep.eda import create_report\n",
    "\n",
    "# create_report(train).show()"
   ]
  },
  {
   "cell_type": "code",
   "execution_count": null,
   "id": "45e1e49e",
   "metadata": {},
   "outputs": [],
   "source": [
    "train.columns"
   ]
  },
  {
   "cell_type": "code",
   "execution_count": null,
   "id": "6c37fb3e",
   "metadata": {},
   "outputs": [],
   "source": [
    "# from dataprep.eda import plot, plot_correlation, plot_missing\n",
    "\n",
    "# plot(train, \"Pclass\", \"Survived\")"
   ]
  },
  {
   "cell_type": "code",
   "execution_count": null,
   "id": "47841bd9",
   "metadata": {},
   "outputs": [],
   "source": [
    "# plot(train,\"Survived\", \"Pclass\")"
   ]
  },
  {
   "cell_type": "code",
   "execution_count": null,
   "id": "fc05f569",
   "metadata": {},
   "outputs": [],
   "source": [
    "# plot(train,\"Survived\", \"Pclass\")"
   ]
  },
  {
   "cell_type": "markdown",
   "id": "b40e6c50-9a58-4106-98c5-00231915eee6",
   "metadata": {},
   "source": [
    "# Train test split"
   ]
  },
  {
   "cell_type": "code",
   "execution_count": null,
   "id": "d29f9c1a",
   "metadata": {},
   "outputs": [],
   "source": [
    "from sklearn.model_selection import train_test_split"
   ]
  },
  {
   "cell_type": "code",
   "execution_count": null,
   "id": "99ae0224",
   "metadata": {},
   "outputs": [],
   "source": [
    "\n",
    "X = train[[col for col in train.columns if col != \"Survived\"]]\n",
    "y = train[\"Survived\"]\n",
    "\n",
    "X_train, X_valid, y_train, y_valid = train_test_split(X, y,  test_size=0.3, random_state=42, shuffle=True, stratify=y)"
   ]
  },
  {
   "cell_type": "code",
   "execution_count": null,
   "id": "0007710a",
   "metadata": {},
   "outputs": [],
   "source": [
    "train.head()"
   ]
  },
  {
   "cell_type": "markdown",
   "id": "e1b4adde-c03d-488e-9e22-ed3fabd07db4",
   "metadata": {},
   "source": [
    "# Preprocessing"
   ]
  },
  {
   "cell_type": "code",
   "execution_count": null,
   "id": "d785290b",
   "metadata": {},
   "outputs": [],
   "source": [
    "from john_toolbox.preprocessing.pandas_pipeline import PandasPipeline\n",
    "from src.preprocessing import (\n",
    "    conformity_column_list,\n",
    "    data_cleaning_list,\n",
    "    encoder_list\n",
    ")"
   ]
  },
  {
   "cell_type": "markdown",
   "id": "f879d15e-4c77-4a8c-9c6a-e821fd6af9eb",
   "metadata": {},
   "source": [
    "## Define PandasPipeline"
   ]
  },
  {
   "cell_type": "code",
   "execution_count": null,
   "id": "92e90d36",
   "metadata": {
    "cell_style": "center"
   },
   "outputs": [],
   "source": [
    "step_list = conformity_column_list + data_cleaning_list + encoder_list\n",
    "\n",
    "pipeline = PandasPipeline(\n",
    "    steps=step_list, target_name=\"Survived\", verbose=True)"
   ]
  },
  {
   "cell_type": "code",
   "execution_count": null,
   "id": "2971a7ac",
   "metadata": {},
   "outputs": [],
   "source": [
    "train.Cabin"
   ]
  },
  {
   "cell_type": "markdown",
   "id": "206a23c9-c476-46ba-9b09-f40ec56cba4b",
   "metadata": {},
   "source": [
    "## Fit transform"
   ]
  },
  {
   "cell_type": "code",
   "execution_count": null,
   "id": "9e5fb0a8",
   "metadata": {},
   "outputs": [],
   "source": [
    "train_transformed = pipeline.fit_transform(\n",
    "    df=pd.concat([X_train, y_train], axis=1))"
   ]
  },
  {
   "cell_type": "code",
   "execution_count": null,
   "id": "99bbd10e",
   "metadata": {},
   "outputs": [],
   "source": [
    "X_train = train_transformed[[col for col in train_transformed.columns if col != \"Survived\"]]\n",
    "y_train = train_transformed[[\"Survived\"]]"
   ]
  },
  {
   "cell_type": "code",
   "execution_count": null,
   "id": "4470112b",
   "metadata": {},
   "outputs": [],
   "source": [
    "X_train"
   ]
  },
  {
   "cell_type": "markdown",
   "id": "3f5aa742-c3a3-4273-afac-696cf9ccd90c",
   "metadata": {},
   "source": [
    "# TRAIN with XGB"
   ]
  },
  {
   "cell_type": "code",
   "execution_count": null,
   "id": "898ab4d8",
   "metadata": {},
   "outputs": [],
   "source": [
    "from xgboost import XGBClassifier\n",
    "\n",
    "params = {\n",
    "    \"eta\": 0.01, #  0.01-0.2\n",
    "}\n",
    "xgb = XGBClassifier()"
   ]
  },
  {
   "cell_type": "code",
   "execution_count": null,
   "id": "f2f15c62",
   "metadata": {},
   "outputs": [],
   "source": [
    "xgb.fit(X_train, y_train)"
   ]
  },
  {
   "cell_type": "markdown",
   "id": "ba67cf0c-cb30-4a8f-a23c-1c6ebc398b89",
   "metadata": {},
   "source": [
    "# Evaluation"
   ]
  },
  {
   "cell_type": "code",
   "execution_count": null,
   "id": "38edc8c6-153e-4192-9b47-951a1884aeda",
   "metadata": {},
   "outputs": [],
   "source": [
    "from john_toolbox.evaluation.visualisation import plot_curves, plot_classification_report"
   ]
  },
  {
   "cell_type": "markdown",
   "id": "5a801096-efbb-4779-a4f0-68b27ab4315e",
   "metadata": {},
   "source": [
    "## Train"
   ]
  },
  {
   "cell_type": "code",
   "execution_count": null,
   "id": "383e5e6a",
   "metadata": {},
   "outputs": [],
   "source": [
    "y_pred_train_prob = xgb.predict_proba(X_train)[:, 1]\n",
    "y_pred_train = xgb.predict(X_train)"
   ]
  },
  {
   "cell_type": "code",
   "execution_count": null,
   "id": "13bb1c7c-6a03-491f-8ab6-e59640b7c8e0",
   "metadata": {},
   "outputs": [],
   "source": [
    "plot_classification_report(y_train, y_pred_train, size=(5, 5))"
   ]
  },
  {
   "cell_type": "code",
   "execution_count": null,
   "id": "63748605-004e-4a26-9e24-bb78a63c225d",
   "metadata": {},
   "outputs": [],
   "source": [
    "plot_curves(y_train, y_pred_train)"
   ]
  },
  {
   "cell_type": "markdown",
   "id": "7d13fccf-01ee-4c3a-baa9-dc34d2421175",
   "metadata": {},
   "source": [
    "## Valid"
   ]
  },
  {
   "cell_type": "code",
   "execution_count": null,
   "id": "f8f2e47f-e967-4960-bd1b-6beea76e229f",
   "metadata": {},
   "outputs": [],
   "source": [
    "valid_transformed = pipeline.transform(df=pd.concat([X_valid, y_valid], axis=1))"
   ]
  },
  {
   "cell_type": "code",
   "execution_count": null,
   "id": "f608b7d8-1f18-4961-aefa-76835265c507",
   "metadata": {},
   "outputs": [],
   "source": [
    "X_valid = valid_transformed[[col for col in valid_transformed.columns if col != \"Survived\"]]"
   ]
  },
  {
   "cell_type": "code",
   "execution_count": null,
   "id": "4e38bce3-76d6-4673-8f45-1782ba86ad6b",
   "metadata": {},
   "outputs": [],
   "source": [
    "y_pred_valid_prob = xgb.predict_proba(X_valid)[:, 1]\n",
    "y_pred_valid = xgb.predict(X_valid)"
   ]
  },
  {
   "cell_type": "code",
   "execution_count": null,
   "id": "ef97bd73-0044-4fd0-8acb-573c99b47dcf",
   "metadata": {
    "tags": []
   },
   "outputs": [],
   "source": [
    "plot_classification_report(y_valid, y_pred_valid, size=(5, 5))"
   ]
  },
  {
   "cell_type": "code",
   "execution_count": null,
   "id": "64c46999-8505-46b6-b318-9195049327a3",
   "metadata": {},
   "outputs": [],
   "source": [
    "plot_curves(y_valid, y_pred_valid)"
   ]
  },
  {
   "cell_type": "code",
   "execution_count": null,
   "id": "f33b3485-cc06-49be-8e5e-97955d43be2c",
   "metadata": {},
   "outputs": [],
   "source": [
    "from sklearn.metrics import classification_report"
   ]
  },
  {
   "cell_type": "markdown",
   "id": "f9918c52-1024-4242-9358-9cc00a2063b8",
   "metadata": {},
   "source": [
    "# Prediction"
   ]
  },
  {
   "cell_type": "code",
   "execution_count": null,
   "id": "3d7757de",
   "metadata": {},
   "outputs": [],
   "source": [
    "test  = pd.read_csv(\"data/test.csv\")"
   ]
  },
  {
   "cell_type": "code",
   "execution_count": null,
   "id": "5cc5df07",
   "metadata": {},
   "outputs": [],
   "source": [
    "train "
   ]
  },
  {
   "cell_type": "code",
   "execution_count": null,
   "id": "5d63a599",
   "metadata": {
    "tags": []
   },
   "outputs": [],
   "source": [
    "test_transformed = pipeline.transform(test)\n",
    "X_test = test_transformed[[col for col in train_transformed.columns if col != \"Survived\"]]"
   ]
  },
  {
   "cell_type": "code",
   "execution_count": null,
   "id": "9a90b7e2",
   "metadata": {
    "tags": []
   },
   "outputs": [],
   "source": [
    "y_preds = xgb.predict(X_test)"
   ]
  },
  {
   "cell_type": "code",
   "execution_count": null,
   "id": "9f5263aa",
   "metadata": {},
   "outputs": [],
   "source": [
    "output = pd.DataFrame({'PassengerId': X_test.PassengerId, 'Survived': y_preds})\n",
    "output.to_csv('my_submission.csv', index=False)"
   ]
  }
 ],
 "metadata": {
  "kernelspec": {
   "display_name": "Python 3 (ipykernel)",
   "language": "python",
   "name": "python3"
  },
  "language_info": {
   "codemirror_mode": {
    "name": "ipython",
    "version": 3
   },
   "file_extension": ".py",
   "mimetype": "text/x-python",
   "name": "python",
   "nbconvert_exporter": "python",
   "pygments_lexer": "ipython3",
   "version": "3.7.9"
  },
  "toc": {
   "base_numbering": 1,
   "nav_menu": {},
   "number_sections": true,
   "sideBar": true,
   "skip_h1_title": false,
   "title_cell": "Table of Contents",
   "title_sidebar": "Contents",
   "toc_cell": false,
   "toc_position": {},
   "toc_section_display": true,
   "toc_window_display": true
  },
  "toc-autonumbering": true,
  "toc-showmarkdowntxt": false
 },
 "nbformat": 4,
 "nbformat_minor": 5
}
