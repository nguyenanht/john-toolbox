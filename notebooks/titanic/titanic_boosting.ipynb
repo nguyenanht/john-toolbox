{
 "cells": [
  {
   "cell_type": "markdown",
   "id": "941dfb59",
   "metadata": {},
   "source": [
    "<div class=\"alert alert-info\">It is a end to end tutorial to see how you can preprocess the data and use data science plot to evaluate the model\n",
    "    </div>"
   ]
  },
  {
   "cell_type": "code",
   "execution_count": null,
   "id": "a5fb79ac",
   "metadata": {},
   "outputs": [],
   "source": [
    "%load_ext autoreload\n",
    "%autoreload 2"
   ]
  },
  {
   "cell_type": "code",
   "execution_count": null,
   "id": "0489b951",
   "metadata": {},
   "outputs": [],
   "source": [
    "import pandas as pd\n",
    "import numpy as np\n",
    "from xgboost import XGBClassifier"
   ]
  },
  {
   "cell_type": "code",
   "execution_count": null,
   "id": "dfcc899b",
   "metadata": {},
   "outputs": [],
   "source": [
    "from john_toolbox.utils.logger_config import setup_log_config\n",
    "\n",
    "setup_log_config(is_dev=True, level=\"INFO\")"
   ]
  },
  {
   "cell_type": "markdown",
   "id": "ca626f76-579c-42c2-b8c1-25a619f30d59",
   "metadata": {},
   "source": [
    "# Load data"
   ]
  },
  {
   "cell_type": "code",
   "execution_count": null,
   "id": "f7218f90",
   "metadata": {},
   "outputs": [],
   "source": [
    "train = pd.read_csv(\"/work/data/titanic/train.csv\")\n",
    "test = pd.read_csv(\"/work/data/titanic/test.csv\")"
   ]
  },
  {
   "cell_type": "code",
   "execution_count": null,
   "id": "2a7183f1",
   "metadata": {},
   "outputs": [],
   "source": [
    "train.head()"
   ]
  },
  {
   "cell_type": "markdown",
   "id": "d0ed5b8a-349c-4d48-86de-818083c9c9e2",
   "metadata": {},
   "source": [
    "# Data Viz"
   ]
  },
  {
   "cell_type": "code",
   "execution_count": null,
   "id": "c0ab32fa",
   "metadata": {
    "scrolled": true
   },
   "outputs": [],
   "source": [
    "# from dataprep.eda import create_report\n",
    "\n",
    "# create_report(train).show()"
   ]
  },
  {
   "cell_type": "code",
   "execution_count": null,
   "id": "45e1e49e",
   "metadata": {},
   "outputs": [],
   "source": [
    "train.columns"
   ]
  },
  {
   "cell_type": "code",
   "execution_count": null,
   "id": "6c37fb3e",
   "metadata": {},
   "outputs": [],
   "source": [
    "# from dataprep.eda import plot, plot_correlation, plot_missing\n",
    "\n",
    "# plot(train, \"Pclass\", \"Survived\")"
   ]
  },
  {
   "cell_type": "code",
   "execution_count": null,
   "id": "47841bd9",
   "metadata": {},
   "outputs": [],
   "source": [
    "# plot(train,\"Survived\", \"Pclass\")"
   ]
  },
  {
   "cell_type": "code",
   "execution_count": null,
   "id": "fc05f569",
   "metadata": {},
   "outputs": [],
   "source": [
    "# plot(train,\"Survived\", \"Pclass\")"
   ]
  },
  {
   "cell_type": "markdown",
   "id": "b40e6c50-9a58-4106-98c5-00231915eee6",
   "metadata": {},
   "source": [
    "# Train test split"
   ]
  },
  {
   "cell_type": "code",
   "execution_count": null,
   "id": "f70265e3-b2c8-40c6-be43-aef651b214a6",
   "metadata": {},
   "outputs": [],
   "source": [
    "target_name = \"Survived\""
   ]
  },
  {
   "cell_type": "code",
   "execution_count": null,
   "id": "cab1889c",
   "metadata": {},
   "outputs": [],
   "source": []
  },
  {
   "cell_type": "code",
   "execution_count": null,
   "id": "910d1a3b",
   "metadata": {},
   "outputs": [],
   "source": [
    "from john_toolbox.tutorial.binary.xgboost.preprocessing import extract_X_y\n",
    "from sklearn.model_selection import train_test_split"
   ]
  },
  {
   "cell_type": "code",
   "execution_count": null,
   "id": "c0e2e124-af88-48df-9da8-9bf8c01b93ac",
   "metadata": {},
   "outputs": [],
   "source": [
    "def extract_X_y(df, target_name):\n",
    "    X = df[[col for col in df.columns if col != target_name]]\n",
    "    y = df[[target_name]]\n",
    "    return X, y"
   ]
  },
  {
   "cell_type": "code",
   "execution_count": null,
   "id": "d29f9c1a",
   "metadata": {},
   "outputs": [],
   "source": []
  },
  {
   "cell_type": "code",
   "execution_count": null,
   "id": "99ae0224",
   "metadata": {},
   "outputs": [],
   "source": [
    "X, y = extract_X_y(train, target_name)\n",
    "\n",
    "X_train, X_valid, y_train, y_valid = train_test_split(\n",
    "    X, y,  test_size=0.2, random_state=42, shuffle=True, stratify=y)"
   ]
  },
  {
   "cell_type": "code",
   "execution_count": null,
   "id": "0007710a",
   "metadata": {},
   "outputs": [],
   "source": [
    "X_train.head()"
   ]
  },
  {
   "cell_type": "markdown",
   "id": "05052ee8",
   "metadata": {},
   "source": [
    "# Boosting"
   ]
  },
  {
   "cell_type": "markdown",
   "id": "e1b4adde-c03d-488e-9e22-ed3fabd07db4",
   "metadata": {},
   "source": [
    "## XGBoost"
   ]
  },
  {
   "cell_type": "markdown",
   "id": "b157c09e",
   "metadata": {},
   "source": [
    "<div class=\"alert alert-info\">\n",
    "XGBoost has become in 2017-2018 a widely used and really popular tool among Kaggle competitors and Data Scientists in industry, as it has been battle tested for production on large-scale problems. It is a highly flexible and versatile tool that can work through most regression, classification and ranking problems as well as user-built objective functions. As an open-source software.\n",
    "    \n",
    "https://www.kdnuggets.com/2017/10/xgboost-top-machine-learning-method-kaggle-explained.html\n",
    "    \n",
    "    \n",
    "But it can suffer from overfitting with small dataset.\n",
    "    \n",
    "Please refer to these links : \n",
    "- https://machinelearningmastery.com/gentle-introduction-xgboost-applied-machine-learning/\n",
    "- https://towardsdatascience.com/xgboost-mathematics-explained-58262530904a\n",
    "</div>"
   ]
  },
  {
   "cell_type": "markdown",
   "id": "ab498b4d",
   "metadata": {},
   "source": [
    "### Preprocessing"
   ]
  },
  {
   "cell_type": "code",
   "execution_count": null,
   "id": "d785290b",
   "metadata": {},
   "outputs": [],
   "source": [
    "from john_toolbox.preprocessing.pandas_pipeline import PandasPipeline\n",
    "from john_toolbox.tutorial.binary.xgboost.preprocessing import (\n",
    "    conformity_column_list,\n",
    "    data_cleaning_list,\n",
    "    encoder_list\n",
    ")"
   ]
  },
  {
   "cell_type": "markdown",
   "id": "f879d15e-4c77-4a8c-9c6a-e821fd6af9eb",
   "metadata": {},
   "source": [
    "#### Define PandasPipeline"
   ]
  },
  {
   "cell_type": "code",
   "execution_count": null,
   "id": "92e90d36",
   "metadata": {
    "cell_style": "center"
   },
   "outputs": [],
   "source": [
    "step_list = conformity_column_list + data_cleaning_list + encoder_list\n",
    "\n",
    "pipeline_xgb = PandasPipeline(\n",
    "    steps=step_list, target_name=target_name, verbose=True)"
   ]
  },
  {
   "cell_type": "markdown",
   "id": "206a23c9-c476-46ba-9b09-f40ec56cba4b",
   "metadata": {},
   "source": [
    "#### Fit transform on training set"
   ]
  },
  {
   "cell_type": "code",
   "execution_count": null,
   "id": "9e5fb0a8",
   "metadata": {
    "cell_style": "center"
   },
   "outputs": [],
   "source": [
    "train_transformed = pipeline_xgb.fit_transform(\n",
    "    df=pd.concat([X_train.copy(), y_train.copy()], axis=1))\n",
    "\n",
    "X_train_transformed, y_train_transformed = extract_X_y(train_transformed, target_name)"
   ]
  },
  {
   "cell_type": "code",
   "execution_count": null,
   "id": "eda69df6-c9e9-4e28-b413-44a55e14cb26",
   "metadata": {},
   "outputs": [],
   "source": [
    "X_train_transformed.head()"
   ]
  },
  {
   "cell_type": "markdown",
   "id": "ffe9da2d",
   "metadata": {},
   "source": [
    "#### Transform on valid set"
   ]
  },
  {
   "cell_type": "code",
   "execution_count": null,
   "id": "99bbd10e",
   "metadata": {},
   "outputs": [],
   "source": [
    "valid_transformed = pipeline_xgb.transform(\n",
    "    df=pd.concat([X_valid.copy(), y_valid.copy()], axis=1))\n",
    "\n",
    "X_valid_transformed, y_valid_transformed = extract_X_y(valid_transformed, target_name)"
   ]
  },
  {
   "cell_type": "markdown",
   "id": "3f5aa742-c3a3-4273-afac-696cf9ccd90c",
   "metadata": {},
   "source": [
    "### TRAIN with XGB"
   ]
  },
  {
   "cell_type": "code",
   "execution_count": null,
   "id": "549b8977-3ba8-4d5e-81fc-1d9b8fdac69d",
   "metadata": {},
   "outputs": [],
   "source": [
    "# https://www.kaggle.com/prashant111/a-guide-on-xgboost-hyperparameters-tuning\n",
    "# https://xgboost.readthedocs.io/en/latest/parameter.html"
   ]
  },
  {
   "cell_type": "code",
   "execution_count": null,
   "id": "fbf0af03",
   "metadata": {},
   "outputs": [],
   "source": [
    "y_train_transformed.value_counts(normalize=True)"
   ]
  },
  {
   "cell_type": "code",
   "execution_count": null,
   "id": "898ab4d8",
   "metadata": {},
   "outputs": [],
   "source": [
    "from xgboost import XGBClassifier\n",
    "\n",
    "eval_metric = [\"logloss\", \"auc\"]\n",
    "eval_names = [\"train\", \"valid\"]\n",
    "\n",
    "params = {\n",
    "    \"booster\": \"gbtree\", # default\n",
    "    \"n_estimators\": 1000,\n",
    "    \"max_depth\": 6,\n",
    "    \"min_child_weight\": 1,\n",
    "    \"eta\":0.1,\n",
    "    \"scale_pos_weight\": 1,\n",
    "    \"subsample\": 0.8,\n",
    "    \"colsample_bytree\": 1,\n",
    "    \"random_state\": 42,\n",
    "    \"n_jobs\": -1,\n",
    "    \"missing\": -1,    \n",
    "}\n",
    "xgb = XGBClassifier(**params)"
   ]
  },
  {
   "cell_type": "code",
   "execution_count": null,
   "id": "f2f15c62",
   "metadata": {
    "scrolled": true,
    "tags": []
   },
   "outputs": [],
   "source": [
    "xgb.fit(\n",
    "    X_train_transformed,\n",
    "    y_train_transformed.to_numpy().reshape(-1),\n",
    "    early_stopping_rounds=30,\n",
    "    eval_set=[(X_train_transformed, y_train_transformed.to_numpy().reshape(-1)),\n",
    "              (X_valid_transformed, y_valid_transformed.to_numpy().reshape(-1))],\n",
    "    eval_metric=eval_metric,\n",
    "    verbose=True\n",
    ")"
   ]
  },
  {
   "cell_type": "code",
   "execution_count": null,
   "id": "733400bf-f3c3-49f9-86dc-cabad7c8c440",
   "metadata": {},
   "outputs": [],
   "source": [
    "results = xgb.evals_result()\n",
    "best_iteration = xgb.best_iteration\n",
    "print(f\"Best Iteration: {best_iteration}\")\n",
    "{\n",
    "    eval_name: {key: val[xgb.best_iteration] for key, val in values.items()}\n",
    "    for eval_name, values in results.items()\n",
    "}"
   ]
  },
  {
   "cell_type": "markdown",
   "id": "e694e4ea",
   "metadata": {},
   "source": [
    "### k-Fold Cross-Validation"
   ]
  },
  {
   "cell_type": "code",
   "execution_count": null,
   "id": "e7e3b82b",
   "metadata": {},
   "outputs": [],
   "source": [
    "# # scikit-learn k-fold cross-validation\n",
    "# from numpy import array\n",
    "# from sklearn.model_selection import KFold\n",
    "\n",
    "# # data sample\n",
    "# data = array([0.1, 0.2, 0.3, 0.4, 0.5, 0.6])\n",
    "# # prepare cross validation\n",
    "# kfold = KFold(n_splits=6, shuffle=True, random_state=1)\n",
    "# # enumerate splits\n",
    "# for train, test in kfold.split(data):\n",
    "#     print('train: %s, test: %s' % (data[train], data[test]))"
   ]
  },
  {
   "cell_type": "markdown",
   "id": "876d553a",
   "metadata": {},
   "source": [
    "## Catboost"
   ]
  },
  {
   "cell_type": "code",
   "execution_count": null,
   "id": "e20d6ae3",
   "metadata": {},
   "outputs": [],
   "source": [
    "from john_toolbox.preprocessing.pandas_pipeline import PandasPipeline\n",
    "from john_toolbox.tutorial.binary.xgboost.preprocessing import (\n",
    "    conformity_column_list,\n",
    "    data_cleaning_list,\n",
    "    encoder_list\n",
    ")\n",
    "from catboost import CatBoostClassifier"
   ]
  },
  {
   "cell_type": "markdown",
   "id": "e45acfd6",
   "metadata": {},
   "source": [
    "Catboost is newer and has the advantage to handle natively categorical column. So no need to do one hot encoding. It Reduce overfitting when constructing the models with a novel gradient-boosting scheme.\n",
    "It can be used in GPU mode.\n",
    "- https://towardsdatascience.com/catboost-vs-light-gbm-vs-xgboost-5f93620723db\n",
    "- https://catboost.ai/#benchmark\n",
    "- https://github.com/catboost/tutorials\n",
    "- https://www.kaggle.com/mitribunskiy/tutorial-catboost-overview\n",
    "- https://towardsdatascience.com/categorical-features-parameters-in-catboost-4ebd1326bee5"
   ]
  },
  {
   "cell_type": "code",
   "execution_count": null,
   "id": "67cd96c3",
   "metadata": {},
   "outputs": [],
   "source": [
    "train = pd.read_csv(\"/work/data/titanic/train.csv\")\n",
    "test = pd.read_csv(\"/work/data/titanic/test.csv\")"
   ]
  },
  {
   "cell_type": "markdown",
   "id": "cbaf33d8",
   "metadata": {},
   "source": [
    "### Preprocessing"
   ]
  },
  {
   "cell_type": "code",
   "execution_count": null,
   "id": "b85cd0e6",
   "metadata": {},
   "outputs": [],
   "source": [
    "X, y = extract_X_y(train, target_name)\n",
    "\n",
    "X_train, X_valid, y_train, y_valid = train_test_split(\n",
    "    X, y,  test_size=0.2, random_state=42, shuffle=True, stratify=y)"
   ]
  },
  {
   "cell_type": "code",
   "execution_count": null,
   "id": "d959f197",
   "metadata": {},
   "outputs": [],
   "source": [
    "X_train"
   ]
  },
  {
   "cell_type": "code",
   "execution_count": null,
   "id": "fc707254",
   "metadata": {},
   "outputs": [],
   "source": [
    "# here we not use encoder_list that contains one hot encoding becasue catboost handle natively categorical columns\n",
    "step_list = conformity_column_list + data_cleaning_list\n",
    "\n",
    "pipeline_ctb = PandasPipeline(\n",
    "    steps=step_list, target_name=target_name, verbose=True)"
   ]
  },
  {
   "cell_type": "code",
   "execution_count": null,
   "id": "eda8136f",
   "metadata": {},
   "outputs": [],
   "source": [
    "train_transformed_ctb = pipeline_ctb.fit_transform(\n",
    "    df=pd.concat([X_train, y_train], axis=1))\n",
    "\n",
    "X_train_transformed_ctb, y_train_transformed_ctb = extract_X_y(train_transformed_ctb, target_name)"
   ]
  },
  {
   "cell_type": "code",
   "execution_count": null,
   "id": "27eac836",
   "metadata": {},
   "outputs": [],
   "source": [
    "X_train_transformed_ctb"
   ]
  },
  {
   "cell_type": "code",
   "execution_count": null,
   "id": "7379dbed",
   "metadata": {},
   "outputs": [],
   "source": [
    "valid_transformed_ctb = pipeline_ctb.transform(\n",
    "    df=pd.concat([X_valid, y_valid], axis=1))\n",
    "\n",
    "X_valid_transformed_ctb, y_valid_transformed_ctb = extract_X_y(valid_transformed_ctb, target_name)"
   ]
  },
  {
   "cell_type": "markdown",
   "id": "6448071b",
   "metadata": {},
   "source": [
    "#### get categorical columns"
   ]
  },
  {
   "cell_type": "code",
   "execution_count": null,
   "id": "315efabd",
   "metadata": {},
   "outputs": [],
   "source": [
    "from john_toolbox.preprocessing.utils import get_idx_cat_columns\n",
    "\n",
    "\n",
    "idx_cols_mapping = get_idx_cat_columns(X_train_transformed_ctb)"
   ]
  },
  {
   "cell_type": "code",
   "execution_count": null,
   "id": "6b3e768f",
   "metadata": {},
   "outputs": [],
   "source": [
    "X_train_transformed_ctb.columns"
   ]
  },
  {
   "cell_type": "code",
   "execution_count": null,
   "id": "ed9ef49b",
   "metadata": {},
   "outputs": [],
   "source": [
    "# cat_features_names = X.columns # here we specify names of categorical features\n",
    "# cat_features = [X.columns.get_loc(col) for col in cat_features_names]\n",
    "# print(cat_features)"
   ]
  },
  {
   "cell_type": "code",
   "execution_count": null,
   "id": "3174681d",
   "metadata": {},
   "outputs": [],
   "source": [
    "idx_cat_cols = idx_cols_mapping[\"idx_cols\"]\n",
    "cat_cols = idx_cols_mapping[\"cat_cols\"]"
   ]
  },
  {
   "cell_type": "code",
   "execution_count": null,
   "id": "18ba58f0",
   "metadata": {
    "scrolled": false
   },
   "outputs": [],
   "source": [
    "params = {\n",
    "    \"iterations\": 1000,\n",
    "    'verbose': 200,\n",
    "    'random_seed': 42,\n",
    "    \"od_wait\": 100, # 'early_stopping_rounds': 200,\n",
    "    \"learning_rate\": 0.01,\n",
    "    # \"task_type\": \"GPU\",\n",
    "    'loss_function': 'Logloss',\n",
    "    \"one_hot_max_size\": 1000,\n",
    "    'custom_metric': [\"Logloss\", \"AUC\", \"PRAUC\"],\n",
    "}\n",
    "\n",
    "cbc = CatBoostClassifier(**params)\n",
    "\n",
    "\n",
    "cbc.fit(X_train_transformed_ctb, y_train_transformed_ctb,\n",
    "        eval_set=(X_valid_transformed_ctb, y_valid_transformed_ctb),\n",
    "        cat_features=idx_cat_cols,\n",
    "        use_best_model=True,\n",
    "        plot=True\n",
    "        );"
   ]
  },
  {
   "cell_type": "code",
   "execution_count": null,
   "id": "ff5d07d8",
   "metadata": {},
   "outputs": [],
   "source": [
    "cbc.get_best_score()"
   ]
  },
  {
   "cell_type": "code",
   "execution_count": null,
   "id": "d3cc4186",
   "metadata": {},
   "outputs": [],
   "source": [
    "X_train_transformed_ctb.columns"
   ]
  },
  {
   "cell_type": "code",
   "execution_count": null,
   "id": "0e89465f",
   "metadata": {
    "scrolled": false
   },
   "outputs": [],
   "source": [
    "cbc.calc_feature_statistics(\n",
    "    X_train_transformed_ctb,\n",
    "    y_train_transformed_ctb,\n",
    "    feature=['Pclass', 'Sex', 'SibSp', 'Parch', 'Fare', \"Age\"],\n",
    "    plot=True,\n",
    ");"
   ]
  },
  {
   "cell_type": "markdown",
   "id": "9eae0fb3",
   "metadata": {},
   "source": [
    "https://towardsdatascience.com/smarter-ways-to-encode-categorical-data-for-machine-learning-part-1-of-3-6dca2f71b159"
   ]
  },
  {
   "cell_type": "markdown",
   "id": "ba67cf0c-cb30-4a8f-a23c-1c6ebc398b89",
   "metadata": {},
   "source": [
    "# Evaluation"
   ]
  },
  {
   "cell_type": "code",
   "execution_count": null,
   "id": "38edc8c6-153e-4192-9b47-951a1884aeda",
   "metadata": {},
   "outputs": [],
   "source": [
    "from john_toolbox.evaluation.visualisation import (\n",
    "    plot_auc_curves,\n",
    "    plot_classification_report,\n",
    "    compare_eval_result_xgb,\n",
    "    plot_cm,\n",
    ")"
   ]
  },
  {
   "cell_type": "markdown",
   "id": "84d99768-3837-487e-a25f-7906b48f829e",
   "metadata": {},
   "source": [
    "## Analyse training eval_metric"
   ]
  },
  {
   "cell_type": "code",
   "execution_count": null,
   "id": "5c8c1242-750e-48e3-9966-ff2558f422ae",
   "metadata": {},
   "outputs": [],
   "source": [
    "print(f\"eval_names : {eval_names}, eval_metric :  {eval_metric}\")\n",
    "\n",
    "compare_eval_result_xgb(\n",
    "    xgb,\n",
    "    eval_names=eval_names,\n",
    "    eval_metrics=eval_metric,\n",
    "    size=(10, 4)\n",
    ")"
   ]
  },
  {
   "cell_type": "markdown",
   "id": "7d13fccf-01ee-4c3a-baa9-dc34d2421175",
   "metadata": {},
   "source": [
    "## Evaluate valid set"
   ]
  },
  {
   "cell_type": "code",
   "execution_count": null,
   "id": "1c4d0816",
   "metadata": {},
   "outputs": [],
   "source": [
    "X_valid.shape"
   ]
  },
  {
   "cell_type": "code",
   "execution_count": null,
   "id": "7fe3b3b2",
   "metadata": {},
   "outputs": [],
   "source": [
    "y_pred_valid_prob = xgb.predict_proba(X_valid_transformed)[:, 1]"
   ]
  },
  {
   "cell_type": "markdown",
   "id": "45c2e795",
   "metadata": {},
   "source": [
    "### Get best threshold"
   ]
  },
  {
   "cell_type": "markdown",
   "id": "767ce2ea",
   "metadata": {},
   "source": [
    "#### Optimize with the default value roc_curve or prauc_curve"
   ]
  },
  {
   "cell_type": "code",
   "execution_count": null,
   "id": "397ac181",
   "metadata": {},
   "outputs": [],
   "source": [
    "from john_toolbox.evaluation.metrics import get_optimal_threshold\n",
    "\n",
    "roc_curve_tresh = get_optimal_threshold(y_valid, y_pred_valid_prob, \"roc_curve\")\n",
    "prauc_curve_tresh = get_optimal_threshold(y_valid, y_pred_valid_prob, \"prauc_curve\")"
   ]
  },
  {
   "cell_type": "markdown",
   "id": "89cf1ea0",
   "metadata": {},
   "source": [
    "#### Optimize with custom metric function"
   ]
  },
  {
   "cell_type": "code",
   "execution_count": null,
   "id": "f28eb80c",
   "metadata": {},
   "outputs": [],
   "source": [
    "from sklearn.metrics import f1_score\n",
    "\n",
    "custom_tresh = get_optimal_threshold(y_valid, y_pred_valid_prob, metric_func=f1_score, is_maximize=True)"
   ]
  },
  {
   "cell_type": "code",
   "execution_count": null,
   "id": "4e38bce3-76d6-4673-8f45-1782ba86ad6b",
   "metadata": {},
   "outputs": [],
   "source": [
    "from john_toolbox.evaluation.metrics import to_labels\n",
    "\n",
    "y_pred_valid = to_labels(y_pred_valid_prob, roc_curve_tresh) # roc_curve_tresh, prauc_curve_tresh, custom_tresh"
   ]
  },
  {
   "cell_type": "code",
   "execution_count": null,
   "id": "cdad3f46-969c-41ea-bd90-6c2bdd70b3f5",
   "metadata": {},
   "outputs": [],
   "source": [
    "plot_cm(y_valid, y_pred_valid, figsize=(5, 5))"
   ]
  },
  {
   "cell_type": "code",
   "execution_count": null,
   "id": "ef97bd73-0044-4fd0-8acb-573c99b47dcf",
   "metadata": {
    "tags": []
   },
   "outputs": [],
   "source": [
    "plot_classification_report(y_valid, y_pred_valid, size=(5, 5))"
   ]
  },
  {
   "cell_type": "code",
   "execution_count": null,
   "id": "64c46999-8505-46b6-b318-9195049327a3",
   "metadata": {},
   "outputs": [],
   "source": [
    "plot_auc_curves(y_valid, y_pred_valid)"
   ]
  },
  {
   "cell_type": "markdown",
   "id": "3faaf595",
   "metadata": {},
   "source": [
    "## Evaluate train set"
   ]
  },
  {
   "cell_type": "code",
   "execution_count": null,
   "id": "0b03c08f",
   "metadata": {},
   "outputs": [],
   "source": [
    "y_pred_train_prob = xgb.predict_proba(X_train_transformed)[:, 1]\n",
    "y_pred_train = to_labels(y_pred_train_prob, roc_curve_tresh) # roc_curve_tresh, prauc_curve_tresh, custom_tresh"
   ]
  },
  {
   "cell_type": "markdown",
   "id": "29c551ac",
   "metadata": {},
   "source": [
    "### Confusion matrix"
   ]
  },
  {
   "cell_type": "code",
   "execution_count": null,
   "id": "6ebe6f4b",
   "metadata": {},
   "outputs": [],
   "source": [
    "# https://www.kaggle.com/agungor2/various-confusion-matrix-plots\n",
    "plot_cm(y_train, y_pred_train, figsize=(5, 5))"
   ]
  },
  {
   "cell_type": "markdown",
   "id": "3a33cf76",
   "metadata": {},
   "source": [
    "### classification_report"
   ]
  },
  {
   "cell_type": "code",
   "execution_count": null,
   "id": "7b197e4c",
   "metadata": {},
   "outputs": [],
   "source": [
    "plot_classification_report(y_train, y_pred_train, size=(5, 5))"
   ]
  },
  {
   "cell_type": "code",
   "execution_count": null,
   "id": "1e3f570a",
   "metadata": {},
   "outputs": [],
   "source": [
    "plot_auc_curves(y_train, y_pred_train)"
   ]
  },
  {
   "cell_type": "markdown",
   "id": "f9918c52-1024-4242-9358-9cc00a2063b8",
   "metadata": {},
   "source": [
    "# Prediction"
   ]
  },
  {
   "cell_type": "code",
   "execution_count": null,
   "id": "b2d79ec5",
   "metadata": {},
   "outputs": [],
   "source": [
    "test_transformed = pipeline_xgb.transform(test)"
   ]
  },
  {
   "cell_type": "code",
   "execution_count": null,
   "id": "61ba0b5e",
   "metadata": {},
   "outputs": [],
   "source": [
    "X_test = test_transformed[[col for col in train_transformed.columns if col != \"Survived\"]]"
   ]
  },
  {
   "cell_type": "code",
   "execution_count": null,
   "id": "5d63a599",
   "metadata": {
    "tags": []
   },
   "outputs": [],
   "source": [
    "test_transformed = pipeline_xgb.transform(test)\n",
    "test_transformed.head()"
   ]
  },
  {
   "cell_type": "code",
   "execution_count": null,
   "id": "9a90b7e2",
   "metadata": {
    "tags": []
   },
   "outputs": [],
   "source": [
    "y_preds = to_labels(xgb.predict_proba(X_test)[:, 1], roc_curve_tresh) # roc_curve_tresh, prauc_curve_tresh, custom_tresh)"
   ]
  },
  {
   "cell_type": "code",
   "execution_count": null,
   "id": "9f5263aa",
   "metadata": {},
   "outputs": [],
   "source": [
    "output = pd.DataFrame({'PassengerId': X_test.PassengerId, 'Survived': y_preds})\n",
    "output.to_csv('my_submission.csv', index=False)"
   ]
  }
 ],
 "metadata": {
  "kernelspec": {
   "display_name": "Python 3 (ipykernel)",
   "language": "python",
   "name": "python3"
  },
  "language_info": {
   "codemirror_mode": {
    "name": "ipython",
    "version": 3
   },
   "file_extension": ".py",
   "mimetype": "text/x-python",
   "name": "python",
   "nbconvert_exporter": "python",
   "pygments_lexer": "ipython3",
   "version": "3.8.0"
  },
  "toc": {
   "base_numbering": 1,
   "nav_menu": {},
   "number_sections": true,
   "sideBar": true,
   "skip_h1_title": false,
   "title_cell": "Table of Contents",
   "title_sidebar": "Contents",
   "toc_cell": false,
   "toc_position": {},
   "toc_section_display": true,
   "toc_window_display": true
  },
  "toc-autonumbering": true,
  "toc-showmarkdowntxt": false,
  "toc-showtags": false
 },
 "nbformat": 4,
 "nbformat_minor": 5
}
